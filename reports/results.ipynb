{
 "cells": [
  {
   "cell_type": "markdown",
   "metadata": {},
   "source": [
    "# Results\n",
    "\n"
   ]
  },
  {
   "cell_type": "markdown",
   "metadata": {},
   "source": [
    "For each subreddit-specific dataset of processed data we computed Wilcoxon rank-sum statistic (also referred to as the Mann-Whitney-Wilcoxon rank-sum), comparing the difference in median number of references to substance abuse per reddit-post in the 'pre-COVID' and 'post-COVID' datasets. In our test we employ Scipy stats packages' `ranksums` method {cite:p}`2020SciPy-NMeth`.\n",
    "\n",
    "According to [Scipy documentation](https://docs.scipy.org/doc/scipy/reference/generated/scipy.stats.ranksums.html):\n",
    "> We can test the hypothesis that two independent unequal-sized samples are drawn from the same distribution with computing the Wilcoxon rank-sum statistic.\n",
    "\n",
    "And according to [this ISIXSIGMA article](https://www.isixsigma.com/tools-templates/hypothesis-testing/making-sense-mann-whitney-test-median-comparison/)\n",
    "> The Mann-Whitney test compares the medians from two populations and works when the Y variable is continuous, discrete-ordinal or discrete-count, and the X variable is discrete with two attributes.\n",
    "\n",
    "While this test may not exactly fit our use case for reasons unknown to us - we do not have any better guidance at this point as to choosing a more well-suited test for the purpose of measuring a statistically significant difference in medians between these two datasets."
   ]
  },
  {
   "cell_type": "markdown",
   "metadata": {},
   "source": [
    "Using the Wilcoxon rank-sum test, we can set up our hypotheses for this test as follows:\n",
    "\n",
    "$H_0:$ median number of references to substance abuse per reddit-post is the same in subreddit-specific 'pre-COVID' and 'post-COVID' datasets.\n",
    "\n",
    "$H_a:$ median number of references to substance abuse per reddit-post is **not** the same in subreddit-specific 'pre-COVID' and 'post-COVID' datasets."
   ]
  },
  {
   "cell_type": "code",
   "execution_count": 38,
   "metadata": {},
   "outputs": [
    {
     "data": {
      "text/html": [
       "<div>\n",
       "<style scoped>\n",
       "    .dataframe tbody tr th:only-of-type {\n",
       "        vertical-align: middle;\n",
       "    }\n",
       "\n",
       "    .dataframe tbody tr th {\n",
       "        vertical-align: top;\n",
       "    }\n",
       "\n",
       "    .dataframe thead th {\n",
       "        text-align: right;\n",
       "    }\n",
       "</style>\n",
       "<table border=\"1\" class=\"dataframe\">\n",
       "  <thead>\n",
       "    <tr style=\"text-align: right;\">\n",
       "      <th></th>\n",
       "      <th>subreddit_topic</th>\n",
       "      <th>test_statistic</th>\n",
       "      <th>p_value</th>\n",
       "    </tr>\n",
       "  </thead>\n",
       "  <tbody>\n",
       "    <tr>\n",
       "      <th>0</th>\n",
       "      <td>addiction</td>\n",
       "      <td>-0.481856</td>\n",
       "      <td>0.629908</td>\n",
       "    </tr>\n",
       "    <tr>\n",
       "      <th>1</th>\n",
       "      <td>adhd</td>\n",
       "      <td>2.955800</td>\n",
       "      <td>0.003119</td>\n",
       "    </tr>\n",
       "    <tr>\n",
       "      <th>2</th>\n",
       "      <td>alcoholism</td>\n",
       "      <td>1.407757</td>\n",
       "      <td>0.159203</td>\n",
       "    </tr>\n",
       "    <tr>\n",
       "      <th>3</th>\n",
       "      <td>anxiety</td>\n",
       "      <td>1.112075</td>\n",
       "      <td>0.266106</td>\n",
       "    </tr>\n",
       "    <tr>\n",
       "      <th>4</th>\n",
       "      <td>autism</td>\n",
       "      <td>1.358547</td>\n",
       "      <td>0.174290</td>\n",
       "    </tr>\n",
       "    <tr>\n",
       "      <th>5</th>\n",
       "      <td>bipolarreddit</td>\n",
       "      <td>-0.692095</td>\n",
       "      <td>0.488878</td>\n",
       "    </tr>\n",
       "    <tr>\n",
       "      <th>6</th>\n",
       "      <td>bpd</td>\n",
       "      <td>-0.454428</td>\n",
       "      <td>0.649521</td>\n",
       "    </tr>\n",
       "    <tr>\n",
       "      <th>7</th>\n",
       "      <td>depression</td>\n",
       "      <td>-1.693505</td>\n",
       "      <td>0.090359</td>\n",
       "    </tr>\n",
       "    <tr>\n",
       "      <th>8</th>\n",
       "      <td>EDAnonymous</td>\n",
       "      <td>1.922717</td>\n",
       "      <td>0.054516</td>\n",
       "    </tr>\n",
       "    <tr>\n",
       "      <th>9</th>\n",
       "      <td>healthanxiety</td>\n",
       "      <td>0.184029</td>\n",
       "      <td>0.853990</td>\n",
       "    </tr>\n",
       "    <tr>\n",
       "      <th>10</th>\n",
       "      <td>lonely</td>\n",
       "      <td>2.041229</td>\n",
       "      <td>0.041228</td>\n",
       "    </tr>\n",
       "    <tr>\n",
       "      <th>11</th>\n",
       "      <td>ptsd</td>\n",
       "      <td>0.551019</td>\n",
       "      <td>0.581621</td>\n",
       "    </tr>\n",
       "    <tr>\n",
       "      <th>12</th>\n",
       "      <td>schizophrenia</td>\n",
       "      <td>0.246796</td>\n",
       "      <td>0.805066</td>\n",
       "    </tr>\n",
       "    <tr>\n",
       "      <th>13</th>\n",
       "      <td>socialanxiety</td>\n",
       "      <td>0.990075</td>\n",
       "      <td>0.322138</td>\n",
       "    </tr>\n",
       "    <tr>\n",
       "      <th>14</th>\n",
       "      <td>suicidewatch</td>\n",
       "      <td>-1.643746</td>\n",
       "      <td>0.100229</td>\n",
       "    </tr>\n",
       "  </tbody>\n",
       "</table>\n",
       "</div>"
      ],
      "text/plain": [
       "   subreddit_topic  test_statistic   p_value\n",
       "0        addiction       -0.481856  0.629908\n",
       "1             adhd        2.955800  0.003119\n",
       "2       alcoholism        1.407757  0.159203\n",
       "3          anxiety        1.112075  0.266106\n",
       "4           autism        1.358547  0.174290\n",
       "5    bipolarreddit       -0.692095  0.488878\n",
       "6              bpd       -0.454428  0.649521\n",
       "7       depression       -1.693505  0.090359\n",
       "8      EDAnonymous        1.922717  0.054516\n",
       "9    healthanxiety        0.184029  0.853990\n",
       "10          lonely        2.041229  0.041228\n",
       "11            ptsd        0.551019  0.581621\n",
       "12   schizophrenia        0.246796  0.805066\n",
       "13   socialanxiety        0.990075  0.322138\n",
       "14    suicidewatch       -1.643746  0.100229"
      ]
     },
     "execution_count": 38,
     "metadata": {
	  "tags": [
	   "remove-input"
	  ]
	 },
     "output_type": "execute_result"
    }
   ],
   "source": [
    "import pandas as pd\n",
    "import os\n",
    "os.chdir('../analysis')\n",
    "results = pd.read_csv('stat_tests/stat_tests.csv')\n",
    "results.columns = ['subreddit_topic', 'test_statistic', 'p_value']\n",
    "results"
   ]
  },
  {
   "cell_type": "markdown",
   "metadata": {},
   "source": [
    "Given we set a standard threshold $\\alpha = 0.05$ for statistical significance, the conclusions we may be able to draw from these results are:\n",
    "- r/adhd and r/lonely saw a statistically significant difference between median number of references to substance abuse per reddit-post when comparing the 'pre-COVID' and 'post-COVID' datasets   \n",
    "- the remaining subreddits tested showed no statistically significant difference between median number of references to substance abuse per reddit-post when comparing the 'pre-COVID' and 'post-COVID' datasets."
   ]
  },
  {
   "cell_type": "code",
   "execution_count": null,
   "metadata": {},
   "outputs": [],
   "source": []
  }
 ],
 "metadata": {
  "celltoolbar": "Tags",
  "interpreter": {
   "hash": "62d3735a9fd8dd6ee13e45d1616ed7f994f6c0c5285e057d5fed1df4a3792bd6"
  },
  "kernelspec": {
   "display_name": "Python 3",
   "language": "python",
   "name": "python3"
  },
  "language_info": {
   "codemirror_mode": {
    "name": "ipython",
    "version": 3
   },
   "file_extension": ".py",
   "mimetype": "text/x-python",
   "name": "python",
   "nbconvert_exporter": "python",
   "pygments_lexer": "ipython3",
   "version": "3.9.5"
  }
 },
 "nbformat": 4,
 "nbformat_minor": 2
}
