{
 "cells": [
  {
   "cell_type": "markdown",
   "metadata": {},
   "source": [
    "# Results\n",
    "\n"
   ]
  },
  {
   "cell_type": "markdown",
   "metadata": {},
   "source": [
    "For each subreddit-specific dataset of processed data we computed Wilcoxon rank-sum statistic (also referred to as the Mann-Whitney-Wilcoxon rank-sum), comparing the difference in median number of references to substance abuse per reddit-post in the 'pre-COVID' and 'post-COVID' datasets. In our test we employ Scipy stats packages' `ranksums` method {cite:p}`2020SciPy-NMeth`.\n",
    "\n",
    "According to [Scipy documentation](https://docs.scipy.org/doc/scipy/reference/generated/scipy.stats.ranksums.html):\n",
    "> We can test the hypothesis that two independent unequal-sized samples are drawn from the same distribution with computing the Wilcoxon rank-sum statistic.\n",
    "\n",
    "And according to [this ISIXSIGMA article](https://www.isixsigma.com/tools-templates/hypothesis-testing/making-sense-mann-whitney-test-median-comparison/)\n",
    "> The Mann-Whitney test compares the medians from two populations and works when the Y variable is continuous, discrete-ordinal or discrete-count, and the X variable is discrete with two attributes.\n",
    "\n",
    "While this test may not exactly fit our use case for reasons unknown to us - we do not have any better guidance at this point as to choosing a more well-suited test for the purpose of measuring a statistically significant difference in medians between these two datasets."
   ]
  },
  {
   "cell_type": "markdown",
   "metadata": {},
   "source": [
    "Using the Wilcoxon rank-sum test, we can set up our hypotheses for this test as follows:\n",
    "\n",
    "$H_0:$ median number of references to substance abuse per reddit-post is the same in subreddit-specific 'pre-COVID' and 'post-COVID' datasets.\n",
    "\n",
    "$H_a:$ median number of references to substance abuse per reddit-post is **not** the same in subreddit-specific 'pre-COVID' and 'post-COVID' datasets."
   ]
  },
  {
   "cell_type": "code",
   "execution_count": 1,
   "metadata": {},
   "outputs": [
    {
     "data": {
      "text/html": [
       "<div>\n",
       "<style scoped>\n",
       "    .dataframe tbody tr th:only-of-type {\n",
       "        vertical-align: middle;\n",
       "    }\n",
       "\n",
       "    .dataframe tbody tr th {\n",
       "        vertical-align: top;\n",
       "    }\n",
       "\n",
       "    .dataframe thead th {\n",
       "        text-align: right;\n",
       "    }\n",
       "</style>\n",
       "<table border=\"1\" class=\"dataframe\">\n",
       "  <thead>\n",
       "    <tr style=\"text-align: right;\">\n",
       "      <th></th>\n",
       "      <th>subreddit_topic</th>\n",
       "      <th>test_statistic</th>\n",
       "      <th>p_value</th>\n",
       "    </tr>\n",
       "  </thead>\n",
       "  <tbody>\n",
       "    <tr>\n",
       "      <th>0</th>\n",
       "      <td>data/processed/bipolarreddit</td>\n",
       "      <td>-0.692095</td>\n",
       "      <td>4.888776e-01</td>\n",
       "    </tr>\n",
       "    <tr>\n",
       "      <th>1</th>\n",
       "      <td>data/processed/EDAnonymous</td>\n",
       "      <td>1.922717</td>\n",
       "      <td>5.451560e-02</td>\n",
       "    </tr>\n",
       "    <tr>\n",
       "      <th>2</th>\n",
       "      <td>data/processed/socialanxiety</td>\n",
       "      <td>0.990075</td>\n",
       "      <td>3.221376e-01</td>\n",
       "    </tr>\n",
       "    <tr>\n",
       "      <th>3</th>\n",
       "      <td>data/processed/alcoholism</td>\n",
       "      <td>-1.407757</td>\n",
       "      <td>1.592032e-01</td>\n",
       "    </tr>\n",
       "    <tr>\n",
       "      <th>4</th>\n",
       "      <td>data/processed/lonely</td>\n",
       "      <td>-2.041229</td>\n",
       "      <td>4.122808e-02</td>\n",
       "    </tr>\n",
       "    <tr>\n",
       "      <th>5</th>\n",
       "      <td>data/processed/healthanxiety</td>\n",
       "      <td>0.184029</td>\n",
       "      <td>8.539905e-01</td>\n",
       "    </tr>\n",
       "    <tr>\n",
       "      <th>6</th>\n",
       "      <td>data/processed/ptsd</td>\n",
       "      <td>-0.551019</td>\n",
       "      <td>5.816208e-01</td>\n",
       "    </tr>\n",
       "    <tr>\n",
       "      <th>7</th>\n",
       "      <td>data/processed/suicidewatch</td>\n",
       "      <td>1.643746</td>\n",
       "      <td>1.002287e-01</td>\n",
       "    </tr>\n",
       "    <tr>\n",
       "      <th>8</th>\n",
       "      <td>data/processed/addiction</td>\n",
       "      <td>0.481856</td>\n",
       "      <td>6.299085e-01</td>\n",
       "    </tr>\n",
       "    <tr>\n",
       "      <th>9</th>\n",
       "      <td>data/processed/bpd</td>\n",
       "      <td>-0.454428</td>\n",
       "      <td>6.495209e-01</td>\n",
       "    </tr>\n",
       "    <tr>\n",
       "      <th>10</th>\n",
       "      <td>data/processed/autism</td>\n",
       "      <td>1.358547</td>\n",
       "      <td>1.742903e-01</td>\n",
       "    </tr>\n",
       "    <tr>\n",
       "      <th>11</th>\n",
       "      <td>data/processed/schizophrenia</td>\n",
       "      <td>0.246796</td>\n",
       "      <td>8.050664e-01</td>\n",
       "    </tr>\n",
       "    <tr>\n",
       "      <th>12</th>\n",
       "      <td>data/processed/adhd</td>\n",
       "      <td>2.955800</td>\n",
       "      <td>3.118593e-03</td>\n",
       "    </tr>\n",
       "    <tr>\n",
       "      <th>13</th>\n",
       "      <td>data/processed/depression</td>\n",
       "      <td>1.693505</td>\n",
       "      <td>9.035944e-02</td>\n",
       "    </tr>\n",
       "    <tr>\n",
       "      <th>14</th>\n",
       "      <td>data/processed/anxiety</td>\n",
       "      <td>6.492918</td>\n",
       "      <td>8.418971e-11</td>\n",
       "    </tr>\n",
       "  </tbody>\n",
       "</table>\n",
       "</div>"
      ],
      "text/plain": [
       "                 subreddit_topic  test_statistic       p_value\n",
       "0   data/processed/bipolarreddit       -0.692095  4.888776e-01\n",
       "1     data/processed/EDAnonymous        1.922717  5.451560e-02\n",
       "2   data/processed/socialanxiety        0.990075  3.221376e-01\n",
       "3      data/processed/alcoholism       -1.407757  1.592032e-01\n",
       "4          data/processed/lonely       -2.041229  4.122808e-02\n",
       "5   data/processed/healthanxiety        0.184029  8.539905e-01\n",
       "6            data/processed/ptsd       -0.551019  5.816208e-01\n",
       "7    data/processed/suicidewatch        1.643746  1.002287e-01\n",
       "8       data/processed/addiction        0.481856  6.299085e-01\n",
       "9             data/processed/bpd       -0.454428  6.495209e-01\n",
       "10         data/processed/autism        1.358547  1.742903e-01\n",
       "11  data/processed/schizophrenia        0.246796  8.050664e-01\n",
       "12           data/processed/adhd        2.955800  3.118593e-03\n",
       "13     data/processed/depression        1.693505  9.035944e-02\n",
       "14        data/processed/anxiety        6.492918  8.418971e-11"
      ]
     },
     "execution_count": 1,
     "metadata": {},
     "output_type": "execute_result"
    }
   ],
   "source": [
    "import pandas as pd\n",
    "import os\n",
    "os.chdir('../analysis')\n",
    "results = pd.read_csv('stat_tests/stat_tests.csv')\n",
    "results.columns = ['subreddit_topic', 'test_statistic', 'p_value']\n",
    "results"
   ]
  },
  {
   "cell_type": "markdown",
   "metadata": {},
   "source": [
    "Given we set a standard threshold $\\alpha = 0.05$ for statistical significance, the conclusions we may be able to draw from these results are:\n",
    "- r/adhd and r/lonely saw a statistically significant difference between median number of references to substance abuse per reddit-post when comparing the 'pre-COVID' and 'post-COVID' datasets   \n",
    "- the remaining subreddits tested showed no statistically significant difference between median number of references to substance abuse per reddit-post when comparing the 'pre-COVID' and 'post-COVID' datasets."
   ]
  },
  {
   "cell_type": "code",
   "execution_count": null,
   "metadata": {},
   "outputs": [],
   "source": []
  }
 ],
 "metadata": {
  "celltoolbar": "Tags",
  "interpreter": {
   "hash": "62d3735a9fd8dd6ee13e45d1616ed7f994f6c0c5285e057d5fed1df4a3792bd6"
  },
  "kernelspec": {
   "display_name": "Python 3",
   "language": "python",
   "name": "python3"
  },
  "language_info": {
   "codemirror_mode": {
    "name": "ipython",
    "version": 3
   },
   "file_extension": ".py",
   "mimetype": "text/x-python",
   "name": "python",
   "nbconvert_exporter": "python",
   "pygments_lexer": "ipython3",
   "version": "3.10.0"
  }
 },
 "nbformat": 4,
 "nbformat_minor": 2
}