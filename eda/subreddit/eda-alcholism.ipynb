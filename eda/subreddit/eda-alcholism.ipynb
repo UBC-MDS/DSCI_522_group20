{
 "cells": [
  {
   "cell_type": "code",
   "execution_count": 1,
   "metadata": {},
   "outputs": [
    {
     "data": {
      "text/plain": [
       "RendererRegistry.enable('mimetype')"
      ]
     },
     "execution_count": 1,
     "metadata": {},
     "output_type": "execute_result"
    }
   ],
   "source": [
    "import pandas as pd\n",
    "import altair as alt\n",
    "\n",
    "alt.data_transformers.enable('data_server')\n",
    "alt.renderers.enable('mimetype')"
   ]
  },
  {
   "cell_type": "code",
   "execution_count": 2,
   "metadata": {},
   "outputs": [],
   "source": [
    "alcoholism_pre = pd.read_csv('../../data/alcoholism_pre_features_tfidf_256.csv')\n",
    "alcoholism_post = pd.read_csv('../../data/alcoholism_post_features_tfidf_256.csv')"
   ]
  },
  {
   "cell_type": "code",
   "execution_count": 3,
   "metadata": {},
   "outputs": [
    {
     "data": {
      "text/html": [
       "<div>\n",
       "<style scoped>\n",
       "    .dataframe tbody tr th:only-of-type {\n",
       "        vertical-align: middle;\n",
       "    }\n",
       "\n",
       "    .dataframe tbody tr th {\n",
       "        vertical-align: top;\n",
       "    }\n",
       "\n",
       "    .dataframe thead th {\n",
       "        text-align: right;\n",
       "    }\n",
       "</style>\n",
       "<table border=\"1\" class=\"dataframe\">\n",
       "  <thead>\n",
       "    <tr style=\"text-align: right;\">\n",
       "      <th></th>\n",
       "      <th>subreddit</th>\n",
       "      <th>author</th>\n",
       "      <th>date</th>\n",
       "      <th>post</th>\n",
       "      <th>automated_readability_index</th>\n",
       "      <th>coleman_liau_index</th>\n",
       "      <th>flesch_kincaid_grade_level</th>\n",
       "      <th>flesch_reading_ease</th>\n",
       "      <th>gulpease_index</th>\n",
       "      <th>gunning_fog_index</th>\n",
       "      <th>...</th>\n",
       "      <th>tfidf_wish</th>\n",
       "      <th>tfidf_without</th>\n",
       "      <th>tfidf_wonder</th>\n",
       "      <th>tfidf_work</th>\n",
       "      <th>tfidf_worri</th>\n",
       "      <th>tfidf_wors</th>\n",
       "      <th>tfidf_would</th>\n",
       "      <th>tfidf_wrong</th>\n",
       "      <th>tfidf_x200b</th>\n",
       "      <th>tfidf_year</th>\n",
       "    </tr>\n",
       "  </thead>\n",
       "  <tbody>\n",
       "    <tr>\n",
       "      <th>0</th>\n",
       "      <td>alcoholism</td>\n",
       "      <td>RobynTacoo</td>\n",
       "      <td>2019/10/19</td>\n",
       "      <td>My husband offered me a glass of wine I turned...</td>\n",
       "      <td>-0.198667</td>\n",
       "      <td>2.104538</td>\n",
       "      <td>2.350000</td>\n",
       "      <td>90.088333</td>\n",
       "      <td>96.000000</td>\n",
       "      <td>4.666667</td>\n",
       "      <td>...</td>\n",
       "      <td>0.000000</td>\n",
       "      <td>0.479482</td>\n",
       "      <td>0.0</td>\n",
       "      <td>0.0</td>\n",
       "      <td>0.0</td>\n",
       "      <td>0.0</td>\n",
       "      <td>0.0</td>\n",
       "      <td>0.0</td>\n",
       "      <td>0.0</td>\n",
       "      <td>0.0</td>\n",
       "    </tr>\n",
       "    <tr>\n",
       "      <th>1</th>\n",
       "      <td>alcoholism</td>\n",
       "      <td>wolsinyourarea</td>\n",
       "      <td>2019/10/19</td>\n",
       "      <td>Feeling like a failure Broke my 2 week streak ...</td>\n",
       "      <td>1.037778</td>\n",
       "      <td>3.342263</td>\n",
       "      <td>1.905185</td>\n",
       "      <td>97.433333</td>\n",
       "      <td>84.185185</td>\n",
       "      <td>5.081481</td>\n",
       "      <td>...</td>\n",
       "      <td>0.000000</td>\n",
       "      <td>0.000000</td>\n",
       "      <td>0.0</td>\n",
       "      <td>0.0</td>\n",
       "      <td>0.0</td>\n",
       "      <td>0.0</td>\n",
       "      <td>0.0</td>\n",
       "      <td>0.0</td>\n",
       "      <td>0.0</td>\n",
       "      <td>0.0</td>\n",
       "    </tr>\n",
       "    <tr>\n",
       "      <th>2</th>\n",
       "      <td>alcoholism</td>\n",
       "      <td>glitterONeverything</td>\n",
       "      <td>2019/10/19</td>\n",
       "      <td>help! withdrawals are crazy!! I feel lije shit...</td>\n",
       "      <td>-0.188804</td>\n",
       "      <td>1.902164</td>\n",
       "      <td>1.454909</td>\n",
       "      <td>99.993668</td>\n",
       "      <td>87.840580</td>\n",
       "      <td>3.450000</td>\n",
       "      <td>...</td>\n",
       "      <td>0.000000</td>\n",
       "      <td>0.000000</td>\n",
       "      <td>0.0</td>\n",
       "      <td>0.0</td>\n",
       "      <td>0.0</td>\n",
       "      <td>0.0</td>\n",
       "      <td>0.0</td>\n",
       "      <td>0.0</td>\n",
       "      <td>0.0</td>\n",
       "      <td>0.0</td>\n",
       "    </tr>\n",
       "    <tr>\n",
       "      <th>3</th>\n",
       "      <td>alcoholism</td>\n",
       "      <td>Collector420</td>\n",
       "      <td>2019/10/19</td>\n",
       "      <td>God damn I (M17) wrote messages to almost 20 p...</td>\n",
       "      <td>5.092809</td>\n",
       "      <td>4.536881</td>\n",
       "      <td>6.599191</td>\n",
       "      <td>79.453393</td>\n",
       "      <td>68.438202</td>\n",
       "      <td>8.917753</td>\n",
       "      <td>...</td>\n",
       "      <td>0.000000</td>\n",
       "      <td>0.000000</td>\n",
       "      <td>0.0</td>\n",
       "      <td>0.0</td>\n",
       "      <td>0.0</td>\n",
       "      <td>0.0</td>\n",
       "      <td>0.0</td>\n",
       "      <td>0.0</td>\n",
       "      <td>0.0</td>\n",
       "      <td>0.0</td>\n",
       "    </tr>\n",
       "    <tr>\n",
       "      <th>4</th>\n",
       "      <td>alcoholism</td>\n",
       "      <td>engineerkoala</td>\n",
       "      <td>2019/10/19</td>\n",
       "      <td>How to have as much fun as before Today was my...</td>\n",
       "      <td>2.243046</td>\n",
       "      <td>4.724179</td>\n",
       "      <td>2.947451</td>\n",
       "      <td>90.752418</td>\n",
       "      <td>80.529412</td>\n",
       "      <td>4.248366</td>\n",
       "      <td>...</td>\n",
       "      <td>0.337441</td>\n",
       "      <td>0.000000</td>\n",
       "      <td>0.0</td>\n",
       "      <td>0.0</td>\n",
       "      <td>0.0</td>\n",
       "      <td>0.0</td>\n",
       "      <td>0.0</td>\n",
       "      <td>0.0</td>\n",
       "      <td>0.0</td>\n",
       "      <td>0.0</td>\n",
       "    </tr>\n",
       "  </tbody>\n",
       "</table>\n",
       "<p>5 rows × 350 columns</p>\n",
       "</div>"
      ],
      "text/plain": [
       "    subreddit               author        date  \\\n",
       "0  alcoholism           RobynTacoo  2019/10/19   \n",
       "1  alcoholism       wolsinyourarea  2019/10/19   \n",
       "2  alcoholism  glitterONeverything  2019/10/19   \n",
       "3  alcoholism         Collector420  2019/10/19   \n",
       "4  alcoholism        engineerkoala  2019/10/19   \n",
       "\n",
       "                                                post  \\\n",
       "0  My husband offered me a glass of wine I turned...   \n",
       "1  Feeling like a failure Broke my 2 week streak ...   \n",
       "2  help! withdrawals are crazy!! I feel lije shit...   \n",
       "3  God damn I (M17) wrote messages to almost 20 p...   \n",
       "4  How to have as much fun as before Today was my...   \n",
       "\n",
       "   automated_readability_index  coleman_liau_index  \\\n",
       "0                    -0.198667            2.104538   \n",
       "1                     1.037778            3.342263   \n",
       "2                    -0.188804            1.902164   \n",
       "3                     5.092809            4.536881   \n",
       "4                     2.243046            4.724179   \n",
       "\n",
       "   flesch_kincaid_grade_level  flesch_reading_ease  gulpease_index  \\\n",
       "0                    2.350000            90.088333       96.000000   \n",
       "1                    1.905185            97.433333       84.185185   \n",
       "2                    1.454909            99.993668       87.840580   \n",
       "3                    6.599191            79.453393       68.438202   \n",
       "4                    2.947451            90.752418       80.529412   \n",
       "\n",
       "   gunning_fog_index  ...  tfidf_wish  tfidf_without  tfidf_wonder  \\\n",
       "0           4.666667  ...    0.000000       0.479482           0.0   \n",
       "1           5.081481  ...    0.000000       0.000000           0.0   \n",
       "2           3.450000  ...    0.000000       0.000000           0.0   \n",
       "3           8.917753  ...    0.000000       0.000000           0.0   \n",
       "4           4.248366  ...    0.337441       0.000000           0.0   \n",
       "\n",
       "   tfidf_work  tfidf_worri  tfidf_wors  tfidf_would  tfidf_wrong  tfidf_x200b  \\\n",
       "0         0.0          0.0         0.0          0.0          0.0          0.0   \n",
       "1         0.0          0.0         0.0          0.0          0.0          0.0   \n",
       "2         0.0          0.0         0.0          0.0          0.0          0.0   \n",
       "3         0.0          0.0         0.0          0.0          0.0          0.0   \n",
       "4         0.0          0.0         0.0          0.0          0.0          0.0   \n",
       "\n",
       "   tfidf_year  \n",
       "0         0.0  \n",
       "1         0.0  \n",
       "2         0.0  \n",
       "3         0.0  \n",
       "4         0.0  \n",
       "\n",
       "[5 rows x 350 columns]"
      ]
     },
     "execution_count": 3,
     "metadata": {},
     "output_type": "execute_result"
    }
   ],
   "source": [
    "alcoholism_pre.head()"
   ]
  },
  {
   "cell_type": "code",
   "execution_count": 4,
   "metadata": {},
   "outputs": [],
   "source": [
    "columns_of_interest = ['subreddit', 'author', 'date', 'post', 'substance_use_total']\n",
    "\n",
    "alcoholism_pre = alcoholism_pre.loc[:, columns_of_interest]\n",
    "alcoholism_post = alcoholism_post.loc[:, columns_of_interest]"
   ]
  },
  {
   "cell_type": "code",
   "execution_count": 5,
   "metadata": {},
   "outputs": [
    {
     "data": {
      "text/html": [
       "<div>\n",
       "<style scoped>\n",
       "    .dataframe tbody tr th:only-of-type {\n",
       "        vertical-align: middle;\n",
       "    }\n",
       "\n",
       "    .dataframe tbody tr th {\n",
       "        vertical-align: top;\n",
       "    }\n",
       "\n",
       "    .dataframe thead th {\n",
       "        text-align: right;\n",
       "    }\n",
       "</style>\n",
       "<table border=\"1\" class=\"dataframe\">\n",
       "  <thead>\n",
       "    <tr style=\"text-align: right;\">\n",
       "      <th></th>\n",
       "      <th>subreddit</th>\n",
       "      <th>author</th>\n",
       "      <th>date</th>\n",
       "      <th>post</th>\n",
       "      <th>substance_use_total</th>\n",
       "    </tr>\n",
       "  </thead>\n",
       "  <tbody>\n",
       "    <tr>\n",
       "      <th>0</th>\n",
       "      <td>alcoholism</td>\n",
       "      <td>RobynTacoo</td>\n",
       "      <td>2019/10/19</td>\n",
       "      <td>My husband offered me a glass of wine I turned...</td>\n",
       "      <td>2</td>\n",
       "    </tr>\n",
       "    <tr>\n",
       "      <th>1</th>\n",
       "      <td>alcoholism</td>\n",
       "      <td>wolsinyourarea</td>\n",
       "      <td>2019/10/19</td>\n",
       "      <td>Feeling like a failure Broke my 2 week streak ...</td>\n",
       "      <td>0</td>\n",
       "    </tr>\n",
       "    <tr>\n",
       "      <th>2</th>\n",
       "      <td>alcoholism</td>\n",
       "      <td>glitterONeverything</td>\n",
       "      <td>2019/10/19</td>\n",
       "      <td>help! withdrawals are crazy!! I feel lije shit...</td>\n",
       "      <td>1</td>\n",
       "    </tr>\n",
       "    <tr>\n",
       "      <th>3</th>\n",
       "      <td>alcoholism</td>\n",
       "      <td>Collector420</td>\n",
       "      <td>2019/10/19</td>\n",
       "      <td>God damn I (M17) wrote messages to almost 20 p...</td>\n",
       "      <td>2</td>\n",
       "    </tr>\n",
       "    <tr>\n",
       "      <th>4</th>\n",
       "      <td>alcoholism</td>\n",
       "      <td>engineerkoala</td>\n",
       "      <td>2019/10/19</td>\n",
       "      <td>How to have as much fun as before Today was my...</td>\n",
       "      <td>1</td>\n",
       "    </tr>\n",
       "  </tbody>\n",
       "</table>\n",
       "</div>"
      ],
      "text/plain": [
       "    subreddit               author        date  \\\n",
       "0  alcoholism           RobynTacoo  2019/10/19   \n",
       "1  alcoholism       wolsinyourarea  2019/10/19   \n",
       "2  alcoholism  glitterONeverything  2019/10/19   \n",
       "3  alcoholism         Collector420  2019/10/19   \n",
       "4  alcoholism        engineerkoala  2019/10/19   \n",
       "\n",
       "                                                post  substance_use_total  \n",
       "0  My husband offered me a glass of wine I turned...                    2  \n",
       "1  Feeling like a failure Broke my 2 week streak ...                    0  \n",
       "2  help! withdrawals are crazy!! I feel lije shit...                    1  \n",
       "3  God damn I (M17) wrote messages to almost 20 p...                    2  \n",
       "4  How to have as much fun as before Today was my...                    1  "
      ]
     },
     "execution_count": 5,
     "metadata": {},
     "output_type": "execute_result"
    }
   ],
   "source": [
    "alcoholism_pre.head(5)"
   ]
  },
  {
   "cell_type": "code",
   "execution_count": 6,
   "metadata": {},
   "outputs": [
    {
     "name": "stdout",
     "output_type": "stream",
     "text": [
      "<class 'pandas.core.frame.DataFrame'>\n",
      "RangeIndex: 1428 entries, 0 to 1427\n",
      "Data columns (total 5 columns):\n",
      " #   Column               Non-Null Count  Dtype \n",
      "---  ------               --------------  ----- \n",
      " 0   subreddit            1428 non-null   object\n",
      " 1   author               1428 non-null   object\n",
      " 2   date                 1428 non-null   object\n",
      " 3   post                 1428 non-null   object\n",
      " 4   substance_use_total  1428 non-null   int64 \n",
      "dtypes: int64(1), object(4)\n",
      "memory usage: 55.9+ KB\n"
     ]
    }
   ],
   "source": [
    "alcoholism_post.info()"
   ]
  },
  {
   "cell_type": "code",
   "execution_count": 7,
   "metadata": {},
   "outputs": [
    {
     "data": {
      "text/html": [
       "<div>\n",
       "<style scoped>\n",
       "    .dataframe tbody tr th:only-of-type {\n",
       "        vertical-align: middle;\n",
       "    }\n",
       "\n",
       "    .dataframe tbody tr th {\n",
       "        vertical-align: top;\n",
       "    }\n",
       "\n",
       "    .dataframe thead th {\n",
       "        text-align: right;\n",
       "    }\n",
       "</style>\n",
       "<table border=\"1\" class=\"dataframe\">\n",
       "  <thead>\n",
       "    <tr style=\"text-align: right;\">\n",
       "      <th></th>\n",
       "      <th>subreddit</th>\n",
       "      <th>author</th>\n",
       "      <th>date</th>\n",
       "      <th>post</th>\n",
       "      <th>substance_use_total</th>\n",
       "    </tr>\n",
       "  </thead>\n",
       "  <tbody>\n",
       "    <tr>\n",
       "      <th>0</th>\n",
       "      <td>alcoholism</td>\n",
       "      <td>glorybellpirate</td>\n",
       "      <td>2020/01/01</td>\n",
       "      <td>Day 1 of sobriety Feeling anxious and letting ...</td>\n",
       "      <td>1</td>\n",
       "    </tr>\n",
       "    <tr>\n",
       "      <th>1</th>\n",
       "      <td>alcoholism</td>\n",
       "      <td>EhndlessSl0th</td>\n",
       "      <td>2020/01/01</td>\n",
       "      <td>Started the New Year with a bang. Hey, I'm new...</td>\n",
       "      <td>1</td>\n",
       "    </tr>\n",
       "    <tr>\n",
       "      <th>2</th>\n",
       "      <td>alcoholism</td>\n",
       "      <td>the_kinky_penguin</td>\n",
       "      <td>2020/01/01</td>\n",
       "      <td>Why can't I get drunk anymore I've been a heav...</td>\n",
       "      <td>3</td>\n",
       "    </tr>\n",
       "    <tr>\n",
       "      <th>3</th>\n",
       "      <td>alcoholism</td>\n",
       "      <td>SauceoffSauceOn</td>\n",
       "      <td>2020/01/01</td>\n",
       "      <td>I am an Alcoholic. How do I quit? I have been ...</td>\n",
       "      <td>2</td>\n",
       "    </tr>\n",
       "    <tr>\n",
       "      <th>4</th>\n",
       "      <td>alcoholism</td>\n",
       "      <td>ben42187</td>\n",
       "      <td>2020/01/01</td>\n",
       "      <td>Funniest Thing about Alcoholism With every oth...</td>\n",
       "      <td>3</td>\n",
       "    </tr>\n",
       "  </tbody>\n",
       "</table>\n",
       "</div>"
      ],
      "text/plain": [
       "    subreddit             author        date  \\\n",
       "0  alcoholism    glorybellpirate  2020/01/01   \n",
       "1  alcoholism      EhndlessSl0th  2020/01/01   \n",
       "2  alcoholism  the_kinky_penguin  2020/01/01   \n",
       "3  alcoholism    SauceoffSauceOn  2020/01/01   \n",
       "4  alcoholism           ben42187  2020/01/01   \n",
       "\n",
       "                                                post  substance_use_total  \n",
       "0  Day 1 of sobriety Feeling anxious and letting ...                    1  \n",
       "1  Started the New Year with a bang. Hey, I'm new...                    1  \n",
       "2  Why can't I get drunk anymore I've been a heav...                    3  \n",
       "3  I am an Alcoholic. How do I quit? I have been ...                    2  \n",
       "4  Funniest Thing about Alcoholism With every oth...                    3  "
      ]
     },
     "execution_count": 7,
     "metadata": {},
     "output_type": "execute_result"
    }
   ],
   "source": [
    "alcoholism_post.head(5)"
   ]
  },
  {
   "cell_type": "code",
   "execution_count": 8,
   "metadata": {},
   "outputs": [
    {
     "name": "stdout",
     "output_type": "stream",
     "text": [
      "<class 'pandas.core.frame.DataFrame'>\n",
      "RangeIndex: 1428 entries, 0 to 1427\n",
      "Data columns (total 5 columns):\n",
      " #   Column               Non-Null Count  Dtype \n",
      "---  ------               --------------  ----- \n",
      " 0   subreddit            1428 non-null   object\n",
      " 1   author               1428 non-null   object\n",
      " 2   date                 1428 non-null   object\n",
      " 3   post                 1428 non-null   object\n",
      " 4   substance_use_total  1428 non-null   int64 \n",
      "dtypes: int64(1), object(4)\n",
      "memory usage: 55.9+ KB\n"
     ]
    }
   ],
   "source": [
    "alcoholism_post.info()"
   ]
  },
  {
   "cell_type": "code",
   "execution_count": 9,
   "metadata": {},
   "outputs": [
    {
     "data": {
      "text/html": [
       "<div>\n",
       "<style scoped>\n",
       "    .dataframe tbody tr th:only-of-type {\n",
       "        vertical-align: middle;\n",
       "    }\n",
       "\n",
       "    .dataframe tbody tr th {\n",
       "        vertical-align: top;\n",
       "    }\n",
       "\n",
       "    .dataframe thead th {\n",
       "        text-align: right;\n",
       "    }\n",
       "</style>\n",
       "<table border=\"1\" class=\"dataframe\">\n",
       "  <thead>\n",
       "    <tr style=\"text-align: right;\">\n",
       "      <th></th>\n",
       "      <th>substance_use_total</th>\n",
       "    </tr>\n",
       "  </thead>\n",
       "  <tbody>\n",
       "    <tr>\n",
       "      <th>count</th>\n",
       "      <td>3087.000000</td>\n",
       "    </tr>\n",
       "    <tr>\n",
       "      <th>mean</th>\n",
       "      <td>4.406868</td>\n",
       "    </tr>\n",
       "    <tr>\n",
       "      <th>std</th>\n",
       "      <td>4.376296</td>\n",
       "    </tr>\n",
       "    <tr>\n",
       "      <th>min</th>\n",
       "      <td>0.000000</td>\n",
       "    </tr>\n",
       "    <tr>\n",
       "      <th>25%</th>\n",
       "      <td>1.000000</td>\n",
       "    </tr>\n",
       "    <tr>\n",
       "      <th>50%</th>\n",
       "      <td>3.000000</td>\n",
       "    </tr>\n",
       "    <tr>\n",
       "      <th>75%</th>\n",
       "      <td>6.000000</td>\n",
       "    </tr>\n",
       "    <tr>\n",
       "      <th>max</th>\n",
       "      <td>53.000000</td>\n",
       "    </tr>\n",
       "  </tbody>\n",
       "</table>\n",
       "</div>"
      ],
      "text/plain": [
       "       substance_use_total\n",
       "count          3087.000000\n",
       "mean              4.406868\n",
       "std               4.376296\n",
       "min               0.000000\n",
       "25%               1.000000\n",
       "50%               3.000000\n",
       "75%               6.000000\n",
       "max              53.000000"
      ]
     },
     "execution_count": 9,
     "metadata": {},
     "output_type": "execute_result"
    }
   ],
   "source": [
    "alcoholism_pre.describe()"
   ]
  },
  {
   "cell_type": "code",
   "execution_count": 10,
   "metadata": {},
   "outputs": [
    {
     "data": {
      "text/html": [
       "<div>\n",
       "<style scoped>\n",
       "    .dataframe tbody tr th:only-of-type {\n",
       "        vertical-align: middle;\n",
       "    }\n",
       "\n",
       "    .dataframe tbody tr th {\n",
       "        vertical-align: top;\n",
       "    }\n",
       "\n",
       "    .dataframe thead th {\n",
       "        text-align: right;\n",
       "    }\n",
       "</style>\n",
       "<table border=\"1\" class=\"dataframe\">\n",
       "  <thead>\n",
       "    <tr style=\"text-align: right;\">\n",
       "      <th></th>\n",
       "      <th>substance_use_total</th>\n",
       "    </tr>\n",
       "  </thead>\n",
       "  <tbody>\n",
       "    <tr>\n",
       "      <th>count</th>\n",
       "      <td>1428.000000</td>\n",
       "    </tr>\n",
       "    <tr>\n",
       "      <th>mean</th>\n",
       "      <td>4.209384</td>\n",
       "    </tr>\n",
       "    <tr>\n",
       "      <th>std</th>\n",
       "      <td>4.128659</td>\n",
       "    </tr>\n",
       "    <tr>\n",
       "      <th>min</th>\n",
       "      <td>0.000000</td>\n",
       "    </tr>\n",
       "    <tr>\n",
       "      <th>25%</th>\n",
       "      <td>1.000000</td>\n",
       "    </tr>\n",
       "    <tr>\n",
       "      <th>50%</th>\n",
       "      <td>3.000000</td>\n",
       "    </tr>\n",
       "    <tr>\n",
       "      <th>75%</th>\n",
       "      <td>6.000000</td>\n",
       "    </tr>\n",
       "    <tr>\n",
       "      <th>max</th>\n",
       "      <td>28.000000</td>\n",
       "    </tr>\n",
       "  </tbody>\n",
       "</table>\n",
       "</div>"
      ],
      "text/plain": [
       "       substance_use_total\n",
       "count          1428.000000\n",
       "mean              4.209384\n",
       "std               4.128659\n",
       "min               0.000000\n",
       "25%               1.000000\n",
       "50%               3.000000\n",
       "75%               6.000000\n",
       "max              28.000000"
      ]
     },
     "execution_count": 10,
     "metadata": {},
     "output_type": "execute_result"
    }
   ],
   "source": [
    "alcoholism_post.describe()"
   ]
  },
  {
   "cell_type": "code",
   "execution_count": 11,
   "metadata": {},
   "outputs": [
    {
     "data": {
      "text/html": [
       "<div>\n",
       "<style scoped>\n",
       "    .dataframe tbody tr th:only-of-type {\n",
       "        vertical-align: middle;\n",
       "    }\n",
       "\n",
       "    .dataframe tbody tr th {\n",
       "        vertical-align: top;\n",
       "    }\n",
       "\n",
       "    .dataframe thead th {\n",
       "        text-align: right;\n",
       "    }\n",
       "</style>\n",
       "<table border=\"1\" class=\"dataframe\">\n",
       "  <thead>\n",
       "    <tr style=\"text-align: right;\">\n",
       "      <th></th>\n",
       "      <th>subreddit</th>\n",
       "      <th>author</th>\n",
       "      <th>date</th>\n",
       "      <th>post</th>\n",
       "      <th>substance_use_total</th>\n",
       "      <th>period</th>\n",
       "    </tr>\n",
       "  </thead>\n",
       "  <tbody>\n",
       "    <tr>\n",
       "      <th>0</th>\n",
       "      <td>alcoholism</td>\n",
       "      <td>RobynTacoo</td>\n",
       "      <td>2019/10/19</td>\n",
       "      <td>My husband offered me a glass of wine I turned...</td>\n",
       "      <td>2</td>\n",
       "      <td>pre</td>\n",
       "    </tr>\n",
       "    <tr>\n",
       "      <th>1</th>\n",
       "      <td>alcoholism</td>\n",
       "      <td>wolsinyourarea</td>\n",
       "      <td>2019/10/19</td>\n",
       "      <td>Feeling like a failure Broke my 2 week streak ...</td>\n",
       "      <td>0</td>\n",
       "      <td>pre</td>\n",
       "    </tr>\n",
       "    <tr>\n",
       "      <th>2</th>\n",
       "      <td>alcoholism</td>\n",
       "      <td>glitterONeverything</td>\n",
       "      <td>2019/10/19</td>\n",
       "      <td>help! withdrawals are crazy!! I feel lije shit...</td>\n",
       "      <td>1</td>\n",
       "      <td>pre</td>\n",
       "    </tr>\n",
       "    <tr>\n",
       "      <th>3</th>\n",
       "      <td>alcoholism</td>\n",
       "      <td>Collector420</td>\n",
       "      <td>2019/10/19</td>\n",
       "      <td>God damn I (M17) wrote messages to almost 20 p...</td>\n",
       "      <td>2</td>\n",
       "      <td>pre</td>\n",
       "    </tr>\n",
       "    <tr>\n",
       "      <th>4</th>\n",
       "      <td>alcoholism</td>\n",
       "      <td>engineerkoala</td>\n",
       "      <td>2019/10/19</td>\n",
       "      <td>How to have as much fun as before Today was my...</td>\n",
       "      <td>1</td>\n",
       "      <td>pre</td>\n",
       "    </tr>\n",
       "    <tr>\n",
       "      <th>...</th>\n",
       "      <td>...</td>\n",
       "      <td>...</td>\n",
       "      <td>...</td>\n",
       "      <td>...</td>\n",
       "      <td>...</td>\n",
       "      <td>...</td>\n",
       "    </tr>\n",
       "    <tr>\n",
       "      <th>1423</th>\n",
       "      <td>alcoholism</td>\n",
       "      <td>teelamarie</td>\n",
       "      <td>2020/04/20</td>\n",
       "      <td>Support? I am an alcoholic 40/F. I sneak drink...</td>\n",
       "      <td>3</td>\n",
       "      <td>post</td>\n",
       "    </tr>\n",
       "    <tr>\n",
       "      <th>1424</th>\n",
       "      <td>alcoholism</td>\n",
       "      <td>nickkkkk77</td>\n",
       "      <td>2020/04/20</td>\n",
       "      <td>My (alcoholic) experience beating coronavirus ...</td>\n",
       "      <td>7</td>\n",
       "      <td>post</td>\n",
       "    </tr>\n",
       "    <tr>\n",
       "      <th>1425</th>\n",
       "      <td>alcoholism</td>\n",
       "      <td>chateaudechelsea</td>\n",
       "      <td>2020/04/20</td>\n",
       "      <td>Questions about alcohol detox I’m an addict wi...</td>\n",
       "      <td>9</td>\n",
       "      <td>post</td>\n",
       "    </tr>\n",
       "    <tr>\n",
       "      <th>1426</th>\n",
       "      <td>alcoholism</td>\n",
       "      <td>DrLeePhDMd</td>\n",
       "      <td>2020/04/20</td>\n",
       "      <td>You'd think the miserable heartburn would get ...</td>\n",
       "      <td>9</td>\n",
       "      <td>post</td>\n",
       "    </tr>\n",
       "    <tr>\n",
       "      <th>1427</th>\n",
       "      <td>alcoholism</td>\n",
       "      <td>Constant-Pineapple</td>\n",
       "      <td>2020/04/20</td>\n",
       "      <td>Alcoholism effect of kids Hi, \\n\\nI'm the son ...</td>\n",
       "      <td>2</td>\n",
       "      <td>post</td>\n",
       "    </tr>\n",
       "  </tbody>\n",
       "</table>\n",
       "<p>4515 rows × 6 columns</p>\n",
       "</div>"
      ],
      "text/plain": [
       "       subreddit               author        date  \\\n",
       "0     alcoholism           RobynTacoo  2019/10/19   \n",
       "1     alcoholism       wolsinyourarea  2019/10/19   \n",
       "2     alcoholism  glitterONeverything  2019/10/19   \n",
       "3     alcoholism         Collector420  2019/10/19   \n",
       "4     alcoholism        engineerkoala  2019/10/19   \n",
       "...          ...                  ...         ...   \n",
       "1423  alcoholism           teelamarie  2020/04/20   \n",
       "1424  alcoholism           nickkkkk77  2020/04/20   \n",
       "1425  alcoholism     chateaudechelsea  2020/04/20   \n",
       "1426  alcoholism           DrLeePhDMd  2020/04/20   \n",
       "1427  alcoholism   Constant-Pineapple  2020/04/20   \n",
       "\n",
       "                                                   post  substance_use_total  \\\n",
       "0     My husband offered me a glass of wine I turned...                    2   \n",
       "1     Feeling like a failure Broke my 2 week streak ...                    0   \n",
       "2     help! withdrawals are crazy!! I feel lije shit...                    1   \n",
       "3     God damn I (M17) wrote messages to almost 20 p...                    2   \n",
       "4     How to have as much fun as before Today was my...                    1   \n",
       "...                                                 ...                  ...   \n",
       "1423  Support? I am an alcoholic 40/F. I sneak drink...                    3   \n",
       "1424  My (alcoholic) experience beating coronavirus ...                    7   \n",
       "1425  Questions about alcohol detox I’m an addict wi...                    9   \n",
       "1426  You'd think the miserable heartburn would get ...                    9   \n",
       "1427  Alcoholism effect of kids Hi, \\n\\nI'm the son ...                    2   \n",
       "\n",
       "     period  \n",
       "0       pre  \n",
       "1       pre  \n",
       "2       pre  \n",
       "3       pre  \n",
       "4       pre  \n",
       "...     ...  \n",
       "1423   post  \n",
       "1424   post  \n",
       "1425   post  \n",
       "1426   post  \n",
       "1427   post  \n",
       "\n",
       "[4515 rows x 6 columns]"
      ]
     },
     "execution_count": 11,
     "metadata": {},
     "output_type": "execute_result"
    }
   ],
   "source": [
    "alcoholism_pre['period'] = 'pre'\n",
    "alcoholism_post['period'] = 'post'\n",
    "\n",
    "alcoholism_df = pd.concat([alcoholism_pre, alcoholism_post])\n",
    "alcoholism_df"
   ]
  },
  {
   "cell_type": "code",
   "execution_count": 12,
   "metadata": {},
   "outputs": [
    {
     "data": {
      "application/vnd.vegalite.v4+json": {
       "$schema": "https://vega.github.io/schema/vega-lite/v4.8.1.json",
       "config": {
        "view": {
         "continuousHeight": 300,
         "continuousWidth": 400
        }
       },
       "data": {
        "url": "http://localhost:18978/3415c5cc5cd52aac56b3442f02ac976d.json"
       },
       "encoding": {
        "color": {
         "field": "period",
         "type": "nominal"
        },
        "x": {
         "bin": {
          "maxbins": 30
         },
         "field": "substance_use_total",
         "type": "quantitative"
        },
        "y": {
         "aggregate": "count",
         "type": "quantitative"
        }
       },
       "mark": {
        "opacity": 0.8,
        "type": "bar"
       }
      },
      "image/png": "[encoded data removed]",
      "text/plain": [
       "<VegaLite 4 object>\n",
       "\n",
       "If you see this message, it means the renderer has not been properly enabled\n",
       "for the frontend that you are using. For more information, see\n",
       "https://altair-viz.github.io/user_guide/troubleshooting.html\n"
      ]
     },
     "execution_count": 12,
     "metadata": {},
     "output_type": "execute_result"
    }
   ],
   "source": [
    "alt.Chart(alcoholism_df).mark_bar(opacity=0.8).encode(\n",
    "    x=alt.X('substance_use_total', bin=alt.Bin(maxbins=30)),\n",
    "    y='count()',\n",
    "    color='period'\n",
    ")"
   ]
  },
  {
   "cell_type": "code",
   "execution_count": 13,
   "metadata": {},
   "outputs": [
    {
     "data": {
      "application/vnd.vegalite.v4+json": {
       "$schema": "https://vega.github.io/schema/vega-lite/v4.8.1.json",
       "config": {
        "view": {
         "continuousHeight": 300,
         "continuousWidth": 400
        }
       },
       "data": {
        "url": "http://localhost:18978/3415c5cc5cd52aac56b3442f02ac976d.json"
       },
       "layer": [
        {
         "encoding": {
          "color": {
           "field": "period",
           "type": "nominal"
          },
          "x": {
           "aggregate": "mean",
           "field": "substance_use_total",
           "type": "quantitative"
          },
          "y": {
           "field": "period",
           "type": "nominal"
          }
         },
         "mark": "bar"
        },
        {
         "encoding": {
          "x": {
           "field": "substance_use_total",
           "type": "quantitative"
          },
          "y": {
           "field": "period",
           "type": "nominal"
          }
         },
         "mark": {
          "extent": "ci",
          "rule": {
           "size": 2
          },
          "type": "errorbar"
         }
        }
       ]
      },
      "image/png": "[encoded data removed]",
      "text/plain": [
       "<VegaLite 4 object>\n",
       "\n",
       "If you see this message, it means the renderer has not been properly enabled\n",
       "for the frontend that you are using. For more information, see\n",
       "https://altair-viz.github.io/user_guide/troubleshooting.html\n"
      ]
     },
     "execution_count": 13,
     "metadata": {},
     "output_type": "execute_result"
    }
   ],
   "source": [
    "plot = alt.Chart(alcoholism_df).mark_bar().encode(\n",
    "    x='mean(substance_use_total)',\n",
    "    y='period',\n",
    "    color='period'\n",
    ")\n",
    "\n",
    "err_bars = alt.Chart(alcoholism_df).mark_errorbar(extent='ci', rule=alt.LineConfig(size=2)).encode(\n",
    "    x='substance_use_total',\n",
    "    y='period')\n",
    "\n",
    "plot + err_bars"
   ]
  },
  {
   "cell_type": "code",
   "execution_count": 14,
   "metadata": {},
   "outputs": [
    {
     "name": "stdout",
     "output_type": "stream",
     "text": [
      "Number of unique authors (posters) in 'pre' dataset: 3087\n",
      "Number of unique authors (posters) in 'post' dataset: 1428\n"
     ]
    }
   ],
   "source": [
    "print(f\"Number of unique authors (posters) in 'pre' dataset: {len(alcoholism_pre.author.unique())}\")\n",
    "print(f\"Number of unique authors (posters) in 'post' dataset: {len(alcoholism_post.author.unique())}\")"
   ]
  },
  {
   "cell_type": "markdown",
   "metadata": {},
   "source": [
    "The dataset is imbalanced with more people posting before the pandemic.\n",
    "We see that the mean of `substance_use_total` was greater before the pandemic rather than after."
   ]
  }
 ],
 "metadata": {
  "interpreter": {
   "hash": "d58e44e1ac3db679dc3c8bc09e7a88cdeaa25d09dab3c31aa8dfd4f8ba39f865"
  },
  "kernelspec": {
   "display_name": "Python [conda env:covid_reddit_behaviour]",
   "language": "python",
   "name": "conda-env-covid_reddit_behaviour-py"
  },
  "language_info": {
   "codemirror_mode": {
    "name": "ipython",
    "version": 3
   },
   "file_extension": ".py",
   "mimetype": "text/x-python",
   "name": "python",
   "nbconvert_exporter": "python",
   "pygments_lexer": "ipython3",
   "version": "3.10.0"
  }
 },
 "nbformat": 4,
 "nbformat_minor": 4
}
