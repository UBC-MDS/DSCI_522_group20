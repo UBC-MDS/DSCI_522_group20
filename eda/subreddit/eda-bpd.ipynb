{
 "cells": [
  {
   "cell_type": "markdown",
   "id": "804ad023-2816-4403-a13d-547cf3f1b9ad",
   "metadata": {},
   "source": [
    "# EDA for **Bpd** Before and After Pandemic"
   ]
  },
  {
   "cell_type": "markdown",
   "id": "d458dc22-088e-4c8a-a448-dff790c1cd88",
   "metadata": {},
   "source": [
    "## Import packages"
   ]
  },
  {
   "cell_type": "code",
   "execution_count": 1,
   "id": "af11aad1-df8f-42f1-ab28-dc1f46b11f63",
   "metadata": {},
   "outputs": [
    {
     "data": {
      "text/plain": [
       "RendererRegistry.enable('mimetype')"
      ]
     },
     "execution_count": 1,
     "metadata": {},
     "output_type": "execute_result"
    }
   ],
   "source": [
    "import pandas as pd\n",
    "import numpy as np\n",
    "import altair as alt\n",
    "alt.data_transformers.enable('data_server')\n",
    "alt.renderers.enable('mimetype')"
   ]
  },
  {
   "cell_type": "markdown",
   "id": "3f9edffe-43f2-44a5-ae6e-e0f4ed6457d8",
   "metadata": {},
   "source": [
    "## Import data set"
   ]
  },
  {
   "cell_type": "code",
   "execution_count": 2,
   "id": "761b588a-52a8-420b-89ca-75200eada889",
   "metadata": {},
   "outputs": [],
   "source": [
    "bpd_pre = pd.read_csv('../../data/bpd_pre_features_tfidf_256.csv')\n",
    "bpd_post = pd.read_csv('../../data/bpd_post_features_tfidf_256.csv')"
   ]
  },
  {
   "cell_type": "markdown",
   "id": "73f05aa5-f56b-46a5-b581-cf31f89aa8b0",
   "metadata": {},
   "source": [
    "## Filter feature of interest: substance_use_total"
   ]
  },
  {
   "cell_type": "code",
   "execution_count": 3,
   "id": "3b885b03-6956-46cc-8072-ed4a5cdd581e",
   "metadata": {},
   "outputs": [],
   "source": [
    "bpd_pre = bpd_pre.loc[:, ['subreddit', 'author', 'date', 'post', 'substance_use_total']]\n",
    "bpd_post = bpd_post.loc[:, ['subreddit', 'author', 'date', 'post', 'substance_use_total']]"
   ]
  },
  {
   "cell_type": "markdown",
   "id": "37eb9c21-906e-4262-980c-747fa62bddcd",
   "metadata": {},
   "source": [
    "## Pre-Pandemic data set"
   ]
  },
  {
   "cell_type": "code",
   "execution_count": 4,
   "id": "220dc965-28d4-43f0-874d-16c5f8c5b8fc",
   "metadata": {},
   "outputs": [
    {
     "data": {
      "text/html": [
       "<div>\n",
       "<style scoped>\n",
       "    .dataframe tbody tr th:only-of-type {\n",
       "        vertical-align: middle;\n",
       "    }\n",
       "\n",
       "    .dataframe tbody tr th {\n",
       "        vertical-align: top;\n",
       "    }\n",
       "\n",
       "    .dataframe thead th {\n",
       "        text-align: right;\n",
       "    }\n",
       "</style>\n",
       "<table border=\"1\" class=\"dataframe\">\n",
       "  <thead>\n",
       "    <tr style=\"text-align: right;\">\n",
       "      <th></th>\n",
       "      <th>subreddit</th>\n",
       "      <th>author</th>\n",
       "      <th>date</th>\n",
       "      <th>post</th>\n",
       "      <th>substance_use_total</th>\n",
       "    </tr>\n",
       "  </thead>\n",
       "  <tbody>\n",
       "    <tr>\n",
       "      <th>0</th>\n",
       "      <td>bpd</td>\n",
       "      <td>madamegeoffrin</td>\n",
       "      <td>2019/03/14</td>\n",
       "      <td>Being Alone Hi all,\\n\\nI live alone and am hav...</td>\n",
       "      <td>0</td>\n",
       "    </tr>\n",
       "    <tr>\n",
       "      <th>1</th>\n",
       "      <td>bpd</td>\n",
       "      <td>chikkinnugget</td>\n",
       "      <td>2019/03/14</td>\n",
       "      <td>I don’t know what to do anymore. I have been w...</td>\n",
       "      <td>0</td>\n",
       "    </tr>\n",
       "    <tr>\n",
       "      <th>2</th>\n",
       "      <td>bpd</td>\n",
       "      <td>Nonsense_constance</td>\n",
       "      <td>2019/03/14</td>\n",
       "      <td>Relapsing. Can't stop obsessing over ex. I'm d...</td>\n",
       "      <td>0</td>\n",
       "    </tr>\n",
       "    <tr>\n",
       "      <th>3</th>\n",
       "      <td>bpd</td>\n",
       "      <td>sras5462</td>\n",
       "      <td>2019/03/14</td>\n",
       "      <td>I think I have Bpd and it scares me  A little ...</td>\n",
       "      <td>1</td>\n",
       "    </tr>\n",
       "    <tr>\n",
       "      <th>4</th>\n",
       "      <td>bpd</td>\n",
       "      <td>TrAiLeRpArKgIrLl</td>\n",
       "      <td>2019/03/14</td>\n",
       "      <td>Does anyone else actually like themselves or a...</td>\n",
       "      <td>0</td>\n",
       "    </tr>\n",
       "  </tbody>\n",
       "</table>\n",
       "</div>"
      ],
      "text/plain": [
       "  subreddit              author        date  \\\n",
       "0       bpd      madamegeoffrin  2019/03/14   \n",
       "1       bpd       chikkinnugget  2019/03/14   \n",
       "2       bpd  Nonsense_constance  2019/03/14   \n",
       "3       bpd            sras5462  2019/03/14   \n",
       "4       bpd    TrAiLeRpArKgIrLl  2019/03/14   \n",
       "\n",
       "                                                post  substance_use_total  \n",
       "0  Being Alone Hi all,\\n\\nI live alone and am hav...                    0  \n",
       "1  I don’t know what to do anymore. I have been w...                    0  \n",
       "2  Relapsing. Can't stop obsessing over ex. I'm d...                    0  \n",
       "3  I think I have Bpd and it scares me  A little ...                    1  \n",
       "4  Does anyone else actually like themselves or a...                    0  "
      ]
     },
     "execution_count": 4,
     "metadata": {},
     "output_type": "execute_result"
    }
   ],
   "source": [
    "bpd_pre.head(5)"
   ]
  },
  {
   "cell_type": "code",
   "execution_count": 5,
   "id": "85f88c73-467f-4a96-a7ea-0fff66a5513c",
   "metadata": {},
   "outputs": [
    {
     "data": {
      "text/html": [
       "<div>\n",
       "<style scoped>\n",
       "    .dataframe tbody tr th:only-of-type {\n",
       "        vertical-align: middle;\n",
       "    }\n",
       "\n",
       "    .dataframe tbody tr th {\n",
       "        vertical-align: top;\n",
       "    }\n",
       "\n",
       "    .dataframe thead th {\n",
       "        text-align: right;\n",
       "    }\n",
       "</style>\n",
       "<table border=\"1\" class=\"dataframe\">\n",
       "  <thead>\n",
       "    <tr style=\"text-align: right;\">\n",
       "      <th></th>\n",
       "      <th>subreddit</th>\n",
       "      <th>author</th>\n",
       "      <th>date</th>\n",
       "      <th>post</th>\n",
       "      <th>substance_use_total</th>\n",
       "    </tr>\n",
       "  </thead>\n",
       "  <tbody>\n",
       "    <tr>\n",
       "      <th>11002</th>\n",
       "      <td>bpd</td>\n",
       "      <td>Goldenking99</td>\n",
       "      <td>2019/06/05</td>\n",
       "      <td>DAE get really anxious and depressed when peop...</td>\n",
       "      <td>0</td>\n",
       "    </tr>\n",
       "    <tr>\n",
       "      <th>11003</th>\n",
       "      <td>bpd</td>\n",
       "      <td>norther-nice</td>\n",
       "      <td>2019/06/05</td>\n",
       "      <td>Anger. My girlfriend’s car’s battery died two ...</td>\n",
       "      <td>0</td>\n",
       "    </tr>\n",
       "    <tr>\n",
       "      <th>11004</th>\n",
       "      <td>bpd</td>\n",
       "      <td>tree_is_free</td>\n",
       "      <td>2019/06/05</td>\n",
       "      <td>Hi I was married to a man with BPD. He's divor...</td>\n",
       "      <td>0</td>\n",
       "    </tr>\n",
       "    <tr>\n",
       "      <th>11005</th>\n",
       "      <td>bpd</td>\n",
       "      <td>Hidinginthewoodpile</td>\n",
       "      <td>2019/06/05</td>\n",
       "      <td>Spiraling anger tornado. Ok, I'm male and my w...</td>\n",
       "      <td>0</td>\n",
       "    </tr>\n",
       "    <tr>\n",
       "      <th>11006</th>\n",
       "      <td>bpd</td>\n",
       "      <td>soykenopsia</td>\n",
       "      <td>2019/06/05</td>\n",
       "      <td>is this normal I tend to look at the people i ...</td>\n",
       "      <td>0</td>\n",
       "    </tr>\n",
       "  </tbody>\n",
       "</table>\n",
       "</div>"
      ],
      "text/plain": [
       "      subreddit               author        date  \\\n",
       "11002       bpd         Goldenking99  2019/06/05   \n",
       "11003       bpd         norther-nice  2019/06/05   \n",
       "11004       bpd         tree_is_free  2019/06/05   \n",
       "11005       bpd  Hidinginthewoodpile  2019/06/05   \n",
       "11006       bpd          soykenopsia  2019/06/05   \n",
       "\n",
       "                                                    post  substance_use_total  \n",
       "11002  DAE get really anxious and depressed when peop...                    0  \n",
       "11003  Anger. My girlfriend’s car’s battery died two ...                    0  \n",
       "11004  Hi I was married to a man with BPD. He's divor...                    0  \n",
       "11005  Spiraling anger tornado. Ok, I'm male and my w...                    0  \n",
       "11006  is this normal I tend to look at the people i ...                    0  "
      ]
     },
     "execution_count": 5,
     "metadata": {},
     "output_type": "execute_result"
    }
   ],
   "source": [
    "bpd_pre.tail(5)"
   ]
  },
  {
   "cell_type": "code",
   "execution_count": 6,
   "id": "e5b3c505-84dd-44a7-bb05-0603486a310b",
   "metadata": {},
   "outputs": [
    {
     "name": "stdout",
     "output_type": "stream",
     "text": [
      "Total number of records in the pre-pandemic dataset: 11007\n"
     ]
    }
   ],
   "source": [
    "print(f'Total number of records in the pre-pandemic dataset: {len(bpd_pre)}')"
   ]
  },
  {
   "cell_type": "markdown",
   "id": "3d85aae7-24d5-47d9-bd27-24e0e6b615ef",
   "metadata": {},
   "source": [
    "## Post-Pandemic data set"
   ]
  },
  {
   "cell_type": "code",
   "execution_count": 7,
   "id": "753067b1-7ab2-4a27-9111-7aa99a82abc0",
   "metadata": {},
   "outputs": [
    {
     "data": {
      "text/html": [
       "<div>\n",
       "<style scoped>\n",
       "    .dataframe tbody tr th:only-of-type {\n",
       "        vertical-align: middle;\n",
       "    }\n",
       "\n",
       "    .dataframe tbody tr th {\n",
       "        vertical-align: top;\n",
       "    }\n",
       "\n",
       "    .dataframe thead th {\n",
       "        text-align: right;\n",
       "    }\n",
       "</style>\n",
       "<table border=\"1\" class=\"dataframe\">\n",
       "  <thead>\n",
       "    <tr style=\"text-align: right;\">\n",
       "      <th></th>\n",
       "      <th>subreddit</th>\n",
       "      <th>author</th>\n",
       "      <th>date</th>\n",
       "      <th>post</th>\n",
       "      <th>substance_use_total</th>\n",
       "    </tr>\n",
       "  </thead>\n",
       "  <tbody>\n",
       "    <tr>\n",
       "      <th>0</th>\n",
       "      <td>bpd</td>\n",
       "      <td>Komorxbi</td>\n",
       "      <td>2020/01/01</td>\n",
       "      <td>Instant infatuation. Do you guys ever meet som...</td>\n",
       "      <td>0</td>\n",
       "    </tr>\n",
       "    <tr>\n",
       "      <th>1</th>\n",
       "      <td>bpd</td>\n",
       "      <td>IodineSky111</td>\n",
       "      <td>2020/01/01</td>\n",
       "      <td>Anyone else believe they have this disorder fr...</td>\n",
       "      <td>0</td>\n",
       "    </tr>\n",
       "    <tr>\n",
       "      <th>2</th>\n",
       "      <td>bpd</td>\n",
       "      <td>mellbell14</td>\n",
       "      <td>2020/01/01</td>\n",
       "      <td>Am I the only one? Am I the only one who can’t...</td>\n",
       "      <td>0</td>\n",
       "    </tr>\n",
       "    <tr>\n",
       "      <th>3</th>\n",
       "      <td>bpd</td>\n",
       "      <td>femaleking51</td>\n",
       "      <td>2020/01/01</td>\n",
       "      <td>I want this feeling to last I'm happy with how...</td>\n",
       "      <td>1</td>\n",
       "    </tr>\n",
       "    <tr>\n",
       "      <th>4</th>\n",
       "      <td>bpd</td>\n",
       "      <td>prodbudddwyer</td>\n",
       "      <td>2020/01/01</td>\n",
       "      <td>BPD I'm here to learn, I would Google it but I...</td>\n",
       "      <td>0</td>\n",
       "    </tr>\n",
       "  </tbody>\n",
       "</table>\n",
       "</div>"
      ],
      "text/plain": [
       "  subreddit         author        date  \\\n",
       "0       bpd       Komorxbi  2020/01/01   \n",
       "1       bpd   IodineSky111  2020/01/01   \n",
       "2       bpd     mellbell14  2020/01/01   \n",
       "3       bpd   femaleking51  2020/01/01   \n",
       "4       bpd  prodbudddwyer  2020/01/01   \n",
       "\n",
       "                                                post  substance_use_total  \n",
       "0  Instant infatuation. Do you guys ever meet som...                    0  \n",
       "1  Anyone else believe they have this disorder fr...                    0  \n",
       "2  Am I the only one? Am I the only one who can’t...                    0  \n",
       "3  I want this feeling to last I'm happy with how...                    1  \n",
       "4  BPD I'm here to learn, I would Google it but I...                    0  "
      ]
     },
     "execution_count": 7,
     "metadata": {},
     "output_type": "execute_result"
    }
   ],
   "source": [
    "bpd_post.head(5)"
   ]
  },
  {
   "cell_type": "code",
   "execution_count": 8,
   "id": "0ff45b7e-3bcb-46f1-b17e-965208296643",
   "metadata": {},
   "outputs": [
    {
     "data": {
      "text/html": [
       "<div>\n",
       "<style scoped>\n",
       "    .dataframe tbody tr th:only-of-type {\n",
       "        vertical-align: middle;\n",
       "    }\n",
       "\n",
       "    .dataframe tbody tr th {\n",
       "        vertical-align: top;\n",
       "    }\n",
       "\n",
       "    .dataframe thead th {\n",
       "        text-align: right;\n",
       "    }\n",
       "</style>\n",
       "<table border=\"1\" class=\"dataframe\">\n",
       "  <thead>\n",
       "    <tr style=\"text-align: right;\">\n",
       "      <th></th>\n",
       "      <th>subreddit</th>\n",
       "      <th>author</th>\n",
       "      <th>date</th>\n",
       "      <th>post</th>\n",
       "      <th>substance_use_total</th>\n",
       "    </tr>\n",
       "  </thead>\n",
       "  <tbody>\n",
       "    <tr>\n",
       "      <th>5968</th>\n",
       "      <td>bpd</td>\n",
       "      <td>techtay</td>\n",
       "      <td>2020/04/20</td>\n",
       "      <td>Diagnosis Q Any psychology experts in here ple...</td>\n",
       "      <td>0</td>\n",
       "    </tr>\n",
       "    <tr>\n",
       "      <th>5969</th>\n",
       "      <td>bpd</td>\n",
       "      <td>wholeassmeal</td>\n",
       "      <td>2020/04/20</td>\n",
       "      <td>BPD makes me compare myself to other women...a...</td>\n",
       "      <td>0</td>\n",
       "    </tr>\n",
       "    <tr>\n",
       "      <th>5970</th>\n",
       "      <td>bpd</td>\n",
       "      <td>ragerdemon</td>\n",
       "      <td>2020/04/20</td>\n",
       "      <td>How do you guys find out who you are? Sticking...</td>\n",
       "      <td>0</td>\n",
       "    </tr>\n",
       "    <tr>\n",
       "      <th>5971</th>\n",
       "      <td>bpd</td>\n",
       "      <td>pubertino12</td>\n",
       "      <td>2020/04/20</td>\n",
       "      <td>My FP finally ghosted me I've known him for 6 ...</td>\n",
       "      <td>0</td>\n",
       "    </tr>\n",
       "    <tr>\n",
       "      <th>5972</th>\n",
       "      <td>bpd</td>\n",
       "      <td>ThisIsMyFifthAcc</td>\n",
       "      <td>2020/04/20</td>\n",
       "      <td>Anyone else struggle a lot with shame It has i...</td>\n",
       "      <td>1</td>\n",
       "    </tr>\n",
       "  </tbody>\n",
       "</table>\n",
       "</div>"
      ],
      "text/plain": [
       "     subreddit            author        date  \\\n",
       "5968       bpd           techtay  2020/04/20   \n",
       "5969       bpd      wholeassmeal  2020/04/20   \n",
       "5970       bpd        ragerdemon  2020/04/20   \n",
       "5971       bpd       pubertino12  2020/04/20   \n",
       "5972       bpd  ThisIsMyFifthAcc  2020/04/20   \n",
       "\n",
       "                                                   post  substance_use_total  \n",
       "5968  Diagnosis Q Any psychology experts in here ple...                    0  \n",
       "5969  BPD makes me compare myself to other women...a...                    0  \n",
       "5970  How do you guys find out who you are? Sticking...                    0  \n",
       "5971  My FP finally ghosted me I've known him for 6 ...                    0  \n",
       "5972  Anyone else struggle a lot with shame It has i...                    1  "
      ]
     },
     "execution_count": 8,
     "metadata": {},
     "output_type": "execute_result"
    }
   ],
   "source": [
    "bpd_post.tail(5)"
   ]
  },
  {
   "cell_type": "code",
   "execution_count": 9,
   "id": "2a0a85de-e6ff-438f-bcba-e33925f27ed9",
   "metadata": {},
   "outputs": [
    {
     "name": "stdout",
     "output_type": "stream",
     "text": [
      "Total number of records in the post-pandemic dataset: 5973\n"
     ]
    }
   ],
   "source": [
    "print(f'Total number of records in the post-pandemic dataset: {len(bpd_post)}')"
   ]
  },
  {
   "cell_type": "markdown",
   "id": "0ecfbec2-d7ce-44e8-97d6-96fd636896ba",
   "metadata": {},
   "source": [
    "## High Level Analysis of Pre and Post Pandemic datasets"
   ]
  },
  {
   "cell_type": "markdown",
   "id": "0b885ac0-3b35-4517-840f-28be986fd919",
   "metadata": {},
   "source": [
    "First we'll combine the two dataset into one--which will make it easier to compare:"
   ]
  },
  {
   "cell_type": "code",
   "execution_count": 10,
   "id": "f8b0b7aa-d4d7-405d-9ca3-e11924c93279",
   "metadata": {},
   "outputs": [
    {
     "data": {
      "text/html": [
       "<div>\n",
       "<style scoped>\n",
       "    .dataframe tbody tr th:only-of-type {\n",
       "        vertical-align: middle;\n",
       "    }\n",
       "\n",
       "    .dataframe tbody tr th {\n",
       "        vertical-align: top;\n",
       "    }\n",
       "\n",
       "    .dataframe thead th {\n",
       "        text-align: right;\n",
       "    }\n",
       "</style>\n",
       "<table border=\"1\" class=\"dataframe\">\n",
       "  <thead>\n",
       "    <tr style=\"text-align: right;\">\n",
       "      <th></th>\n",
       "      <th>subreddit</th>\n",
       "      <th>author</th>\n",
       "      <th>date</th>\n",
       "      <th>post</th>\n",
       "      <th>substance_use_total</th>\n",
       "      <th>period</th>\n",
       "    </tr>\n",
       "  </thead>\n",
       "  <tbody>\n",
       "    <tr>\n",
       "      <th>0</th>\n",
       "      <td>bpd</td>\n",
       "      <td>madamegeoffrin</td>\n",
       "      <td>2019/03/14</td>\n",
       "      <td>Being Alone Hi all,\\n\\nI live alone and am hav...</td>\n",
       "      <td>0</td>\n",
       "      <td>pre</td>\n",
       "    </tr>\n",
       "    <tr>\n",
       "      <th>1</th>\n",
       "      <td>bpd</td>\n",
       "      <td>chikkinnugget</td>\n",
       "      <td>2019/03/14</td>\n",
       "      <td>I don’t know what to do anymore. I have been w...</td>\n",
       "      <td>0</td>\n",
       "      <td>pre</td>\n",
       "    </tr>\n",
       "    <tr>\n",
       "      <th>2</th>\n",
       "      <td>bpd</td>\n",
       "      <td>Nonsense_constance</td>\n",
       "      <td>2019/03/14</td>\n",
       "      <td>Relapsing. Can't stop obsessing over ex. I'm d...</td>\n",
       "      <td>0</td>\n",
       "      <td>pre</td>\n",
       "    </tr>\n",
       "    <tr>\n",
       "      <th>3</th>\n",
       "      <td>bpd</td>\n",
       "      <td>sras5462</td>\n",
       "      <td>2019/03/14</td>\n",
       "      <td>I think I have Bpd and it scares me  A little ...</td>\n",
       "      <td>1</td>\n",
       "      <td>pre</td>\n",
       "    </tr>\n",
       "    <tr>\n",
       "      <th>4</th>\n",
       "      <td>bpd</td>\n",
       "      <td>TrAiLeRpArKgIrLl</td>\n",
       "      <td>2019/03/14</td>\n",
       "      <td>Does anyone else actually like themselves or a...</td>\n",
       "      <td>0</td>\n",
       "      <td>pre</td>\n",
       "    </tr>\n",
       "    <tr>\n",
       "      <th>...</th>\n",
       "      <td>...</td>\n",
       "      <td>...</td>\n",
       "      <td>...</td>\n",
       "      <td>...</td>\n",
       "      <td>...</td>\n",
       "      <td>...</td>\n",
       "    </tr>\n",
       "    <tr>\n",
       "      <th>5968</th>\n",
       "      <td>bpd</td>\n",
       "      <td>techtay</td>\n",
       "      <td>2020/04/20</td>\n",
       "      <td>Diagnosis Q Any psychology experts in here ple...</td>\n",
       "      <td>0</td>\n",
       "      <td>post</td>\n",
       "    </tr>\n",
       "    <tr>\n",
       "      <th>5969</th>\n",
       "      <td>bpd</td>\n",
       "      <td>wholeassmeal</td>\n",
       "      <td>2020/04/20</td>\n",
       "      <td>BPD makes me compare myself to other women...a...</td>\n",
       "      <td>0</td>\n",
       "      <td>post</td>\n",
       "    </tr>\n",
       "    <tr>\n",
       "      <th>5970</th>\n",
       "      <td>bpd</td>\n",
       "      <td>ragerdemon</td>\n",
       "      <td>2020/04/20</td>\n",
       "      <td>How do you guys find out who you are? Sticking...</td>\n",
       "      <td>0</td>\n",
       "      <td>post</td>\n",
       "    </tr>\n",
       "    <tr>\n",
       "      <th>5971</th>\n",
       "      <td>bpd</td>\n",
       "      <td>pubertino12</td>\n",
       "      <td>2020/04/20</td>\n",
       "      <td>My FP finally ghosted me I've known him for 6 ...</td>\n",
       "      <td>0</td>\n",
       "      <td>post</td>\n",
       "    </tr>\n",
       "    <tr>\n",
       "      <th>5972</th>\n",
       "      <td>bpd</td>\n",
       "      <td>ThisIsMyFifthAcc</td>\n",
       "      <td>2020/04/20</td>\n",
       "      <td>Anyone else struggle a lot with shame It has i...</td>\n",
       "      <td>1</td>\n",
       "      <td>post</td>\n",
       "    </tr>\n",
       "  </tbody>\n",
       "</table>\n",
       "<p>16980 rows × 6 columns</p>\n",
       "</div>"
      ],
      "text/plain": [
       "     subreddit              author        date  \\\n",
       "0          bpd      madamegeoffrin  2019/03/14   \n",
       "1          bpd       chikkinnugget  2019/03/14   \n",
       "2          bpd  Nonsense_constance  2019/03/14   \n",
       "3          bpd            sras5462  2019/03/14   \n",
       "4          bpd    TrAiLeRpArKgIrLl  2019/03/14   \n",
       "...        ...                 ...         ...   \n",
       "5968       bpd             techtay  2020/04/20   \n",
       "5969       bpd        wholeassmeal  2020/04/20   \n",
       "5970       bpd          ragerdemon  2020/04/20   \n",
       "5971       bpd         pubertino12  2020/04/20   \n",
       "5972       bpd    ThisIsMyFifthAcc  2020/04/20   \n",
       "\n",
       "                                                   post  substance_use_total  \\\n",
       "0     Being Alone Hi all,\\n\\nI live alone and am hav...                    0   \n",
       "1     I don’t know what to do anymore. I have been w...                    0   \n",
       "2     Relapsing. Can't stop obsessing over ex. I'm d...                    0   \n",
       "3     I think I have Bpd and it scares me  A little ...                    1   \n",
       "4     Does anyone else actually like themselves or a...                    0   \n",
       "...                                                 ...                  ...   \n",
       "5968  Diagnosis Q Any psychology experts in here ple...                    0   \n",
       "5969  BPD makes me compare myself to other women...a...                    0   \n",
       "5970  How do you guys find out who you are? Sticking...                    0   \n",
       "5971  My FP finally ghosted me I've known him for 6 ...                    0   \n",
       "5972  Anyone else struggle a lot with shame It has i...                    1   \n",
       "\n",
       "     period  \n",
       "0       pre  \n",
       "1       pre  \n",
       "2       pre  \n",
       "3       pre  \n",
       "4       pre  \n",
       "...     ...  \n",
       "5968   post  \n",
       "5969   post  \n",
       "5970   post  \n",
       "5971   post  \n",
       "5972   post  \n",
       "\n",
       "[16980 rows x 6 columns]"
      ]
     },
     "execution_count": 10,
     "metadata": {},
     "output_type": "execute_result"
    }
   ],
   "source": [
    "bpd_pre['period'] = 'pre'\n",
    "bpd_post['period'] = 'post'\n",
    "\n",
    "bpd_df = pd.concat([bpd_pre, bpd_post])\n",
    "bpd_df"
   ]
  },
  {
   "cell_type": "code",
   "execution_count": 11,
   "id": "6d0f4136-b8e2-4488-9d05-cf128cdf85e1",
   "metadata": {},
   "outputs": [
    {
     "data": {
      "text/html": [
       "<div>\n",
       "<style scoped>\n",
       "    .dataframe tbody tr th:only-of-type {\n",
       "        vertical-align: middle;\n",
       "    }\n",
       "\n",
       "    .dataframe tbody tr th {\n",
       "        vertical-align: top;\n",
       "    }\n",
       "\n",
       "    .dataframe thead th {\n",
       "        text-align: right;\n",
       "    }\n",
       "</style>\n",
       "<table border=\"1\" class=\"dataframe\">\n",
       "  <thead>\n",
       "    <tr style=\"text-align: right;\">\n",
       "      <th></th>\n",
       "      <th>substance_use_total</th>\n",
       "      <th>substance_use_total</th>\n",
       "    </tr>\n",
       "  </thead>\n",
       "  <tbody>\n",
       "    <tr>\n",
       "      <th>count</th>\n",
       "      <td>11007.000000</td>\n",
       "      <td>5973.000000</td>\n",
       "    </tr>\n",
       "    <tr>\n",
       "      <th>mean</th>\n",
       "      <td>0.477787</td>\n",
       "      <td>0.478319</td>\n",
       "    </tr>\n",
       "    <tr>\n",
       "      <th>std</th>\n",
       "      <td>1.024873</td>\n",
       "      <td>0.996683</td>\n",
       "    </tr>\n",
       "    <tr>\n",
       "      <th>min</th>\n",
       "      <td>0.000000</td>\n",
       "      <td>0.000000</td>\n",
       "    </tr>\n",
       "    <tr>\n",
       "      <th>25%</th>\n",
       "      <td>0.000000</td>\n",
       "      <td>0.000000</td>\n",
       "    </tr>\n",
       "    <tr>\n",
       "      <th>50%</th>\n",
       "      <td>0.000000</td>\n",
       "      <td>0.000000</td>\n",
       "    </tr>\n",
       "    <tr>\n",
       "      <th>75%</th>\n",
       "      <td>1.000000</td>\n",
       "      <td>1.000000</td>\n",
       "    </tr>\n",
       "    <tr>\n",
       "      <th>max</th>\n",
       "      <td>14.000000</td>\n",
       "      <td>13.000000</td>\n",
       "    </tr>\n",
       "  </tbody>\n",
       "</table>\n",
       "</div>"
      ],
      "text/plain": [
       "       substance_use_total  substance_use_total\n",
       "count         11007.000000          5973.000000\n",
       "mean              0.477787             0.478319\n",
       "std               1.024873             0.996683\n",
       "min               0.000000             0.000000\n",
       "25%               0.000000             0.000000\n",
       "50%               0.000000             0.000000\n",
       "75%               1.000000             1.000000\n",
       "max              14.000000            13.000000"
      ]
     },
     "execution_count": 11,
     "metadata": {},
     "output_type": "execute_result"
    }
   ],
   "source": [
    "pd.concat([bpd_pre.describe(), bpd_post.describe()], axis=1)"
   ]
  },
  {
   "cell_type": "markdown",
   "id": "2177cf93-f250-4d9b-92e0-33f026e9b9be",
   "metadata": {},
   "source": [
    "### Visualization"
   ]
  },
  {
   "cell_type": "code",
   "execution_count": 12,
   "id": "6780e276-ebc9-4098-8d9a-d8328c307a02",
   "metadata": {},
   "outputs": [
    {
     "data": {
      "application/vnd.vegalite.v4+json": {
       "$schema": "https://vega.github.io/schema/vega-lite/v4.8.1.json",
       "columns": 1,
       "config": {
        "view": {
         "continuousHeight": 300,
         "continuousWidth": 400
        }
       },
       "data": {
        "url": "http://localhost:15434/0c407fe89c032c8869a3abf10563fe3b.json"
       },
       "facet": {
        "field": "period",
        "type": "nominal"
       },
       "spec": {
        "encoding": {
         "color": {
          "field": "period",
          "type": "nominal"
         },
         "x": {
          "bin": {
           "maxbins": 20
          },
          "field": "substance_use_total",
          "title": "Substance Use Total",
          "type": "quantitative"
         },
         "y": {
          "aggregate": "count",
          "type": "quantitative"
         }
        },
        "mark": "bar"
       }
      },
      "image/png": "[encoded data removed]",
      "text/plain": [
       "<VegaLite 4 object>\n",
       "\n",
       "If you see this message, it means the renderer has not been properly enabled\n",
       "for the frontend that you are using. For more information, see\n",
       "https://altair-viz.github.io/user_guide/troubleshooting.html\n"
      ]
     },
     "execution_count": 12,
     "metadata": {},
     "output_type": "execute_result"
    }
   ],
   "source": [
    "alt.Chart(bpd_df).mark_bar().encode(\n",
    "    x=alt.X('substance_use_total', bin=alt.Bin(maxbins=20), title = 'Substance Use Total'),\n",
    "    y='count()',\n",
    "    color='period'\n",
    ").facet('period', columns=1)"
   ]
  },
  {
   "cell_type": "code",
   "execution_count": 13,
   "id": "82355c3b-d9f8-4b33-a0cf-702e59cf88bf",
   "metadata": {},
   "outputs": [
    {
     "name": "stdout",
     "output_type": "stream",
     "text": [
      "Number of unique authors (posters) in 'pre' dataset: 11007\n",
      "Number of unique authors (posters) in 'post' dataset: 5973\n"
     ]
    }
   ],
   "source": [
    "print(f\"Number of unique authors (posters) in 'pre' dataset: {len(bpd_pre.author.unique())}\")\n",
    "print(f\"Number of unique authors (posters) in 'post' dataset: {len(bpd_post.author.unique())}\")"
   ]
  },
  {
   "cell_type": "markdown",
   "id": "6d842356-1c27-4012-9126-893b99b4787f",
   "metadata": {},
   "source": [
    "1. Every records in the dataset is associated with an unique author\n",
    "2. The number of unique authors before the pandemic is around twice as the after pandemic data\n",
    "3. The mean of the substance use total before pandemic is slightly slower than after pandemic"
   ]
  },
  {
   "cell_type": "code",
   "execution_count": null,
   "id": "53c7e87a-34a5-4c4c-867c-4f13a81e8e7c",
   "metadata": {},
   "outputs": [],
   "source": []
  }
 ],
 "metadata": {
  "kernelspec": {
   "display_name": "Python 3 (ipykernel)",
   "language": "python",
   "name": "python3"
  },
  "language_info": {
   "codemirror_mode": {
    "name": "ipython",
    "version": 3
   },
   "file_extension": ".py",
   "mimetype": "text/x-python",
   "name": "python",
   "nbconvert_exporter": "python",
   "pygments_lexer": "ipython3",
   "version": "3.9.5"
  }
 },
 "nbformat": 4,
 "nbformat_minor": 5
}
