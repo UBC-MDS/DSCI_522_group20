{
 "cells": [
  {
   "cell_type": "markdown",
   "id": "804ad023-2816-4403-a13d-547cf3f1b9ad",
   "metadata": {},
   "source": [
    "# EDA for **Bipolarreddit** Before and After Pandemic"
   ]
  },
  {
   "cell_type": "markdown",
   "id": "d458dc22-088e-4c8a-a448-dff790c1cd88",
   "metadata": {},
   "source": [
    "## Import packages"
   ]
  },
  {
   "cell_type": "code",
   "execution_count": 1,
   "id": "af11aad1-df8f-42f1-ab28-dc1f46b11f63",
   "metadata": {},
   "outputs": [
    {
     "data": {
      "text/plain": [
       "RendererRegistry.enable('mimetype')"
      ]
     },
     "execution_count": 1,
     "metadata": {},
     "output_type": "execute_result"
    }
   ],
   "source": [
    "import pandas as pd\n",
    "import numpy as np\n",
    "import altair as alt\n",
    "alt.data_transformers.enable('data_server')\n",
    "alt.renderers.enable('mimetype')"
   ]
  },
  {
   "cell_type": "markdown",
   "id": "3f9edffe-43f2-44a5-ae6e-e0f4ed6457d8",
   "metadata": {},
   "source": [
    "## Import data set"
   ]
  },
  {
   "cell_type": "code",
   "execution_count": 2,
   "id": "761b588a-52a8-420b-89ca-75200eada889",
   "metadata": {},
   "outputs": [],
   "source": [
    "bipolarreddit_pre = pd.read_csv('../../data/bipolarreddit_pre_features_tfidf_256.csv')\n",
    "bipolarreddit_post = pd.read_csv('../../data/bipolarreddit_post_features_tfidf_256.csv')"
   ]
  },
  {
   "cell_type": "markdown",
   "id": "73f05aa5-f56b-46a5-b581-cf31f89aa8b0",
   "metadata": {},
   "source": [
    "## Filter feature of interest: substance_use_total"
   ]
  },
  {
   "cell_type": "code",
   "execution_count": 3,
   "id": "3b885b03-6956-46cc-8072-ed4a5cdd581e",
   "metadata": {},
   "outputs": [],
   "source": [
    "bipolarreddit_pre  = bipolarreddit_pre  .loc[:, ['subreddit', 'author', 'date', 'post', 'substance_use_total']]\n",
    "bipolarreddit_post = bipolarreddit_post.loc[:, ['subreddit', 'author', 'date', 'post', 'substance_use_total']]"
   ]
  },
  {
   "cell_type": "markdown",
   "id": "37eb9c21-906e-4262-980c-747fa62bddcd",
   "metadata": {},
   "source": [
    "## Pre-Pandemic data set"
   ]
  },
  {
   "cell_type": "code",
   "execution_count": 4,
   "id": "220dc965-28d4-43f0-874d-16c5f8c5b8fc",
   "metadata": {},
   "outputs": [
    {
     "data": {
      "text/html": [
       "<div>\n",
       "<style scoped>\n",
       "    .dataframe tbody tr th:only-of-type {\n",
       "        vertical-align: middle;\n",
       "    }\n",
       "\n",
       "    .dataframe tbody tr th {\n",
       "        vertical-align: top;\n",
       "    }\n",
       "\n",
       "    .dataframe thead th {\n",
       "        text-align: right;\n",
       "    }\n",
       "</style>\n",
       "<table border=\"1\" class=\"dataframe\">\n",
       "  <thead>\n",
       "    <tr style=\"text-align: right;\">\n",
       "      <th></th>\n",
       "      <th>subreddit</th>\n",
       "      <th>author</th>\n",
       "      <th>date</th>\n",
       "      <th>post</th>\n",
       "      <th>substance_use_total</th>\n",
       "    </tr>\n",
       "  </thead>\n",
       "  <tbody>\n",
       "    <tr>\n",
       "      <th>0</th>\n",
       "      <td>bipolarreddit</td>\n",
       "      <td>onetrueking666</td>\n",
       "      <td>2019/08/04</td>\n",
       "      <td>How to tell a new significant other that you’r...</td>\n",
       "      <td>0</td>\n",
       "    </tr>\n",
       "    <tr>\n",
       "      <th>1</th>\n",
       "      <td>bipolarreddit</td>\n",
       "      <td>CapriciousFatal</td>\n",
       "      <td>2019/08/04</td>\n",
       "      <td>How many depressive episodes did you have befo...</td>\n",
       "      <td>0</td>\n",
       "    </tr>\n",
       "    <tr>\n",
       "      <th>2</th>\n",
       "      <td>bipolarreddit</td>\n",
       "      <td>planarX</td>\n",
       "      <td>2019/08/04</td>\n",
       "      <td>Update, additional advice requested: Bipolar g...</td>\n",
       "      <td>0</td>\n",
       "    </tr>\n",
       "    <tr>\n",
       "      <th>3</th>\n",
       "      <td>bipolarreddit</td>\n",
       "      <td>i_am_meee</td>\n",
       "      <td>2019/08/04</td>\n",
       "      <td>Think I’m stable but not completely satisfied ...</td>\n",
       "      <td>0</td>\n",
       "    </tr>\n",
       "    <tr>\n",
       "      <th>4</th>\n",
       "      <td>bipolarreddit</td>\n",
       "      <td>emobf</td>\n",
       "      <td>2019/08/04</td>\n",
       "      <td>In need of some advice/education on Bipolar di...</td>\n",
       "      <td>0</td>\n",
       "    </tr>\n",
       "  </tbody>\n",
       "</table>\n",
       "</div>"
      ],
      "text/plain": [
       "       subreddit           author        date  \\\n",
       "0  bipolarreddit   onetrueking666  2019/08/04   \n",
       "1  bipolarreddit  CapriciousFatal  2019/08/04   \n",
       "2  bipolarreddit          planarX  2019/08/04   \n",
       "3  bipolarreddit        i_am_meee  2019/08/04   \n",
       "4  bipolarreddit            emobf  2019/08/04   \n",
       "\n",
       "                                                post  substance_use_total  \n",
       "0  How to tell a new significant other that you’r...                    0  \n",
       "1  How many depressive episodes did you have befo...                    0  \n",
       "2  Update, additional advice requested: Bipolar g...                    0  \n",
       "3  Think I’m stable but not completely satisfied ...                    0  \n",
       "4  In need of some advice/education on Bipolar di...                    0  "
      ]
     },
     "execution_count": 4,
     "metadata": {},
     "output_type": "execute_result"
    }
   ],
   "source": [
    "bipolarreddit_pre.head(5)"
   ]
  },
  {
   "cell_type": "code",
   "execution_count": 5,
   "id": "85f88c73-467f-4a96-a7ea-0fff66a5513c",
   "metadata": {},
   "outputs": [
    {
     "data": {
      "text/html": [
       "<div>\n",
       "<style scoped>\n",
       "    .dataframe tbody tr th:only-of-type {\n",
       "        vertical-align: middle;\n",
       "    }\n",
       "\n",
       "    .dataframe tbody tr th {\n",
       "        vertical-align: top;\n",
       "    }\n",
       "\n",
       "    .dataframe thead th {\n",
       "        text-align: right;\n",
       "    }\n",
       "</style>\n",
       "<table border=\"1\" class=\"dataframe\">\n",
       "  <thead>\n",
       "    <tr style=\"text-align: right;\">\n",
       "      <th></th>\n",
       "      <th>subreddit</th>\n",
       "      <th>author</th>\n",
       "      <th>date</th>\n",
       "      <th>post</th>\n",
       "      <th>substance_use_total</th>\n",
       "    </tr>\n",
       "  </thead>\n",
       "  <tbody>\n",
       "    <tr>\n",
       "      <th>2715</th>\n",
       "      <td>bipolarreddit</td>\n",
       "      <td>Reddicini</td>\n",
       "      <td>2019/10/25</td>\n",
       "      <td>Just got to sleep. I think I was awake the who...</td>\n",
       "      <td>6</td>\n",
       "    </tr>\n",
       "    <tr>\n",
       "      <th>2716</th>\n",
       "      <td>bipolarreddit</td>\n",
       "      <td>taiiigastyle</td>\n",
       "      <td>2019/10/25</td>\n",
       "      <td>Recent Diagnosis of Bipolar Disorder and Presc...</td>\n",
       "      <td>0</td>\n",
       "    </tr>\n",
       "    <tr>\n",
       "      <th>2717</th>\n",
       "      <td>bipolarreddit</td>\n",
       "      <td>Kramerade</td>\n",
       "      <td>2019/10/25</td>\n",
       "      <td>Recently started Abilify I’m glad reddit has a...</td>\n",
       "      <td>0</td>\n",
       "    </tr>\n",
       "    <tr>\n",
       "      <th>2718</th>\n",
       "      <td>bipolarreddit</td>\n",
       "      <td>clock_project</td>\n",
       "      <td>2019/10/25</td>\n",
       "      <td>Anyone else just end up blaming themselves aft...</td>\n",
       "      <td>1</td>\n",
       "    </tr>\n",
       "    <tr>\n",
       "      <th>2719</th>\n",
       "      <td>bipolarreddit</td>\n",
       "      <td>sleeping__forever</td>\n",
       "      <td>2019/10/25</td>\n",
       "      <td>Advice? Is this bipolar? So I'm starting to be...</td>\n",
       "      <td>0</td>\n",
       "    </tr>\n",
       "  </tbody>\n",
       "</table>\n",
       "</div>"
      ],
      "text/plain": [
       "          subreddit             author        date  \\\n",
       "2715  bipolarreddit          Reddicini  2019/10/25   \n",
       "2716  bipolarreddit       taiiigastyle  2019/10/25   \n",
       "2717  bipolarreddit          Kramerade  2019/10/25   \n",
       "2718  bipolarreddit      clock_project  2019/10/25   \n",
       "2719  bipolarreddit  sleeping__forever  2019/10/25   \n",
       "\n",
       "                                                   post  substance_use_total  \n",
       "2715  Just got to sleep. I think I was awake the who...                    6  \n",
       "2716  Recent Diagnosis of Bipolar Disorder and Presc...                    0  \n",
       "2717  Recently started Abilify I’m glad reddit has a...                    0  \n",
       "2718  Anyone else just end up blaming themselves aft...                    1  \n",
       "2719  Advice? Is this bipolar? So I'm starting to be...                    0  "
      ]
     },
     "execution_count": 5,
     "metadata": {},
     "output_type": "execute_result"
    }
   ],
   "source": [
    "bipolarreddit_pre.tail(5)"
   ]
  },
  {
   "cell_type": "code",
   "execution_count": 6,
   "id": "e5b3c505-84dd-44a7-bb05-0603486a310b",
   "metadata": {},
   "outputs": [
    {
     "name": "stdout",
     "output_type": "stream",
     "text": [
      "Total number of records in the pre-pandemic dataset: 2720\n"
     ]
    }
   ],
   "source": [
    "print(f'Total number of records in the pre-pandemic dataset: {len(bipolarreddit_pre)}')"
   ]
  },
  {
   "cell_type": "markdown",
   "id": "3d85aae7-24d5-47d9-bd27-24e0e6b615ef",
   "metadata": {},
   "source": [
    "## Post-Pandemic data set"
   ]
  },
  {
   "cell_type": "code",
   "execution_count": 7,
   "id": "753067b1-7ab2-4a27-9111-7aa99a82abc0",
   "metadata": {},
   "outputs": [
    {
     "data": {
      "text/html": [
       "<div>\n",
       "<style scoped>\n",
       "    .dataframe tbody tr th:only-of-type {\n",
       "        vertical-align: middle;\n",
       "    }\n",
       "\n",
       "    .dataframe tbody tr th {\n",
       "        vertical-align: top;\n",
       "    }\n",
       "\n",
       "    .dataframe thead th {\n",
       "        text-align: right;\n",
       "    }\n",
       "</style>\n",
       "<table border=\"1\" class=\"dataframe\">\n",
       "  <thead>\n",
       "    <tr style=\"text-align: right;\">\n",
       "      <th></th>\n",
       "      <th>subreddit</th>\n",
       "      <th>author</th>\n",
       "      <th>date</th>\n",
       "      <th>post</th>\n",
       "      <th>substance_use_total</th>\n",
       "    </tr>\n",
       "  </thead>\n",
       "  <tbody>\n",
       "    <tr>\n",
       "      <th>0</th>\n",
       "      <td>bipolarreddit</td>\n",
       "      <td>KitsiCode</td>\n",
       "      <td>2020/01/01</td>\n",
       "      <td>My Xanax has almost worn off I say to my fianc...</td>\n",
       "      <td>0</td>\n",
       "    </tr>\n",
       "    <tr>\n",
       "      <th>1</th>\n",
       "      <td>bipolarreddit</td>\n",
       "      <td>i_am_meee</td>\n",
       "      <td>2020/01/01</td>\n",
       "      <td>What’s the difference between a personality ty...</td>\n",
       "      <td>0</td>\n",
       "    </tr>\n",
       "    <tr>\n",
       "      <th>2</th>\n",
       "      <td>bipolarreddit</td>\n",
       "      <td>beccasueiloveyou</td>\n",
       "      <td>2020/01/01</td>\n",
       "      <td>Latuda Anyone have insight to stopping latuda?...</td>\n",
       "      <td>1</td>\n",
       "    </tr>\n",
       "    <tr>\n",
       "      <th>3</th>\n",
       "      <td>bipolarreddit</td>\n",
       "      <td>jibberjabbery</td>\n",
       "      <td>2020/01/01</td>\n",
       "      <td>What my therapist says to do instesd of making...</td>\n",
       "      <td>0</td>\n",
       "    </tr>\n",
       "    <tr>\n",
       "      <th>4</th>\n",
       "      <td>bipolarreddit</td>\n",
       "      <td>Lvvvvvv</td>\n",
       "      <td>2020/01/01</td>\n",
       "      <td>Meds stop working Many people report their med...</td>\n",
       "      <td>0</td>\n",
       "    </tr>\n",
       "  </tbody>\n",
       "</table>\n",
       "</div>"
      ],
      "text/plain": [
       "       subreddit            author        date  \\\n",
       "0  bipolarreddit         KitsiCode  2020/01/01   \n",
       "1  bipolarreddit         i_am_meee  2020/01/01   \n",
       "2  bipolarreddit  beccasueiloveyou  2020/01/01   \n",
       "3  bipolarreddit     jibberjabbery  2020/01/01   \n",
       "4  bipolarreddit           Lvvvvvv  2020/01/01   \n",
       "\n",
       "                                                post  substance_use_total  \n",
       "0  My Xanax has almost worn off I say to my fianc...                    0  \n",
       "1  What’s the difference between a personality ty...                    0  \n",
       "2  Latuda Anyone have insight to stopping latuda?...                    1  \n",
       "3  What my therapist says to do instesd of making...                    0  \n",
       "4  Meds stop working Many people report their med...                    0  "
      ]
     },
     "execution_count": 7,
     "metadata": {},
     "output_type": "execute_result"
    }
   ],
   "source": [
    "bipolarreddit_post.head(5)"
   ]
  },
  {
   "cell_type": "code",
   "execution_count": 8,
   "id": "0ff45b7e-3bcb-46f1-b17e-965208296643",
   "metadata": {},
   "outputs": [
    {
     "data": {
      "text/html": [
       "<div>\n",
       "<style scoped>\n",
       "    .dataframe tbody tr th:only-of-type {\n",
       "        vertical-align: middle;\n",
       "    }\n",
       "\n",
       "    .dataframe tbody tr th {\n",
       "        vertical-align: top;\n",
       "    }\n",
       "\n",
       "    .dataframe thead th {\n",
       "        text-align: right;\n",
       "    }\n",
       "</style>\n",
       "<table border=\"1\" class=\"dataframe\">\n",
       "  <thead>\n",
       "    <tr style=\"text-align: right;\">\n",
       "      <th></th>\n",
       "      <th>subreddit</th>\n",
       "      <th>author</th>\n",
       "      <th>date</th>\n",
       "      <th>post</th>\n",
       "      <th>substance_use_total</th>\n",
       "    </tr>\n",
       "  </thead>\n",
       "  <tbody>\n",
       "    <tr>\n",
       "      <th>1363</th>\n",
       "      <td>bipolarreddit</td>\n",
       "      <td>CorazonSincero</td>\n",
       "      <td>2020/04/20</td>\n",
       "      <td>Hallucinations Y’all ever have hallucinations ...</td>\n",
       "      <td>0</td>\n",
       "    </tr>\n",
       "    <tr>\n",
       "      <th>1364</th>\n",
       "      <td>bipolarreddit</td>\n",
       "      <td>bicentennial-man</td>\n",
       "      <td>2020/04/20</td>\n",
       "      <td>Bipolar Disorder as a teenager? Hello, Bipolar...</td>\n",
       "      <td>0</td>\n",
       "    </tr>\n",
       "    <tr>\n",
       "      <th>1365</th>\n",
       "      <td>bipolarreddit</td>\n",
       "      <td>bipolarbear222</td>\n",
       "      <td>2020/04/20</td>\n",
       "      <td>Modafinil Why wouldn’t my doctor want me to sw...</td>\n",
       "      <td>0</td>\n",
       "    </tr>\n",
       "    <tr>\n",
       "      <th>1366</th>\n",
       "      <td>bipolarreddit</td>\n",
       "      <td>mrguy12343</td>\n",
       "      <td>2020/04/20</td>\n",
       "      <td>Time manic/depressed to 'normal' Hi everyone, ...</td>\n",
       "      <td>0</td>\n",
       "    </tr>\n",
       "    <tr>\n",
       "      <th>1367</th>\n",
       "      <td>bipolarreddit</td>\n",
       "      <td>bigcat7777777</td>\n",
       "      <td>2020/04/20</td>\n",
       "      <td>I triggered mixed episode for the first time. ...</td>\n",
       "      <td>0</td>\n",
       "    </tr>\n",
       "  </tbody>\n",
       "</table>\n",
       "</div>"
      ],
      "text/plain": [
       "          subreddit            author        date  \\\n",
       "1363  bipolarreddit    CorazonSincero  2020/04/20   \n",
       "1364  bipolarreddit  bicentennial-man  2020/04/20   \n",
       "1365  bipolarreddit    bipolarbear222  2020/04/20   \n",
       "1366  bipolarreddit        mrguy12343  2020/04/20   \n",
       "1367  bipolarreddit     bigcat7777777  2020/04/20   \n",
       "\n",
       "                                                   post  substance_use_total  \n",
       "1363  Hallucinations Y’all ever have hallucinations ...                    0  \n",
       "1364  Bipolar Disorder as a teenager? Hello, Bipolar...                    0  \n",
       "1365  Modafinil Why wouldn’t my doctor want me to sw...                    0  \n",
       "1366  Time manic/depressed to 'normal' Hi everyone, ...                    0  \n",
       "1367  I triggered mixed episode for the first time. ...                    0  "
      ]
     },
     "execution_count": 8,
     "metadata": {},
     "output_type": "execute_result"
    }
   ],
   "source": [
    "bipolarreddit_post.tail(5)"
   ]
  },
  {
   "cell_type": "code",
   "execution_count": 9,
   "id": "2a0a85de-e6ff-438f-bcba-e33925f27ed9",
   "metadata": {},
   "outputs": [
    {
     "name": "stdout",
     "output_type": "stream",
     "text": [
      "Total number of records in the post-pandemic dataset: 1368\n"
     ]
    }
   ],
   "source": [
    "print(f'Total number of records in the post-pandemic dataset: {len(bipolarreddit_post)}')"
   ]
  },
  {
   "cell_type": "markdown",
   "id": "0ecfbec2-d7ce-44e8-97d6-96fd636896ba",
   "metadata": {},
   "source": [
    "## High Level Analysis of Pre and Post Pandemic datasets"
   ]
  },
  {
   "cell_type": "markdown",
   "id": "0b885ac0-3b35-4517-840f-28be986fd919",
   "metadata": {},
   "source": [
    "First we'll combine the two dataset into one--which will make it easier to compare:"
   ]
  },
  {
   "cell_type": "code",
   "execution_count": 10,
   "id": "f8b0b7aa-d4d7-405d-9ca3-e11924c93279",
   "metadata": {},
   "outputs": [
    {
     "data": {
      "text/html": [
       "<div>\n",
       "<style scoped>\n",
       "    .dataframe tbody tr th:only-of-type {\n",
       "        vertical-align: middle;\n",
       "    }\n",
       "\n",
       "    .dataframe tbody tr th {\n",
       "        vertical-align: top;\n",
       "    }\n",
       "\n",
       "    .dataframe thead th {\n",
       "        text-align: right;\n",
       "    }\n",
       "</style>\n",
       "<table border=\"1\" class=\"dataframe\">\n",
       "  <thead>\n",
       "    <tr style=\"text-align: right;\">\n",
       "      <th></th>\n",
       "      <th>subreddit</th>\n",
       "      <th>author</th>\n",
       "      <th>date</th>\n",
       "      <th>post</th>\n",
       "      <th>substance_use_total</th>\n",
       "      <th>period</th>\n",
       "    </tr>\n",
       "  </thead>\n",
       "  <tbody>\n",
       "    <tr>\n",
       "      <th>0</th>\n",
       "      <td>bipolarreddit</td>\n",
       "      <td>onetrueking666</td>\n",
       "      <td>2019/08/04</td>\n",
       "      <td>How to tell a new significant other that you’r...</td>\n",
       "      <td>0</td>\n",
       "      <td>pre</td>\n",
       "    </tr>\n",
       "    <tr>\n",
       "      <th>1</th>\n",
       "      <td>bipolarreddit</td>\n",
       "      <td>CapriciousFatal</td>\n",
       "      <td>2019/08/04</td>\n",
       "      <td>How many depressive episodes did you have befo...</td>\n",
       "      <td>0</td>\n",
       "      <td>pre</td>\n",
       "    </tr>\n",
       "    <tr>\n",
       "      <th>2</th>\n",
       "      <td>bipolarreddit</td>\n",
       "      <td>planarX</td>\n",
       "      <td>2019/08/04</td>\n",
       "      <td>Update, additional advice requested: Bipolar g...</td>\n",
       "      <td>0</td>\n",
       "      <td>pre</td>\n",
       "    </tr>\n",
       "    <tr>\n",
       "      <th>3</th>\n",
       "      <td>bipolarreddit</td>\n",
       "      <td>i_am_meee</td>\n",
       "      <td>2019/08/04</td>\n",
       "      <td>Think I’m stable but not completely satisfied ...</td>\n",
       "      <td>0</td>\n",
       "      <td>pre</td>\n",
       "    </tr>\n",
       "    <tr>\n",
       "      <th>4</th>\n",
       "      <td>bipolarreddit</td>\n",
       "      <td>emobf</td>\n",
       "      <td>2019/08/04</td>\n",
       "      <td>In need of some advice/education on Bipolar di...</td>\n",
       "      <td>0</td>\n",
       "      <td>pre</td>\n",
       "    </tr>\n",
       "    <tr>\n",
       "      <th>...</th>\n",
       "      <td>...</td>\n",
       "      <td>...</td>\n",
       "      <td>...</td>\n",
       "      <td>...</td>\n",
       "      <td>...</td>\n",
       "      <td>...</td>\n",
       "    </tr>\n",
       "    <tr>\n",
       "      <th>1363</th>\n",
       "      <td>bipolarreddit</td>\n",
       "      <td>CorazonSincero</td>\n",
       "      <td>2020/04/20</td>\n",
       "      <td>Hallucinations Y’all ever have hallucinations ...</td>\n",
       "      <td>0</td>\n",
       "      <td>post</td>\n",
       "    </tr>\n",
       "    <tr>\n",
       "      <th>1364</th>\n",
       "      <td>bipolarreddit</td>\n",
       "      <td>bicentennial-man</td>\n",
       "      <td>2020/04/20</td>\n",
       "      <td>Bipolar Disorder as a teenager? Hello, Bipolar...</td>\n",
       "      <td>0</td>\n",
       "      <td>post</td>\n",
       "    </tr>\n",
       "    <tr>\n",
       "      <th>1365</th>\n",
       "      <td>bipolarreddit</td>\n",
       "      <td>bipolarbear222</td>\n",
       "      <td>2020/04/20</td>\n",
       "      <td>Modafinil Why wouldn’t my doctor want me to sw...</td>\n",
       "      <td>0</td>\n",
       "      <td>post</td>\n",
       "    </tr>\n",
       "    <tr>\n",
       "      <th>1366</th>\n",
       "      <td>bipolarreddit</td>\n",
       "      <td>mrguy12343</td>\n",
       "      <td>2020/04/20</td>\n",
       "      <td>Time manic/depressed to 'normal' Hi everyone, ...</td>\n",
       "      <td>0</td>\n",
       "      <td>post</td>\n",
       "    </tr>\n",
       "    <tr>\n",
       "      <th>1367</th>\n",
       "      <td>bipolarreddit</td>\n",
       "      <td>bigcat7777777</td>\n",
       "      <td>2020/04/20</td>\n",
       "      <td>I triggered mixed episode for the first time. ...</td>\n",
       "      <td>0</td>\n",
       "      <td>post</td>\n",
       "    </tr>\n",
       "  </tbody>\n",
       "</table>\n",
       "<p>4088 rows × 6 columns</p>\n",
       "</div>"
      ],
      "text/plain": [
       "          subreddit            author        date  \\\n",
       "0     bipolarreddit    onetrueking666  2019/08/04   \n",
       "1     bipolarreddit   CapriciousFatal  2019/08/04   \n",
       "2     bipolarreddit           planarX  2019/08/04   \n",
       "3     bipolarreddit         i_am_meee  2019/08/04   \n",
       "4     bipolarreddit             emobf  2019/08/04   \n",
       "...             ...               ...         ...   \n",
       "1363  bipolarreddit    CorazonSincero  2020/04/20   \n",
       "1364  bipolarreddit  bicentennial-man  2020/04/20   \n",
       "1365  bipolarreddit    bipolarbear222  2020/04/20   \n",
       "1366  bipolarreddit        mrguy12343  2020/04/20   \n",
       "1367  bipolarreddit     bigcat7777777  2020/04/20   \n",
       "\n",
       "                                                   post  substance_use_total  \\\n",
       "0     How to tell a new significant other that you’r...                    0   \n",
       "1     How many depressive episodes did you have befo...                    0   \n",
       "2     Update, additional advice requested: Bipolar g...                    0   \n",
       "3     Think I’m stable but not completely satisfied ...                    0   \n",
       "4     In need of some advice/education on Bipolar di...                    0   \n",
       "...                                                 ...                  ...   \n",
       "1363  Hallucinations Y’all ever have hallucinations ...                    0   \n",
       "1364  Bipolar Disorder as a teenager? Hello, Bipolar...                    0   \n",
       "1365  Modafinil Why wouldn’t my doctor want me to sw...                    0   \n",
       "1366  Time manic/depressed to 'normal' Hi everyone, ...                    0   \n",
       "1367  I triggered mixed episode for the first time. ...                    0   \n",
       "\n",
       "     period  \n",
       "0       pre  \n",
       "1       pre  \n",
       "2       pre  \n",
       "3       pre  \n",
       "4       pre  \n",
       "...     ...  \n",
       "1363   post  \n",
       "1364   post  \n",
       "1365   post  \n",
       "1366   post  \n",
       "1367   post  \n",
       "\n",
       "[4088 rows x 6 columns]"
      ]
     },
     "execution_count": 10,
     "metadata": {},
     "output_type": "execute_result"
    }
   ],
   "source": [
    "bipolarreddit_pre['period'] = 'pre'\n",
    "bipolarreddit_post['period'] = 'post'\n",
    "\n",
    "bipolarreddit_df = pd.concat([bipolarreddit_pre, bipolarreddit_post])\n",
    "bipolarreddit_df"
   ]
  },
  {
   "cell_type": "code",
   "execution_count": 11,
   "id": "6d0f4136-b8e2-4488-9d05-cf128cdf85e1",
   "metadata": {},
   "outputs": [
    {
     "data": {
      "text/html": [
       "<div>\n",
       "<style scoped>\n",
       "    .dataframe tbody tr th:only-of-type {\n",
       "        vertical-align: middle;\n",
       "    }\n",
       "\n",
       "    .dataframe tbody tr th {\n",
       "        vertical-align: top;\n",
       "    }\n",
       "\n",
       "    .dataframe thead th {\n",
       "        text-align: right;\n",
       "    }\n",
       "</style>\n",
       "<table border=\"1\" class=\"dataframe\">\n",
       "  <thead>\n",
       "    <tr style=\"text-align: right;\">\n",
       "      <th></th>\n",
       "      <th>substance_use_total</th>\n",
       "      <th>substance_use_total</th>\n",
       "    </tr>\n",
       "  </thead>\n",
       "  <tbody>\n",
       "    <tr>\n",
       "      <th>count</th>\n",
       "      <td>2720.000000</td>\n",
       "      <td>1368.000000</td>\n",
       "    </tr>\n",
       "    <tr>\n",
       "      <th>mean</th>\n",
       "      <td>0.487868</td>\n",
       "      <td>0.511696</td>\n",
       "    </tr>\n",
       "    <tr>\n",
       "      <th>std</th>\n",
       "      <td>1.145469</td>\n",
       "      <td>1.079778</td>\n",
       "    </tr>\n",
       "    <tr>\n",
       "      <th>min</th>\n",
       "      <td>0.000000</td>\n",
       "      <td>0.000000</td>\n",
       "    </tr>\n",
       "    <tr>\n",
       "      <th>25%</th>\n",
       "      <td>0.000000</td>\n",
       "      <td>0.000000</td>\n",
       "    </tr>\n",
       "    <tr>\n",
       "      <th>50%</th>\n",
       "      <td>0.000000</td>\n",
       "      <td>0.000000</td>\n",
       "    </tr>\n",
       "    <tr>\n",
       "      <th>75%</th>\n",
       "      <td>1.000000</td>\n",
       "      <td>1.000000</td>\n",
       "    </tr>\n",
       "    <tr>\n",
       "      <th>max</th>\n",
       "      <td>17.000000</td>\n",
       "      <td>13.000000</td>\n",
       "    </tr>\n",
       "  </tbody>\n",
       "</table>\n",
       "</div>"
      ],
      "text/plain": [
       "       substance_use_total  substance_use_total\n",
       "count          2720.000000          1368.000000\n",
       "mean              0.487868             0.511696\n",
       "std               1.145469             1.079778\n",
       "min               0.000000             0.000000\n",
       "25%               0.000000             0.000000\n",
       "50%               0.000000             0.000000\n",
       "75%               1.000000             1.000000\n",
       "max              17.000000            13.000000"
      ]
     },
     "execution_count": 11,
     "metadata": {},
     "output_type": "execute_result"
    }
   ],
   "source": [
    "pd.concat([bipolarreddit_pre.describe(), bipolarreddit_post.describe()], axis=1)"
   ]
  },
  {
   "cell_type": "markdown",
   "id": "2177cf93-f250-4d9b-92e0-33f026e9b9be",
   "metadata": {},
   "source": [
    "### Visualization"
   ]
  },
  {
   "cell_type": "code",
   "execution_count": 12,
   "id": "6780e276-ebc9-4098-8d9a-d8328c307a02",
   "metadata": {},
   "outputs": [
    {
     "data": {
      "application/vnd.vegalite.v4+json": {
       "$schema": "https://vega.github.io/schema/vega-lite/v4.8.1.json",
       "columns": 1,
       "config": {
        "view": {
         "continuousHeight": 300,
         "continuousWidth": 400
        }
       },
       "data": {
        "url": "http://localhost:23904/82388c0d28819121e6674acffda8e9d5.json"
       },
       "facet": {
        "field": "period",
        "type": "nominal"
       },
       "spec": {
        "encoding": {
         "color": {
          "field": "period",
          "type": "nominal"
         },
         "x": {
          "bin": {
           "maxbins": 20
          },
          "field": "substance_use_total",
          "title": "Substance Use Total",
          "type": "quantitative"
         },
         "y": {
          "aggregate": "count",
          "type": "quantitative"
         }
        },
        "mark": "bar"
       }
      },
      "image/png": "[encoded data removed]",
      "text/plain": [
       "<VegaLite 4 object>\n",
       "\n",
       "If you see this message, it means the renderer has not been properly enabled\n",
       "for the frontend that you are using. For more information, see\n",
       "https://altair-viz.github.io/user_guide/troubleshooting.html\n"
      ]
     },
     "execution_count": 12,
     "metadata": {},
     "output_type": "execute_result"
    }
   ],
   "source": [
    "alt.Chart(bipolarreddit_df).mark_bar().encode(\n",
    "    x=alt.X('substance_use_total', bin=alt.Bin(maxbins=20), title = 'Substance Use Total'),\n",
    "    y='count()',\n",
    "    color='period'\n",
    ").facet('period', columns=1)"
   ]
  },
  {
   "cell_type": "code",
   "execution_count": 13,
   "id": "82355c3b-d9f8-4b33-a0cf-702e59cf88bf",
   "metadata": {},
   "outputs": [
    {
     "name": "stdout",
     "output_type": "stream",
     "text": [
      "Number of unique authors (posters) in 'pre' dataset: 2720\n",
      "Number of unique authors (posters) in 'post' dataset: 1368\n"
     ]
    }
   ],
   "source": [
    "print(f\"Number of unique authors (posters) in 'pre' dataset: {len(bipolarreddit_pre.author.unique())}\")\n",
    "print(f\"Number of unique authors (posters) in 'post' dataset: {len(bipolarreddit_post.author.unique())}\")"
   ]
  },
  {
   "cell_type": "markdown",
   "id": "6d842356-1c27-4012-9126-893b99b4787f",
   "metadata": {},
   "source": [
    "1. Every records in the dataset is associated with an unique author\n",
    "2. The number of unique authors before the pandemic is more than twice compared to after pandemic data\n",
    "3. The mean of the substance use total before pandemic is slightly slower than after pandemic"
   ]
  }
 ],
 "metadata": {
  "kernelspec": {
   "display_name": "Python 3 (ipykernel)",
   "language": "python",
   "name": "python3"
  },
  "language_info": {
   "codemirror_mode": {
    "name": "ipython",
    "version": 3
   },
   "file_extension": ".py",
   "mimetype": "text/x-python",
   "name": "python",
   "nbconvert_exporter": "python",
   "pygments_lexer": "ipython3",
   "version": "3.9.5"
  }
 },
 "nbformat": 4,
 "nbformat_minor": 5
}
