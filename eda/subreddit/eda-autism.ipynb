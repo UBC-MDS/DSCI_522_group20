{
 "cells": [
  {
   "cell_type": "markdown",
   "id": "804ad023-2816-4403-a13d-547cf3f1b9ad",
   "metadata": {},
   "source": [
    "# EDA for **Autism** Before and After Pandemic"
   ]
  },
  {
   "cell_type": "markdown",
   "id": "d458dc22-088e-4c8a-a448-dff790c1cd88",
   "metadata": {},
   "source": [
    "## Import packages"
   ]
  },
  {
   "cell_type": "code",
   "execution_count": 1,
   "id": "af11aad1-df8f-42f1-ab28-dc1f46b11f63",
   "metadata": {},
   "outputs": [
    {
     "data": {
      "text/plain": [
       "RendererRegistry.enable('mimetype')"
      ]
     },
     "execution_count": 1,
     "metadata": {},
     "output_type": "execute_result"
    }
   ],
   "source": [
    "import pandas as pd\n",
    "import numpy as np\n",
    "import altair as alt\n",
    "alt.data_transformers.enable('data_server')\n",
    "alt.renderers.enable('mimetype')"
   ]
  },
  {
   "cell_type": "markdown",
   "id": "3f9edffe-43f2-44a5-ae6e-e0f4ed6457d8",
   "metadata": {},
   "source": [
    "## Import data set"
   ]
  },
  {
   "cell_type": "code",
   "execution_count": 2,
   "id": "761b588a-52a8-420b-89ca-75200eada889",
   "metadata": {},
   "outputs": [],
   "source": [
    "autism_pre = pd.read_csv('../../data/autism_pre_features_tfidf_256.csv')\n",
    "autism_post = pd.read_csv('../../data/autism_post_features_tfidf_256.csv')"
   ]
  },
  {
   "cell_type": "markdown",
   "id": "73f05aa5-f56b-46a5-b581-cf31f89aa8b0",
   "metadata": {},
   "source": [
    "## Filter feature of interest: substance_use_total"
   ]
  },
  {
   "cell_type": "code",
   "execution_count": 3,
   "id": "3b885b03-6956-46cc-8072-ed4a5cdd581e",
   "metadata": {},
   "outputs": [],
   "source": [
    "autism_pre = autism_pre .loc[:, ['subreddit', 'author', 'date', 'post', 'substance_use_total']]\n",
    "autism_post = autism_post.loc[:, ['subreddit', 'author', 'date', 'post', 'substance_use_total']]"
   ]
  },
  {
   "cell_type": "markdown",
   "id": "37eb9c21-906e-4262-980c-747fa62bddcd",
   "metadata": {},
   "source": [
    "## Pre-Pandemic data set"
   ]
  },
  {
   "cell_type": "code",
   "execution_count": 4,
   "id": "220dc965-28d4-43f0-874d-16c5f8c5b8fc",
   "metadata": {},
   "outputs": [
    {
     "data": {
      "text/html": [
       "<div>\n",
       "<style scoped>\n",
       "    .dataframe tbody tr th:only-of-type {\n",
       "        vertical-align: middle;\n",
       "    }\n",
       "\n",
       "    .dataframe tbody tr th {\n",
       "        vertical-align: top;\n",
       "    }\n",
       "\n",
       "    .dataframe thead th {\n",
       "        text-align: right;\n",
       "    }\n",
       "</style>\n",
       "<table border=\"1\" class=\"dataframe\">\n",
       "  <thead>\n",
       "    <tr style=\"text-align: right;\">\n",
       "      <th></th>\n",
       "      <th>subreddit</th>\n",
       "      <th>author</th>\n",
       "      <th>date</th>\n",
       "      <th>post</th>\n",
       "      <th>substance_use_total</th>\n",
       "    </tr>\n",
       "  </thead>\n",
       "  <tbody>\n",
       "    <tr>\n",
       "      <th>0</th>\n",
       "      <td>autism</td>\n",
       "      <td>Truly_Tobi</td>\n",
       "      <td>2019/07/13</td>\n",
       "      <td>I think I might have autism but my parents ref...</td>\n",
       "      <td>0</td>\n",
       "    </tr>\n",
       "    <tr>\n",
       "      <th>1</th>\n",
       "      <td>autism</td>\n",
       "      <td>Forzafanboy4</td>\n",
       "      <td>2019/07/13</td>\n",
       "      <td>Shouting out Sometimes I shout out random thin...</td>\n",
       "      <td>0</td>\n",
       "    </tr>\n",
       "    <tr>\n",
       "      <th>2</th>\n",
       "      <td>autism</td>\n",
       "      <td>GoldenHoneyCyclops</td>\n",
       "      <td>2019/07/13</td>\n",
       "      <td>The wisdom teeth removal experience IF YOU DO ...</td>\n",
       "      <td>0</td>\n",
       "    </tr>\n",
       "    <tr>\n",
       "      <th>3</th>\n",
       "      <td>autism</td>\n",
       "      <td>AOneGirlRevolution</td>\n",
       "      <td>2019/07/13</td>\n",
       "      <td>Looking for constructive criticism from other ...</td>\n",
       "      <td>0</td>\n",
       "    </tr>\n",
       "    <tr>\n",
       "      <th>4</th>\n",
       "      <td>autism</td>\n",
       "      <td>AristotelesRocks</td>\n",
       "      <td>2019/07/13</td>\n",
       "      <td>Sheldon from The Big Bang Theory isn’t on the ...</td>\n",
       "      <td>0</td>\n",
       "    </tr>\n",
       "  </tbody>\n",
       "</table>\n",
       "</div>"
      ],
      "text/plain": [
       "  subreddit              author        date  \\\n",
       "0    autism          Truly_Tobi  2019/07/13   \n",
       "1    autism        Forzafanboy4  2019/07/13   \n",
       "2    autism  GoldenHoneyCyclops  2019/07/13   \n",
       "3    autism  AOneGirlRevolution  2019/07/13   \n",
       "4    autism    AristotelesRocks  2019/07/13   \n",
       "\n",
       "                                                post  substance_use_total  \n",
       "0  I think I might have autism but my parents ref...                    0  \n",
       "1  Shouting out Sometimes I shout out random thin...                    0  \n",
       "2  The wisdom teeth removal experience IF YOU DO ...                    0  \n",
       "3  Looking for constructive criticism from other ...                    0  \n",
       "4  Sheldon from The Big Bang Theory isn’t on the ...                    0  "
      ]
     },
     "execution_count": 4,
     "metadata": {},
     "output_type": "execute_result"
    }
   ],
   "source": [
    "autism_pre.head(5)"
   ]
  },
  {
   "cell_type": "code",
   "execution_count": 5,
   "id": "85f88c73-467f-4a96-a7ea-0fff66a5513c",
   "metadata": {},
   "outputs": [
    {
     "data": {
      "text/html": [
       "<div>\n",
       "<style scoped>\n",
       "    .dataframe tbody tr th:only-of-type {\n",
       "        vertical-align: middle;\n",
       "    }\n",
       "\n",
       "    .dataframe tbody tr th {\n",
       "        vertical-align: top;\n",
       "    }\n",
       "\n",
       "    .dataframe thead th {\n",
       "        text-align: right;\n",
       "    }\n",
       "</style>\n",
       "<table border=\"1\" class=\"dataframe\">\n",
       "  <thead>\n",
       "    <tr style=\"text-align: right;\">\n",
       "      <th></th>\n",
       "      <th>subreddit</th>\n",
       "      <th>author</th>\n",
       "      <th>date</th>\n",
       "      <th>post</th>\n",
       "      <th>substance_use_total</th>\n",
       "    </tr>\n",
       "  </thead>\n",
       "  <tbody>\n",
       "    <tr>\n",
       "      <th>2204</th>\n",
       "      <td>autism</td>\n",
       "      <td>AWordBully</td>\n",
       "      <td>2020/04/20</td>\n",
       "      <td>I easily get overwhelmed by stress and informa...</td>\n",
       "      <td>0</td>\n",
       "    </tr>\n",
       "    <tr>\n",
       "      <th>2205</th>\n",
       "      <td>autism</td>\n",
       "      <td>Ranza27</td>\n",
       "      <td>2020/04/20</td>\n",
       "      <td>So how are you all dealing with quarantine? It...</td>\n",
       "      <td>0</td>\n",
       "    </tr>\n",
       "    <tr>\n",
       "      <th>2206</th>\n",
       "      <td>autism</td>\n",
       "      <td>quinnie55</td>\n",
       "      <td>2020/04/20</td>\n",
       "      <td>I had my first full 2 hour siezure-like meltdo...</td>\n",
       "      <td>2</td>\n",
       "    </tr>\n",
       "    <tr>\n",
       "      <th>2207</th>\n",
       "      <td>autism</td>\n",
       "      <td>SullenTerror</td>\n",
       "      <td>2020/04/20</td>\n",
       "      <td>So i havent masked in 4 years, and i feel grea...</td>\n",
       "      <td>0</td>\n",
       "    </tr>\n",
       "    <tr>\n",
       "      <th>2208</th>\n",
       "      <td>autism</td>\n",
       "      <td>alwaysn00b</td>\n",
       "      <td>2020/04/20</td>\n",
       "      <td>What is your de-escalation strategy for when f...</td>\n",
       "      <td>0</td>\n",
       "    </tr>\n",
       "  </tbody>\n",
       "</table>\n",
       "</div>"
      ],
      "text/plain": [
       "     subreddit        author        date  \\\n",
       "2204    autism    AWordBully  2020/04/20   \n",
       "2205    autism       Ranza27  2020/04/20   \n",
       "2206    autism     quinnie55  2020/04/20   \n",
       "2207    autism  SullenTerror  2020/04/20   \n",
       "2208    autism    alwaysn00b  2020/04/20   \n",
       "\n",
       "                                                   post  substance_use_total  \n",
       "2204  I easily get overwhelmed by stress and informa...                    0  \n",
       "2205  So how are you all dealing with quarantine? It...                    0  \n",
       "2206  I had my first full 2 hour siezure-like meltdo...                    2  \n",
       "2207  So i havent masked in 4 years, and i feel grea...                    0  \n",
       "2208  What is your de-escalation strategy for when f...                    0  "
      ]
     },
     "execution_count": 5,
     "metadata": {},
     "output_type": "execute_result"
    }
   ],
   "source": [
    "autism_post.tail(5)"
   ]
  },
  {
   "cell_type": "code",
   "execution_count": 6,
   "id": "e5b3c505-84dd-44a7-bb05-0603486a310b",
   "metadata": {},
   "outputs": [
    {
     "name": "stdout",
     "output_type": "stream",
     "text": [
      "Total number of records in the pre-pandemic dataset: 4576\n"
     ]
    }
   ],
   "source": [
    "print(f'Total number of records in the pre-pandemic dataset: {len(autism_pre)}')"
   ]
  },
  {
   "cell_type": "markdown",
   "id": "3d85aae7-24d5-47d9-bd27-24e0e6b615ef",
   "metadata": {},
   "source": [
    "## Post-Pandemic data set"
   ]
  },
  {
   "cell_type": "code",
   "execution_count": 7,
   "id": "753067b1-7ab2-4a27-9111-7aa99a82abc0",
   "metadata": {},
   "outputs": [
    {
     "data": {
      "text/html": [
       "<div>\n",
       "<style scoped>\n",
       "    .dataframe tbody tr th:only-of-type {\n",
       "        vertical-align: middle;\n",
       "    }\n",
       "\n",
       "    .dataframe tbody tr th {\n",
       "        vertical-align: top;\n",
       "    }\n",
       "\n",
       "    .dataframe thead th {\n",
       "        text-align: right;\n",
       "    }\n",
       "</style>\n",
       "<table border=\"1\" class=\"dataframe\">\n",
       "  <thead>\n",
       "    <tr style=\"text-align: right;\">\n",
       "      <th></th>\n",
       "      <th>subreddit</th>\n",
       "      <th>author</th>\n",
       "      <th>date</th>\n",
       "      <th>post</th>\n",
       "      <th>substance_use_total</th>\n",
       "    </tr>\n",
       "  </thead>\n",
       "  <tbody>\n",
       "    <tr>\n",
       "      <th>0</th>\n",
       "      <td>autism</td>\n",
       "      <td>Leafkage</td>\n",
       "      <td>2020/01/01</td>\n",
       "      <td>I cant live with autism Im 14 years old and i ...</td>\n",
       "      <td>1</td>\n",
       "    </tr>\n",
       "    <tr>\n",
       "      <th>1</th>\n",
       "      <td>autism</td>\n",
       "      <td>foofohy</td>\n",
       "      <td>2020/01/01</td>\n",
       "      <td>I have a question How do you know that you are...</td>\n",
       "      <td>0</td>\n",
       "    </tr>\n",
       "    <tr>\n",
       "      <th>2</th>\n",
       "      <td>autism</td>\n",
       "      <td>connor_the_metalhead</td>\n",
       "      <td>2020/01/01</td>\n",
       "      <td>Advice for Someone with Sensory Food Aversions...</td>\n",
       "      <td>1</td>\n",
       "    </tr>\n",
       "    <tr>\n",
       "      <th>3</th>\n",
       "      <td>autism</td>\n",
       "      <td>LJamH</td>\n",
       "      <td>2020/01/01</td>\n",
       "      <td>I was diagnosed with autism at 16 and hid from...</td>\n",
       "      <td>0</td>\n",
       "    </tr>\n",
       "    <tr>\n",
       "      <th>4</th>\n",
       "      <td>autism</td>\n",
       "      <td>Kinaibhlan</td>\n",
       "      <td>2020/01/01</td>\n",
       "      <td>Social cues you understand and still hate Whic...</td>\n",
       "      <td>2</td>\n",
       "    </tr>\n",
       "  </tbody>\n",
       "</table>\n",
       "</div>"
      ],
      "text/plain": [
       "  subreddit                author        date  \\\n",
       "0    autism              Leafkage  2020/01/01   \n",
       "1    autism               foofohy  2020/01/01   \n",
       "2    autism  connor_the_metalhead  2020/01/01   \n",
       "3    autism                 LJamH  2020/01/01   \n",
       "4    autism            Kinaibhlan  2020/01/01   \n",
       "\n",
       "                                                post  substance_use_total  \n",
       "0  I cant live with autism Im 14 years old and i ...                    1  \n",
       "1  I have a question How do you know that you are...                    0  \n",
       "2  Advice for Someone with Sensory Food Aversions...                    1  \n",
       "3  I was diagnosed with autism at 16 and hid from...                    0  \n",
       "4  Social cues you understand and still hate Whic...                    2  "
      ]
     },
     "execution_count": 7,
     "metadata": {},
     "output_type": "execute_result"
    }
   ],
   "source": [
    "autism_post.head(5)"
   ]
  },
  {
   "cell_type": "code",
   "execution_count": 8,
   "id": "0ff45b7e-3bcb-46f1-b17e-965208296643",
   "metadata": {},
   "outputs": [
    {
     "data": {
      "text/html": [
       "<div>\n",
       "<style scoped>\n",
       "    .dataframe tbody tr th:only-of-type {\n",
       "        vertical-align: middle;\n",
       "    }\n",
       "\n",
       "    .dataframe tbody tr th {\n",
       "        vertical-align: top;\n",
       "    }\n",
       "\n",
       "    .dataframe thead th {\n",
       "        text-align: right;\n",
       "    }\n",
       "</style>\n",
       "<table border=\"1\" class=\"dataframe\">\n",
       "  <thead>\n",
       "    <tr style=\"text-align: right;\">\n",
       "      <th></th>\n",
       "      <th>subreddit</th>\n",
       "      <th>author</th>\n",
       "      <th>date</th>\n",
       "      <th>post</th>\n",
       "      <th>substance_use_total</th>\n",
       "    </tr>\n",
       "  </thead>\n",
       "  <tbody>\n",
       "    <tr>\n",
       "      <th>2204</th>\n",
       "      <td>autism</td>\n",
       "      <td>AWordBully</td>\n",
       "      <td>2020/04/20</td>\n",
       "      <td>I easily get overwhelmed by stress and informa...</td>\n",
       "      <td>0</td>\n",
       "    </tr>\n",
       "    <tr>\n",
       "      <th>2205</th>\n",
       "      <td>autism</td>\n",
       "      <td>Ranza27</td>\n",
       "      <td>2020/04/20</td>\n",
       "      <td>So how are you all dealing with quarantine? It...</td>\n",
       "      <td>0</td>\n",
       "    </tr>\n",
       "    <tr>\n",
       "      <th>2206</th>\n",
       "      <td>autism</td>\n",
       "      <td>quinnie55</td>\n",
       "      <td>2020/04/20</td>\n",
       "      <td>I had my first full 2 hour siezure-like meltdo...</td>\n",
       "      <td>2</td>\n",
       "    </tr>\n",
       "    <tr>\n",
       "      <th>2207</th>\n",
       "      <td>autism</td>\n",
       "      <td>SullenTerror</td>\n",
       "      <td>2020/04/20</td>\n",
       "      <td>So i havent masked in 4 years, and i feel grea...</td>\n",
       "      <td>0</td>\n",
       "    </tr>\n",
       "    <tr>\n",
       "      <th>2208</th>\n",
       "      <td>autism</td>\n",
       "      <td>alwaysn00b</td>\n",
       "      <td>2020/04/20</td>\n",
       "      <td>What is your de-escalation strategy for when f...</td>\n",
       "      <td>0</td>\n",
       "    </tr>\n",
       "  </tbody>\n",
       "</table>\n",
       "</div>"
      ],
      "text/plain": [
       "     subreddit        author        date  \\\n",
       "2204    autism    AWordBully  2020/04/20   \n",
       "2205    autism       Ranza27  2020/04/20   \n",
       "2206    autism     quinnie55  2020/04/20   \n",
       "2207    autism  SullenTerror  2020/04/20   \n",
       "2208    autism    alwaysn00b  2020/04/20   \n",
       "\n",
       "                                                   post  substance_use_total  \n",
       "2204  I easily get overwhelmed by stress and informa...                    0  \n",
       "2205  So how are you all dealing with quarantine? It...                    0  \n",
       "2206  I had my first full 2 hour siezure-like meltdo...                    2  \n",
       "2207  So i havent masked in 4 years, and i feel grea...                    0  \n",
       "2208  What is your de-escalation strategy for when f...                    0  "
      ]
     },
     "execution_count": 8,
     "metadata": {},
     "output_type": "execute_result"
    }
   ],
   "source": [
    "autism_post.tail(5)"
   ]
  },
  {
   "cell_type": "code",
   "execution_count": 9,
   "id": "2a0a85de-e6ff-438f-bcba-e33925f27ed9",
   "metadata": {},
   "outputs": [
    {
     "name": "stdout",
     "output_type": "stream",
     "text": [
      "Total number of records in the post-pandemic dataset: 2209\n"
     ]
    }
   ],
   "source": [
    "print(f'Total number of records in the post-pandemic dataset: {len(autism_post)}')"
   ]
  },
  {
   "cell_type": "markdown",
   "id": "0ecfbec2-d7ce-44e8-97d6-96fd636896ba",
   "metadata": {},
   "source": [
    "## High Level Analysis of Pre and Post Pandemic datasets"
   ]
  },
  {
   "cell_type": "markdown",
   "id": "0b885ac0-3b35-4517-840f-28be986fd919",
   "metadata": {},
   "source": [
    "First we'll combine the two dataset into one--which will make it easier to compare:"
   ]
  },
  {
   "cell_type": "code",
   "execution_count": 10,
   "id": "f8b0b7aa-d4d7-405d-9ca3-e11924c93279",
   "metadata": {},
   "outputs": [
    {
     "data": {
      "text/html": [
       "<div>\n",
       "<style scoped>\n",
       "    .dataframe tbody tr th:only-of-type {\n",
       "        vertical-align: middle;\n",
       "    }\n",
       "\n",
       "    .dataframe tbody tr th {\n",
       "        vertical-align: top;\n",
       "    }\n",
       "\n",
       "    .dataframe thead th {\n",
       "        text-align: right;\n",
       "    }\n",
       "</style>\n",
       "<table border=\"1\" class=\"dataframe\">\n",
       "  <thead>\n",
       "    <tr style=\"text-align: right;\">\n",
       "      <th></th>\n",
       "      <th>subreddit</th>\n",
       "      <th>author</th>\n",
       "      <th>date</th>\n",
       "      <th>post</th>\n",
       "      <th>substance_use_total</th>\n",
       "      <th>period</th>\n",
       "    </tr>\n",
       "  </thead>\n",
       "  <tbody>\n",
       "    <tr>\n",
       "      <th>0</th>\n",
       "      <td>autism</td>\n",
       "      <td>Truly_Tobi</td>\n",
       "      <td>2019/07/13</td>\n",
       "      <td>I think I might have autism but my parents ref...</td>\n",
       "      <td>0</td>\n",
       "      <td>pre</td>\n",
       "    </tr>\n",
       "    <tr>\n",
       "      <th>1</th>\n",
       "      <td>autism</td>\n",
       "      <td>Forzafanboy4</td>\n",
       "      <td>2019/07/13</td>\n",
       "      <td>Shouting out Sometimes I shout out random thin...</td>\n",
       "      <td>0</td>\n",
       "      <td>pre</td>\n",
       "    </tr>\n",
       "    <tr>\n",
       "      <th>2</th>\n",
       "      <td>autism</td>\n",
       "      <td>GoldenHoneyCyclops</td>\n",
       "      <td>2019/07/13</td>\n",
       "      <td>The wisdom teeth removal experience IF YOU DO ...</td>\n",
       "      <td>0</td>\n",
       "      <td>pre</td>\n",
       "    </tr>\n",
       "    <tr>\n",
       "      <th>3</th>\n",
       "      <td>autism</td>\n",
       "      <td>AOneGirlRevolution</td>\n",
       "      <td>2019/07/13</td>\n",
       "      <td>Looking for constructive criticism from other ...</td>\n",
       "      <td>0</td>\n",
       "      <td>pre</td>\n",
       "    </tr>\n",
       "    <tr>\n",
       "      <th>4</th>\n",
       "      <td>autism</td>\n",
       "      <td>AristotelesRocks</td>\n",
       "      <td>2019/07/13</td>\n",
       "      <td>Sheldon from The Big Bang Theory isn’t on the ...</td>\n",
       "      <td>0</td>\n",
       "      <td>pre</td>\n",
       "    </tr>\n",
       "    <tr>\n",
       "      <th>...</th>\n",
       "      <td>...</td>\n",
       "      <td>...</td>\n",
       "      <td>...</td>\n",
       "      <td>...</td>\n",
       "      <td>...</td>\n",
       "      <td>...</td>\n",
       "    </tr>\n",
       "    <tr>\n",
       "      <th>2204</th>\n",
       "      <td>autism</td>\n",
       "      <td>AWordBully</td>\n",
       "      <td>2020/04/20</td>\n",
       "      <td>I easily get overwhelmed by stress and informa...</td>\n",
       "      <td>0</td>\n",
       "      <td>post</td>\n",
       "    </tr>\n",
       "    <tr>\n",
       "      <th>2205</th>\n",
       "      <td>autism</td>\n",
       "      <td>Ranza27</td>\n",
       "      <td>2020/04/20</td>\n",
       "      <td>So how are you all dealing with quarantine? It...</td>\n",
       "      <td>0</td>\n",
       "      <td>post</td>\n",
       "    </tr>\n",
       "    <tr>\n",
       "      <th>2206</th>\n",
       "      <td>autism</td>\n",
       "      <td>quinnie55</td>\n",
       "      <td>2020/04/20</td>\n",
       "      <td>I had my first full 2 hour siezure-like meltdo...</td>\n",
       "      <td>2</td>\n",
       "      <td>post</td>\n",
       "    </tr>\n",
       "    <tr>\n",
       "      <th>2207</th>\n",
       "      <td>autism</td>\n",
       "      <td>SullenTerror</td>\n",
       "      <td>2020/04/20</td>\n",
       "      <td>So i havent masked in 4 years, and i feel grea...</td>\n",
       "      <td>0</td>\n",
       "      <td>post</td>\n",
       "    </tr>\n",
       "    <tr>\n",
       "      <th>2208</th>\n",
       "      <td>autism</td>\n",
       "      <td>alwaysn00b</td>\n",
       "      <td>2020/04/20</td>\n",
       "      <td>What is your de-escalation strategy for when f...</td>\n",
       "      <td>0</td>\n",
       "      <td>post</td>\n",
       "    </tr>\n",
       "  </tbody>\n",
       "</table>\n",
       "<p>6785 rows × 6 columns</p>\n",
       "</div>"
      ],
      "text/plain": [
       "     subreddit              author        date  \\\n",
       "0       autism          Truly_Tobi  2019/07/13   \n",
       "1       autism        Forzafanboy4  2019/07/13   \n",
       "2       autism  GoldenHoneyCyclops  2019/07/13   \n",
       "3       autism  AOneGirlRevolution  2019/07/13   \n",
       "4       autism    AristotelesRocks  2019/07/13   \n",
       "...        ...                 ...         ...   \n",
       "2204    autism          AWordBully  2020/04/20   \n",
       "2205    autism             Ranza27  2020/04/20   \n",
       "2206    autism           quinnie55  2020/04/20   \n",
       "2207    autism        SullenTerror  2020/04/20   \n",
       "2208    autism          alwaysn00b  2020/04/20   \n",
       "\n",
       "                                                   post  substance_use_total  \\\n",
       "0     I think I might have autism but my parents ref...                    0   \n",
       "1     Shouting out Sometimes I shout out random thin...                    0   \n",
       "2     The wisdom teeth removal experience IF YOU DO ...                    0   \n",
       "3     Looking for constructive criticism from other ...                    0   \n",
       "4     Sheldon from The Big Bang Theory isn’t on the ...                    0   \n",
       "...                                                 ...                  ...   \n",
       "2204  I easily get overwhelmed by stress and informa...                    0   \n",
       "2205  So how are you all dealing with quarantine? It...                    0   \n",
       "2206  I had my first full 2 hour siezure-like meltdo...                    2   \n",
       "2207  So i havent masked in 4 years, and i feel grea...                    0   \n",
       "2208  What is your de-escalation strategy for when f...                    0   \n",
       "\n",
       "     period  \n",
       "0       pre  \n",
       "1       pre  \n",
       "2       pre  \n",
       "3       pre  \n",
       "4       pre  \n",
       "...     ...  \n",
       "2204   post  \n",
       "2205   post  \n",
       "2206   post  \n",
       "2207   post  \n",
       "2208   post  \n",
       "\n",
       "[6785 rows x 6 columns]"
      ]
     },
     "execution_count": 10,
     "metadata": {},
     "output_type": "execute_result"
    }
   ],
   "source": [
    "autism_pre['period'] = 'pre'\n",
    "autism_post['period'] = 'post'\n",
    "\n",
    "autism_df = pd.concat([autism_pre, autism_post])\n",
    "autism_df"
   ]
  },
  {
   "cell_type": "code",
   "execution_count": 13,
   "id": "6d0f4136-b8e2-4488-9d05-cf128cdf85e1",
   "metadata": {},
   "outputs": [
    {
     "data": {
      "text/html": [
       "<div>\n",
       "<style scoped>\n",
       "    .dataframe tbody tr th:only-of-type {\n",
       "        vertical-align: middle;\n",
       "    }\n",
       "\n",
       "    .dataframe tbody tr th {\n",
       "        vertical-align: top;\n",
       "    }\n",
       "\n",
       "    .dataframe thead th {\n",
       "        text-align: right;\n",
       "    }\n",
       "</style>\n",
       "<table border=\"1\" class=\"dataframe\">\n",
       "  <thead>\n",
       "    <tr style=\"text-align: right;\">\n",
       "      <th></th>\n",
       "      <th>substance_use_total</th>\n",
       "      <th>substance_use_total</th>\n",
       "    </tr>\n",
       "  </thead>\n",
       "  <tbody>\n",
       "    <tr>\n",
       "      <th>count</th>\n",
       "      <td>4576.000000</td>\n",
       "      <td>2209.000000</td>\n",
       "    </tr>\n",
       "    <tr>\n",
       "      <th>mean</th>\n",
       "      <td>0.369755</td>\n",
       "      <td>0.333182</td>\n",
       "    </tr>\n",
       "    <tr>\n",
       "      <th>std</th>\n",
       "      <td>0.877699</td>\n",
       "      <td>0.800469</td>\n",
       "    </tr>\n",
       "    <tr>\n",
       "      <th>min</th>\n",
       "      <td>0.000000</td>\n",
       "      <td>0.000000</td>\n",
       "    </tr>\n",
       "    <tr>\n",
       "      <th>25%</th>\n",
       "      <td>0.000000</td>\n",
       "      <td>0.000000</td>\n",
       "    </tr>\n",
       "    <tr>\n",
       "      <th>50%</th>\n",
       "      <td>0.000000</td>\n",
       "      <td>0.000000</td>\n",
       "    </tr>\n",
       "    <tr>\n",
       "      <th>75%</th>\n",
       "      <td>0.000000</td>\n",
       "      <td>0.000000</td>\n",
       "    </tr>\n",
       "    <tr>\n",
       "      <th>max</th>\n",
       "      <td>18.000000</td>\n",
       "      <td>12.000000</td>\n",
       "    </tr>\n",
       "  </tbody>\n",
       "</table>\n",
       "</div>"
      ],
      "text/plain": [
       "       substance_use_total  substance_use_total\n",
       "count          4576.000000          2209.000000\n",
       "mean              0.369755             0.333182\n",
       "std               0.877699             0.800469\n",
       "min               0.000000             0.000000\n",
       "25%               0.000000             0.000000\n",
       "50%               0.000000             0.000000\n",
       "75%               0.000000             0.000000\n",
       "max              18.000000            12.000000"
      ]
     },
     "execution_count": 13,
     "metadata": {},
     "output_type": "execute_result"
    }
   ],
   "source": [
    "pd.concat([autism_pre.describe(), autism_post.describe()], axis=1)"
   ]
  },
  {
   "cell_type": "markdown",
   "id": "2177cf93-f250-4d9b-92e0-33f026e9b9be",
   "metadata": {},
   "source": [
    "### Visualization"
   ]
  },
  {
   "cell_type": "code",
   "execution_count": 15,
   "id": "6780e276-ebc9-4098-8d9a-d8328c307a02",
   "metadata": {},
   "outputs": [
    {
     "data": {
      "application/vnd.vegalite.v4+json": {
       "$schema": "https://vega.github.io/schema/vega-lite/v4.8.1.json",
       "columns": 1,
       "config": {
        "view": {
         "continuousHeight": 300,
         "continuousWidth": 400
        }
       },
       "data": {
        "url": "http://localhost:19861/733988e9f8a75cbf79ca3be33f0f861c.json"
       },
       "facet": {
        "field": "period",
        "type": "nominal"
       },
       "spec": {
        "encoding": {
         "color": {
          "field": "period",
          "type": "nominal"
         },
         "x": {
          "bin": {
           "maxbins": 20
          },
          "field": "substance_use_total",
          "title": "Substance Use Total",
          "type": "quantitative"
         },
         "y": {
          "aggregate": "count",
          "type": "quantitative"
         }
        },
        "mark": "bar"
       }
      },
      "image/png": "[encoded data removed]",
      "text/plain": [
       "<VegaLite 4 object>\n",
       "\n",
       "If you see this message, it means the renderer has not been properly enabled\n",
       "for the frontend that you are using. For more information, see\n",
       "https://altair-viz.github.io/user_guide/troubleshooting.html\n"
      ]
     },
     "execution_count": 15,
     "metadata": {},
     "output_type": "execute_result"
    }
   ],
   "source": [
    "alt.Chart(autism).mark_bar().encode(\n",
    "    x=alt.X('substance_use_total', bin=alt.Bin(maxbins=20), title = 'Substance Use Total'),\n",
    "    y='count()',\n",
    "    color='period'\n",
    ").facet('period', columns=1)"
   ]
  },
  {
   "cell_type": "code",
   "execution_count": 17,
   "id": "82355c3b-d9f8-4b33-a0cf-702e59cf88bf",
   "metadata": {},
   "outputs": [
    {
     "name": "stdout",
     "output_type": "stream",
     "text": [
      "Number of unique authors (posters) in 'pre' dataset: 4576\n",
      "Number of unique authors (posters) in 'post' dataset: 2209\n"
     ]
    }
   ],
   "source": [
    "print(f\"Number of unique authors (posters) in 'pre' dataset: {len(autism_pre.author.unique())}\")\n",
    "print(f\"Number of unique authors (posters) in 'post' dataset: {len(autism_post.author.unique())}\")"
   ]
  },
  {
   "cell_type": "markdown",
   "id": "6d842356-1c27-4012-9126-893b99b4787f",
   "metadata": {},
   "source": [
    "1. Every records in the dataset is associated with an unique author\n",
    "2. The number of unique authors before the pandemic is more than after pandemic\n",
    "3. The mean of the substance use total before pandemic is slightly higher than after pandemic"
   ]
  }
 ],
 "metadata": {
  "kernelspec": {
   "display_name": "Python 3 (ipykernel)",
   "language": "python",
   "name": "python3"
  },
  "language_info": {
   "codemirror_mode": {
    "name": "ipython",
    "version": 3
   },
   "file_extension": ".py",
   "mimetype": "text/x-python",
   "name": "python",
   "nbconvert_exporter": "python",
   "pygments_lexer": "ipython3",
   "version": "3.9.5"
  }
 },
 "nbformat": 4,
 "nbformat_minor": 5
}
