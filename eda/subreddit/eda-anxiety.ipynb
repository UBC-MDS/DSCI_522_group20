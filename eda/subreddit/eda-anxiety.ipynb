{
 "cells": [
  {
   "cell_type": "markdown",
   "id": "804ad023-2816-4403-a13d-547cf3f1b9ad",
   "metadata": {},
   "source": [
    "# EDA for **Anxiety** Before and After Pandemic"
   ]
  },
  {
   "cell_type": "markdown",
   "id": "d458dc22-088e-4c8a-a448-dff790c1cd88",
   "metadata": {},
   "source": [
    "## Import packages"
   ]
  },
  {
   "cell_type": "code",
   "execution_count": 1,
   "id": "af11aad1-df8f-42f1-ab28-dc1f46b11f63",
   "metadata": {},
   "outputs": [
    {
     "data": {
      "text/plain": [
       "RendererRegistry.enable('mimetype')"
      ]
     },
     "execution_count": 1,
     "metadata": {},
     "output_type": "execute_result"
    }
   ],
   "source": [
    "import pandas as pd\n",
    "import numpy as np\n",
    "import altair as alt\n",
    "alt.data_transformers.enable('data_server')\n",
    "alt.renderers.enable('mimetype')"
   ]
  },
  {
   "cell_type": "markdown",
   "id": "3f9edffe-43f2-44a5-ae6e-e0f4ed6457d8",
   "metadata": {},
   "source": [
    "## Import data set"
   ]
  },
  {
   "cell_type": "code",
   "execution_count": 7,
   "id": "761b588a-52a8-420b-89ca-75200eada889",
   "metadata": {},
   "outputs": [],
   "source": [
    "anxiety_pre = pd.read_csv('../../data/anxiety_pre_features_tfidf_256.csv')\n",
    "anxiety_post = pd.read_csv('../../data/anxiety_post_features_tfidf_256.csv')"
   ]
  },
  {
   "cell_type": "markdown",
   "id": "73f05aa5-f56b-46a5-b581-cf31f89aa8b0",
   "metadata": {},
   "source": [
    "## Filter feature of interest: substance_use_total"
   ]
  },
  {
   "cell_type": "code",
   "execution_count": 14,
   "id": "3b885b03-6956-46cc-8072-ed4a5cdd581e",
   "metadata": {},
   "outputs": [],
   "source": [
    "anxiety_pre = anxiety_pre.loc[:, ['subreddit', 'author', 'date', 'post', 'substance_use_total']]\n",
    "anxiety_post = anxiety_post.loc[:, ['subreddit', 'author', 'date', 'post', 'substance_use_total']]"
   ]
  },
  {
   "cell_type": "markdown",
   "id": "37eb9c21-906e-4262-980c-747fa62bddcd",
   "metadata": {},
   "source": [
    "## Pre-Pandemic data set"
   ]
  },
  {
   "cell_type": "code",
   "execution_count": 15,
   "id": "220dc965-28d4-43f0-874d-16c5f8c5b8fc",
   "metadata": {},
   "outputs": [
    {
     "data": {
      "text/html": [
       "<div>\n",
       "<style scoped>\n",
       "    .dataframe tbody tr th:only-of-type {\n",
       "        vertical-align: middle;\n",
       "    }\n",
       "\n",
       "    .dataframe tbody tr th {\n",
       "        vertical-align: top;\n",
       "    }\n",
       "\n",
       "    .dataframe thead th {\n",
       "        text-align: right;\n",
       "    }\n",
       "</style>\n",
       "<table border=\"1\" class=\"dataframe\">\n",
       "  <thead>\n",
       "    <tr style=\"text-align: right;\">\n",
       "      <th></th>\n",
       "      <th>subreddit</th>\n",
       "      <th>author</th>\n",
       "      <th>date</th>\n",
       "      <th>post</th>\n",
       "      <th>substance_use_total</th>\n",
       "    </tr>\n",
       "  </thead>\n",
       "  <tbody>\n",
       "    <tr>\n",
       "      <th>0</th>\n",
       "      <td>anxiety</td>\n",
       "      <td>ljf3030</td>\n",
       "      <td>2019/07/06</td>\n",
       "      <td>I can always feel my heartbeat 18M, physically...</td>\n",
       "      <td>2</td>\n",
       "    </tr>\n",
       "    <tr>\n",
       "      <th>1</th>\n",
       "      <td>anxiety</td>\n",
       "      <td>1millionkarmagoal</td>\n",
       "      <td>2019/07/06</td>\n",
       "      <td>My dad is hospitalized and had to be put in a ...</td>\n",
       "      <td>0</td>\n",
       "    </tr>\n",
       "    <tr>\n",
       "      <th>2</th>\n",
       "      <td>anxiety</td>\n",
       "      <td>ItsIncremento</td>\n",
       "      <td>2019/07/06</td>\n",
       "      <td>Feels like anxiety is turning my brain to stew...</td>\n",
       "      <td>0</td>\n",
       "    </tr>\n",
       "    <tr>\n",
       "      <th>3</th>\n",
       "      <td>anxiety</td>\n",
       "      <td>Emet_Throwaway</td>\n",
       "      <td>2019/07/06</td>\n",
       "      <td>What do you do when anxiety kicks in around ot...</td>\n",
       "      <td>1</td>\n",
       "    </tr>\n",
       "    <tr>\n",
       "      <th>4</th>\n",
       "      <td>anxiety</td>\n",
       "      <td>throwaway239423489</td>\n",
       "      <td>2019/07/06</td>\n",
       "      <td>Finding a job is a nightmare I want to rant ab...</td>\n",
       "      <td>2</td>\n",
       "    </tr>\n",
       "  </tbody>\n",
       "</table>\n",
       "</div>"
      ],
      "text/plain": [
       "  subreddit              author        date  \\\n",
       "0   anxiety             ljf3030  2019/07/06   \n",
       "1   anxiety   1millionkarmagoal  2019/07/06   \n",
       "2   anxiety       ItsIncremento  2019/07/06   \n",
       "3   anxiety      Emet_Throwaway  2019/07/06   \n",
       "4   anxiety  throwaway239423489  2019/07/06   \n",
       "\n",
       "                                                post  substance_use_total  \n",
       "0  I can always feel my heartbeat 18M, physically...                    2  \n",
       "1  My dad is hospitalized and had to be put in a ...                    0  \n",
       "2  Feels like anxiety is turning my brain to stew...                    0  \n",
       "3  What do you do when anxiety kicks in around ot...                    1  \n",
       "4  Finding a job is a nightmare I want to rant ab...                    2  "
      ]
     },
     "execution_count": 15,
     "metadata": {},
     "output_type": "execute_result"
    }
   ],
   "source": [
    "anxiety_pre.head(5)"
   ]
  },
  {
   "cell_type": "code",
   "execution_count": 17,
   "id": "85f88c73-467f-4a96-a7ea-0fff66a5513c",
   "metadata": {},
   "outputs": [
    {
     "data": {
      "text/html": [
       "<div>\n",
       "<style scoped>\n",
       "    .dataframe tbody tr th:only-of-type {\n",
       "        vertical-align: middle;\n",
       "    }\n",
       "\n",
       "    .dataframe tbody tr th {\n",
       "        vertical-align: top;\n",
       "    }\n",
       "\n",
       "    .dataframe thead th {\n",
       "        text-align: right;\n",
       "    }\n",
       "</style>\n",
       "<table border=\"1\" class=\"dataframe\">\n",
       "  <thead>\n",
       "    <tr style=\"text-align: right;\">\n",
       "      <th></th>\n",
       "      <th>subreddit</th>\n",
       "      <th>author</th>\n",
       "      <th>date</th>\n",
       "      <th>post</th>\n",
       "      <th>substance_use_total</th>\n",
       "    </tr>\n",
       "  </thead>\n",
       "  <tbody>\n",
       "    <tr>\n",
       "      <th>19971</th>\n",
       "      <td>anxiety</td>\n",
       "      <td>heretothrowawaynow</td>\n",
       "      <td>2019/08/11</td>\n",
       "      <td>Ugh I didn't check my class GC for 3 days beca...</td>\n",
       "      <td>0</td>\n",
       "    </tr>\n",
       "    <tr>\n",
       "      <th>19972</th>\n",
       "      <td>anxiety</td>\n",
       "      <td>throwawayreddit67778</td>\n",
       "      <td>2019/08/11</td>\n",
       "      <td>Anybody else get bad anxiety the day after eat...</td>\n",
       "      <td>1</td>\n",
       "    </tr>\n",
       "    <tr>\n",
       "      <th>19973</th>\n",
       "      <td>anxiety</td>\n",
       "      <td>throwaway52689533564</td>\n",
       "      <td>2019/08/11</td>\n",
       "      <td>My brain is cruel Looking for some advice.  I'...</td>\n",
       "      <td>3</td>\n",
       "    </tr>\n",
       "    <tr>\n",
       "      <th>19974</th>\n",
       "      <td>anxiety</td>\n",
       "      <td>krisappear</td>\n",
       "      <td>2019/08/11</td>\n",
       "      <td>I change how I live to avoid potentially upset...</td>\n",
       "      <td>0</td>\n",
       "    </tr>\n",
       "    <tr>\n",
       "      <th>19975</th>\n",
       "      <td>anxiety</td>\n",
       "      <td>blackhawk08</td>\n",
       "      <td>2019/08/11</td>\n",
       "      <td>Anhedonia is terrifying Anyone else battle thi...</td>\n",
       "      <td>0</td>\n",
       "    </tr>\n",
       "  </tbody>\n",
       "</table>\n",
       "</div>"
      ],
      "text/plain": [
       "      subreddit                author        date  \\\n",
       "19971   anxiety    heretothrowawaynow  2019/08/11   \n",
       "19972   anxiety  throwawayreddit67778  2019/08/11   \n",
       "19973   anxiety  throwaway52689533564  2019/08/11   \n",
       "19974   anxiety            krisappear  2019/08/11   \n",
       "19975   anxiety           blackhawk08  2019/08/11   \n",
       "\n",
       "                                                    post  substance_use_total  \n",
       "19971  Ugh I didn't check my class GC for 3 days beca...                    0  \n",
       "19972  Anybody else get bad anxiety the day after eat...                    1  \n",
       "19973  My brain is cruel Looking for some advice.  I'...                    3  \n",
       "19974  I change how I live to avoid potentially upset...                    0  \n",
       "19975  Anhedonia is terrifying Anyone else battle thi...                    0  "
      ]
     },
     "execution_count": 17,
     "metadata": {},
     "output_type": "execute_result"
    }
   ],
   "source": [
    "anxiety_pre.tail(5)"
   ]
  },
  {
   "cell_type": "code",
   "execution_count": 20,
   "id": "e5b3c505-84dd-44a7-bb05-0603486a310b",
   "metadata": {},
   "outputs": [
    {
     "name": "stdout",
     "output_type": "stream",
     "text": [
      "Total number of records in the pre-pandemic dataset: 19976\n"
     ]
    }
   ],
   "source": [
    "print(f'Total number of records in the pre-pandemic dataset: {len(anxiety_pre)}')"
   ]
  },
  {
   "cell_type": "markdown",
   "id": "3d85aae7-24d5-47d9-bd27-24e0e6b615ef",
   "metadata": {},
   "source": [
    "## Post-Pandemic data set"
   ]
  },
  {
   "cell_type": "code",
   "execution_count": 28,
   "id": "753067b1-7ab2-4a27-9111-7aa99a82abc0",
   "metadata": {},
   "outputs": [
    {
     "data": {
      "text/html": [
       "<div>\n",
       "<style scoped>\n",
       "    .dataframe tbody tr th:only-of-type {\n",
       "        vertical-align: middle;\n",
       "    }\n",
       "\n",
       "    .dataframe tbody tr th {\n",
       "        vertical-align: top;\n",
       "    }\n",
       "\n",
       "    .dataframe thead th {\n",
       "        text-align: right;\n",
       "    }\n",
       "</style>\n",
       "<table border=\"1\" class=\"dataframe\">\n",
       "  <thead>\n",
       "    <tr style=\"text-align: right;\">\n",
       "      <th></th>\n",
       "      <th>subreddit</th>\n",
       "      <th>author</th>\n",
       "      <th>date</th>\n",
       "      <th>post</th>\n",
       "      <th>substance_use_total</th>\n",
       "    </tr>\n",
       "  </thead>\n",
       "  <tbody>\n",
       "    <tr>\n",
       "      <th>0</th>\n",
       "      <td>anxiety</td>\n",
       "      <td>Sweet0ptimisms</td>\n",
       "      <td>2020/01/01</td>\n",
       "      <td>Anybody else feel like they're sick more often...</td>\n",
       "      <td>0</td>\n",
       "    </tr>\n",
       "    <tr>\n",
       "      <th>1</th>\n",
       "      <td>anxiety</td>\n",
       "      <td>calmthemind7</td>\n",
       "      <td>2020/01/01</td>\n",
       "      <td>Has anyone else had bad anxiety for a week str...</td>\n",
       "      <td>0</td>\n",
       "    </tr>\n",
       "    <tr>\n",
       "      <th>2</th>\n",
       "      <td>anxiety</td>\n",
       "      <td>Munous</td>\n",
       "      <td>2020/01/01</td>\n",
       "      <td>Honestly, I don’t know. I feel like I need to ...</td>\n",
       "      <td>0</td>\n",
       "    </tr>\n",
       "    <tr>\n",
       "      <th>3</th>\n",
       "      <td>anxiety</td>\n",
       "      <td>montanugh</td>\n",
       "      <td>2020/01/01</td>\n",
       "      <td>I’m terrified and I don’t know why I go back t...</td>\n",
       "      <td>0</td>\n",
       "    </tr>\n",
       "    <tr>\n",
       "      <th>4</th>\n",
       "      <td>anxiety</td>\n",
       "      <td>skaterkid24</td>\n",
       "      <td>2020/01/01</td>\n",
       "      <td>New Years Anxiety? So my anxiety came roaring ...</td>\n",
       "      <td>1</td>\n",
       "    </tr>\n",
       "  </tbody>\n",
       "</table>\n",
       "</div>"
      ],
      "text/plain": [
       "  subreddit          author        date  \\\n",
       "0   anxiety  Sweet0ptimisms  2020/01/01   \n",
       "1   anxiety    calmthemind7  2020/01/01   \n",
       "2   anxiety          Munous  2020/01/01   \n",
       "3   anxiety       montanugh  2020/01/01   \n",
       "4   anxiety     skaterkid24  2020/01/01   \n",
       "\n",
       "                                                post  substance_use_total  \n",
       "0  Anybody else feel like they're sick more often...                    0  \n",
       "1  Has anyone else had bad anxiety for a week str...                    0  \n",
       "2  Honestly, I don’t know. I feel like I need to ...                    0  \n",
       "3  I’m terrified and I don’t know why I go back t...                    0  \n",
       "4  New Years Anxiety? So my anxiety came roaring ...                    1  "
      ]
     },
     "execution_count": 28,
     "metadata": {},
     "output_type": "execute_result"
    }
   ],
   "source": [
    "anxiety_post.head(5)"
   ]
  },
  {
   "cell_type": "code",
   "execution_count": 29,
   "id": "0ff45b7e-3bcb-46f1-b17e-965208296643",
   "metadata": {},
   "outputs": [
    {
     "data": {
      "text/html": [
       "<div>\n",
       "<style scoped>\n",
       "    .dataframe tbody tr th:only-of-type {\n",
       "        vertical-align: middle;\n",
       "    }\n",
       "\n",
       "    .dataframe tbody tr th {\n",
       "        vertical-align: top;\n",
       "    }\n",
       "\n",
       "    .dataframe thead th {\n",
       "        text-align: right;\n",
       "    }\n",
       "</style>\n",
       "<table border=\"1\" class=\"dataframe\">\n",
       "  <thead>\n",
       "    <tr style=\"text-align: right;\">\n",
       "      <th></th>\n",
       "      <th>subreddit</th>\n",
       "      <th>author</th>\n",
       "      <th>date</th>\n",
       "      <th>post</th>\n",
       "      <th>substance_use_total</th>\n",
       "    </tr>\n",
       "  </thead>\n",
       "  <tbody>\n",
       "    <tr>\n",
       "      <th>15891</th>\n",
       "      <td>anxiety</td>\n",
       "      <td>awesomekirby098</td>\n",
       "      <td>2020/04/20</td>\n",
       "      <td>My worst fear came to life today. One of my fr...</td>\n",
       "      <td>0</td>\n",
       "    </tr>\n",
       "    <tr>\n",
       "      <th>15892</th>\n",
       "      <td>anxiety</td>\n",
       "      <td>unicorns-are-real-x</td>\n",
       "      <td>2020/04/20</td>\n",
       "      <td>***GROSS ANXIETY STORY*** help... This is real...</td>\n",
       "      <td>0</td>\n",
       "    </tr>\n",
       "    <tr>\n",
       "      <th>15893</th>\n",
       "      <td>anxiety</td>\n",
       "      <td>Puzzle8888</td>\n",
       "      <td>2020/04/20</td>\n",
       "      <td>Really need advice and help please The last mo...</td>\n",
       "      <td>1</td>\n",
       "    </tr>\n",
       "    <tr>\n",
       "      <th>15894</th>\n",
       "      <td>anxiety</td>\n",
       "      <td>SealevelBluegrass</td>\n",
       "      <td>2020/04/20</td>\n",
       "      <td>Anxiety to live up in the tech industry I’m a ...</td>\n",
       "      <td>0</td>\n",
       "    </tr>\n",
       "    <tr>\n",
       "      <th>15895</th>\n",
       "      <td>anxiety</td>\n",
       "      <td>ellis-magee</td>\n",
       "      <td>2020/04/20</td>\n",
       "      <td>My coping toolbox I’m writing this partly for ...</td>\n",
       "      <td>2</td>\n",
       "    </tr>\n",
       "  </tbody>\n",
       "</table>\n",
       "</div>"
      ],
      "text/plain": [
       "      subreddit               author        date  \\\n",
       "15891   anxiety      awesomekirby098  2020/04/20   \n",
       "15892   anxiety  unicorns-are-real-x  2020/04/20   \n",
       "15893   anxiety           Puzzle8888  2020/04/20   \n",
       "15894   anxiety    SealevelBluegrass  2020/04/20   \n",
       "15895   anxiety          ellis-magee  2020/04/20   \n",
       "\n",
       "                                                    post  substance_use_total  \n",
       "15891  My worst fear came to life today. One of my fr...                    0  \n",
       "15892  ***GROSS ANXIETY STORY*** help... This is real...                    0  \n",
       "15893  Really need advice and help please The last mo...                    1  \n",
       "15894  Anxiety to live up in the tech industry I’m a ...                    0  \n",
       "15895  My coping toolbox I’m writing this partly for ...                    2  "
      ]
     },
     "execution_count": 29,
     "metadata": {},
     "output_type": "execute_result"
    }
   ],
   "source": [
    "anxiety_post.tail(5)"
   ]
  },
  {
   "cell_type": "code",
   "execution_count": 31,
   "id": "2a0a85de-e6ff-438f-bcba-e33925f27ed9",
   "metadata": {},
   "outputs": [
    {
     "name": "stdout",
     "output_type": "stream",
     "text": [
      "Total number of records in the post-pandemic dataset: 15896\n"
     ]
    }
   ],
   "source": [
    "print(f'Total number of records in the post-pandemic dataset: {len(anxiety_post)}')"
   ]
  },
  {
   "cell_type": "markdown",
   "id": "0ecfbec2-d7ce-44e8-97d6-96fd636896ba",
   "metadata": {},
   "source": [
    "## High Level Analysis of Pre and Post Pandemic datasets"
   ]
  },
  {
   "cell_type": "markdown",
   "id": "0b885ac0-3b35-4517-840f-28be986fd919",
   "metadata": {},
   "source": [
    "First we'll combine the two dataset into one--which will make it easier to compare:"
   ]
  },
  {
   "cell_type": "code",
   "execution_count": 38,
   "id": "f8b0b7aa-d4d7-405d-9ca3-e11924c93279",
   "metadata": {},
   "outputs": [
    {
     "data": {
      "text/html": [
       "<div>\n",
       "<style scoped>\n",
       "    .dataframe tbody tr th:only-of-type {\n",
       "        vertical-align: middle;\n",
       "    }\n",
       "\n",
       "    .dataframe tbody tr th {\n",
       "        vertical-align: top;\n",
       "    }\n",
       "\n",
       "    .dataframe thead th {\n",
       "        text-align: right;\n",
       "    }\n",
       "</style>\n",
       "<table border=\"1\" class=\"dataframe\">\n",
       "  <thead>\n",
       "    <tr style=\"text-align: right;\">\n",
       "      <th></th>\n",
       "      <th>subreddit</th>\n",
       "      <th>author</th>\n",
       "      <th>date</th>\n",
       "      <th>post</th>\n",
       "      <th>substance_use_total</th>\n",
       "      <th>period</th>\n",
       "    </tr>\n",
       "  </thead>\n",
       "  <tbody>\n",
       "    <tr>\n",
       "      <th>0</th>\n",
       "      <td>anxiety</td>\n",
       "      <td>ljf3030</td>\n",
       "      <td>2019/07/06</td>\n",
       "      <td>I can always feel my heartbeat 18M, physically...</td>\n",
       "      <td>2</td>\n",
       "      <td>pre</td>\n",
       "    </tr>\n",
       "    <tr>\n",
       "      <th>1</th>\n",
       "      <td>anxiety</td>\n",
       "      <td>1millionkarmagoal</td>\n",
       "      <td>2019/07/06</td>\n",
       "      <td>My dad is hospitalized and had to be put in a ...</td>\n",
       "      <td>0</td>\n",
       "      <td>pre</td>\n",
       "    </tr>\n",
       "    <tr>\n",
       "      <th>2</th>\n",
       "      <td>anxiety</td>\n",
       "      <td>ItsIncremento</td>\n",
       "      <td>2019/07/06</td>\n",
       "      <td>Feels like anxiety is turning my brain to stew...</td>\n",
       "      <td>0</td>\n",
       "      <td>pre</td>\n",
       "    </tr>\n",
       "    <tr>\n",
       "      <th>3</th>\n",
       "      <td>anxiety</td>\n",
       "      <td>Emet_Throwaway</td>\n",
       "      <td>2019/07/06</td>\n",
       "      <td>What do you do when anxiety kicks in around ot...</td>\n",
       "      <td>1</td>\n",
       "      <td>pre</td>\n",
       "    </tr>\n",
       "    <tr>\n",
       "      <th>4</th>\n",
       "      <td>anxiety</td>\n",
       "      <td>throwaway239423489</td>\n",
       "      <td>2019/07/06</td>\n",
       "      <td>Finding a job is a nightmare I want to rant ab...</td>\n",
       "      <td>2</td>\n",
       "      <td>pre</td>\n",
       "    </tr>\n",
       "    <tr>\n",
       "      <th>...</th>\n",
       "      <td>...</td>\n",
       "      <td>...</td>\n",
       "      <td>...</td>\n",
       "      <td>...</td>\n",
       "      <td>...</td>\n",
       "      <td>...</td>\n",
       "    </tr>\n",
       "    <tr>\n",
       "      <th>15891</th>\n",
       "      <td>anxiety</td>\n",
       "      <td>awesomekirby098</td>\n",
       "      <td>2020/04/20</td>\n",
       "      <td>My worst fear came to life today. One of my fr...</td>\n",
       "      <td>0</td>\n",
       "      <td>post</td>\n",
       "    </tr>\n",
       "    <tr>\n",
       "      <th>15892</th>\n",
       "      <td>anxiety</td>\n",
       "      <td>unicorns-are-real-x</td>\n",
       "      <td>2020/04/20</td>\n",
       "      <td>***GROSS ANXIETY STORY*** help... This is real...</td>\n",
       "      <td>0</td>\n",
       "      <td>post</td>\n",
       "    </tr>\n",
       "    <tr>\n",
       "      <th>15893</th>\n",
       "      <td>anxiety</td>\n",
       "      <td>Puzzle8888</td>\n",
       "      <td>2020/04/20</td>\n",
       "      <td>Really need advice and help please The last mo...</td>\n",
       "      <td>1</td>\n",
       "      <td>post</td>\n",
       "    </tr>\n",
       "    <tr>\n",
       "      <th>15894</th>\n",
       "      <td>anxiety</td>\n",
       "      <td>SealevelBluegrass</td>\n",
       "      <td>2020/04/20</td>\n",
       "      <td>Anxiety to live up in the tech industry I’m a ...</td>\n",
       "      <td>0</td>\n",
       "      <td>post</td>\n",
       "    </tr>\n",
       "    <tr>\n",
       "      <th>15895</th>\n",
       "      <td>anxiety</td>\n",
       "      <td>ellis-magee</td>\n",
       "      <td>2020/04/20</td>\n",
       "      <td>My coping toolbox I’m writing this partly for ...</td>\n",
       "      <td>2</td>\n",
       "      <td>post</td>\n",
       "    </tr>\n",
       "  </tbody>\n",
       "</table>\n",
       "<p>35872 rows × 6 columns</p>\n",
       "</div>"
      ],
      "text/plain": [
       "      subreddit               author        date  \\\n",
       "0       anxiety              ljf3030  2019/07/06   \n",
       "1       anxiety    1millionkarmagoal  2019/07/06   \n",
       "2       anxiety        ItsIncremento  2019/07/06   \n",
       "3       anxiety       Emet_Throwaway  2019/07/06   \n",
       "4       anxiety   throwaway239423489  2019/07/06   \n",
       "...         ...                  ...         ...   \n",
       "15891   anxiety      awesomekirby098  2020/04/20   \n",
       "15892   anxiety  unicorns-are-real-x  2020/04/20   \n",
       "15893   anxiety           Puzzle8888  2020/04/20   \n",
       "15894   anxiety    SealevelBluegrass  2020/04/20   \n",
       "15895   anxiety          ellis-magee  2020/04/20   \n",
       "\n",
       "                                                    post  substance_use_total  \\\n",
       "0      I can always feel my heartbeat 18M, physically...                    2   \n",
       "1      My dad is hospitalized and had to be put in a ...                    0   \n",
       "2      Feels like anxiety is turning my brain to stew...                    0   \n",
       "3      What do you do when anxiety kicks in around ot...                    1   \n",
       "4      Finding a job is a nightmare I want to rant ab...                    2   \n",
       "...                                                  ...                  ...   \n",
       "15891  My worst fear came to life today. One of my fr...                    0   \n",
       "15892  ***GROSS ANXIETY STORY*** help... This is real...                    0   \n",
       "15893  Really need advice and help please The last mo...                    1   \n",
       "15894  Anxiety to live up in the tech industry I’m a ...                    0   \n",
       "15895  My coping toolbox I’m writing this partly for ...                    2   \n",
       "\n",
       "      period  \n",
       "0        pre  \n",
       "1        pre  \n",
       "2        pre  \n",
       "3        pre  \n",
       "4        pre  \n",
       "...      ...  \n",
       "15891   post  \n",
       "15892   post  \n",
       "15893   post  \n",
       "15894   post  \n",
       "15895   post  \n",
       "\n",
       "[35872 rows x 6 columns]"
      ]
     },
     "execution_count": 38,
     "metadata": {},
     "output_type": "execute_result"
    }
   ],
   "source": [
    "anxiety_pre['period'] = 'pre'\n",
    "anxiety_post['period'] = 'post'\n",
    "\n",
    "anxiety_df = pd.concat([anxiety_pre, anxiety_post])\n",
    "anxiety_df"
   ]
  },
  {
   "cell_type": "code",
   "execution_count": 52,
   "id": "6d0f4136-b8e2-4488-9d05-cf128cdf85e1",
   "metadata": {},
   "outputs": [
    {
     "data": {
      "text/html": [
       "<div>\n",
       "<style scoped>\n",
       "    .dataframe tbody tr th:only-of-type {\n",
       "        vertical-align: middle;\n",
       "    }\n",
       "\n",
       "    .dataframe tbody tr th {\n",
       "        vertical-align: top;\n",
       "    }\n",
       "\n",
       "    .dataframe thead th {\n",
       "        text-align: right;\n",
       "    }\n",
       "</style>\n",
       "<table border=\"1\" class=\"dataframe\">\n",
       "  <thead>\n",
       "    <tr style=\"text-align: right;\">\n",
       "      <th></th>\n",
       "      <th>substance_use_total</th>\n",
       "      <th>substance_use_total</th>\n",
       "    </tr>\n",
       "  </thead>\n",
       "  <tbody>\n",
       "    <tr>\n",
       "      <th>count</th>\n",
       "      <td>19976.000000</td>\n",
       "      <td>15896.000000</td>\n",
       "    </tr>\n",
       "    <tr>\n",
       "      <th>mean</th>\n",
       "      <td>0.491740</td>\n",
       "      <td>0.488362</td>\n",
       "    </tr>\n",
       "    <tr>\n",
       "      <th>std</th>\n",
       "      <td>1.090329</td>\n",
       "      <td>1.036541</td>\n",
       "    </tr>\n",
       "    <tr>\n",
       "      <th>min</th>\n",
       "      <td>0.000000</td>\n",
       "      <td>0.000000</td>\n",
       "    </tr>\n",
       "    <tr>\n",
       "      <th>25%</th>\n",
       "      <td>0.000000</td>\n",
       "      <td>0.000000</td>\n",
       "    </tr>\n",
       "    <tr>\n",
       "      <th>50%</th>\n",
       "      <td>0.000000</td>\n",
       "      <td>0.000000</td>\n",
       "    </tr>\n",
       "    <tr>\n",
       "      <th>75%</th>\n",
       "      <td>1.000000</td>\n",
       "      <td>1.000000</td>\n",
       "    </tr>\n",
       "    <tr>\n",
       "      <th>max</th>\n",
       "      <td>63.000000</td>\n",
       "      <td>16.000000</td>\n",
       "    </tr>\n",
       "  </tbody>\n",
       "</table>\n",
       "</div>"
      ],
      "text/plain": [
       "       substance_use_total  substance_use_total\n",
       "count         19976.000000         15896.000000\n",
       "mean              0.491740             0.488362\n",
       "std               1.090329             1.036541\n",
       "min               0.000000             0.000000\n",
       "25%               0.000000             0.000000\n",
       "50%               0.000000             0.000000\n",
       "75%               1.000000             1.000000\n",
       "max              63.000000            16.000000"
      ]
     },
     "execution_count": 52,
     "metadata": {},
     "output_type": "execute_result"
    }
   ],
   "source": [
    "pd.concat([anxiety_pre.describe(), anxiety_post.describe()], axis=1)"
   ]
  },
  {
   "cell_type": "markdown",
   "id": "2177cf93-f250-4d9b-92e0-33f026e9b9be",
   "metadata": {},
   "source": [
    "### Visualization"
   ]
  },
  {
   "cell_type": "code",
   "execution_count": 50,
   "id": "6780e276-ebc9-4098-8d9a-d8328c307a02",
   "metadata": {},
   "outputs": [
    {
     "data": {
      "application/vnd.vegalite.v4+json": {
       "$schema": "https://vega.github.io/schema/vega-lite/v4.8.1.json",
       "columns": 1,
       "config": {
        "view": {
         "continuousHeight": 300,
         "continuousWidth": 400
        }
       },
       "data": {
        "url": "http://localhost:24689/60a49564ba4da1bdd26cec95f502887e.json"
       },
       "facet": {
        "field": "period",
        "type": "nominal"
       },
       "spec": {
        "encoding": {
         "color": {
          "field": "period",
          "type": "nominal"
         },
         "x": {
          "bin": {
           "maxbins": 20
          },
          "field": "substance_use_total",
          "title": "Substance Use Total",
          "type": "quantitative"
         },
         "y": {
          "aggregate": "count",
          "type": "quantitative"
         }
        },
        "mark": "bar"
       }
      },
      "image/png": "[encoded data removed]",
      "text/plain": [
       "<VegaLite 4 object>\n",
       "\n",
       "If you see this message, it means the renderer has not been properly enabled\n",
       "for the frontend that you are using. For more information, see\n",
       "https://altair-viz.github.io/user_guide/troubleshooting.html\n"
      ]
     },
     "execution_count": 50,
     "metadata": {},
     "output_type": "execute_result"
    }
   ],
   "source": [
    "alt.Chart(anxiety_df).mark_bar().encode(\n",
    "    x=alt.X('substance_use_total', bin=alt.Bin(maxbins=20), title = 'Substance Use Total'),\n",
    "    y='count()',\n",
    "    color='period'\n",
    ").facet('period', columns=1)"
   ]
  },
  {
   "cell_type": "code",
   "execution_count": 46,
   "id": "82355c3b-d9f8-4b33-a0cf-702e59cf88bf",
   "metadata": {},
   "outputs": [
    {
     "name": "stdout",
     "output_type": "stream",
     "text": [
      "Number of unique authors (posters) in 'pre' dataset: 19976\n",
      "Number of unique authors (posters) in 'post' dataset: 15896\n"
     ]
    }
   ],
   "source": [
    "print(f\"Number of unique authors (posters) in 'pre' dataset: {len(anxiety_pre.author.unique())}\")\n",
    "print(f\"Number of unique authors (posters) in 'post' dataset: {len(anxiety_post.author.unique())}\")"
   ]
  },
  {
   "cell_type": "markdown",
   "id": "6d842356-1c27-4012-9126-893b99b4787f",
   "metadata": {},
   "source": [
    "1. Every records in the dataset is associated with an unique author\n",
    "2. The number of unique authors before the pandemic is a little more than after pandemic\n",
    "3. The mean of the substance use total before pandemic is slightly higher than after pandemic"
   ]
  }
 ],
 "metadata": {
  "kernelspec": {
   "display_name": "Python 3 (ipykernel)",
   "language": "python",
   "name": "python3"
  },
  "language_info": {
   "codemirror_mode": {
    "name": "ipython",
    "version": 3
   },
   "file_extension": ".py",
   "mimetype": "text/x-python",
   "name": "python",
   "nbconvert_exporter": "python",
   "pygments_lexer": "ipython3",
   "version": "3.9.5"
  }
 },
 "nbformat": 4,
 "nbformat_minor": 5
}
