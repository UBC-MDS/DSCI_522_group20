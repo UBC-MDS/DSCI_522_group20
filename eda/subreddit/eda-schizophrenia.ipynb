{
 "cells": [
  {
   "cell_type": "code",
   "execution_count": 1,
   "id": "a76d8b0d-c823-4ff1-a631-ce8a4d5b3573",
   "metadata": {},
   "outputs": [],
   "source": [
    "import pandas as pd"
   ]
  },
  {
   "cell_type": "markdown",
   "id": "7d1b1bcd-932b-4436-89dc-e59576713d16",
   "metadata": {},
   "source": [
    "# Import Data"
   ]
  },
  {
   "cell_type": "code",
   "execution_count": 3,
   "id": "34ba5154-f339-4e6c-86d1-1c4d40d292d7",
   "metadata": {},
   "outputs": [],
   "source": [
    "schiz_pre = pd.read_csv('data/schizophrenia_pre_features_tfidf_256.csv')\n",
    "schiz_post = pd.read_csv('data/schizophrenia_post_features_tfidf_256.csv')"
   ]
  },
  {
   "cell_type": "markdown",
   "id": "25e60674-06df-4af3-af4d-3e6df594b5eb",
   "metadata": {},
   "source": [
    "# High-Level Look at Datasets"
   ]
  },
  {
   "cell_type": "markdown",
   "id": "9a7d33de-53b3-454b-b504-3d710d992a95",
   "metadata": {},
   "source": [
    "## Preface"
   ]
  },
  {
   "cell_type": "markdown",
   "id": "e4acba20-0580-4069-99d9-cf998edaeca3",
   "metadata": {},
   "source": [
    "These datasets contain a very large number of features. For this project we have selected _one_ feature of interest: `substance_use_total`. In order to accomplish our EDA task for Sunday 21st November, we will have to filter our dataset - and associated EDA tasks - to focus exclusively on this feature."
   ]
  },
  {
   "cell_type": "code",
   "execution_count": 4,
   "id": "4c369689-8851-4568-8ffc-aff28101d313",
   "metadata": {},
   "outputs": [],
   "source": [
    "schiz_pre = schiz_pre.loc[:, ['subreddit', 'author', 'date', 'post', 'substance_use_total']]\n",
    "schiz_post = schiz_post.loc[:, ['subreddit', 'author', 'date', 'post', 'substance_use_total']]"
   ]
  },
  {
   "cell_type": "markdown",
   "id": "f6531477-3d25-4bb0-85e4-a3439fb54f34",
   "metadata": {},
   "source": [
    "## 'Pre' Dataset"
   ]
  },
  {
   "cell_type": "code",
   "execution_count": 5,
   "id": "42ef3a27-6595-4da2-a598-50c30931e6c3",
   "metadata": {},
   "outputs": [
    {
     "data": {
      "text/html": [
       "<div>\n",
       "<style scoped>\n",
       "    .dataframe tbody tr th:only-of-type {\n",
       "        vertical-align: middle;\n",
       "    }\n",
       "\n",
       "    .dataframe tbody tr th {\n",
       "        vertical-align: top;\n",
       "    }\n",
       "\n",
       "    .dataframe thead th {\n",
       "        text-align: right;\n",
       "    }\n",
       "</style>\n",
       "<table border=\"1\" class=\"dataframe\">\n",
       "  <thead>\n",
       "    <tr style=\"text-align: right;\">\n",
       "      <th></th>\n",
       "      <th>subreddit</th>\n",
       "      <th>author</th>\n",
       "      <th>date</th>\n",
       "      <th>post</th>\n",
       "      <th>substance_use_total</th>\n",
       "    </tr>\n",
       "  </thead>\n",
       "  <tbody>\n",
       "    <tr>\n",
       "      <th>0</th>\n",
       "      <td>schizophrenia</td>\n",
       "      <td>KuntStain666</td>\n",
       "      <td>2019/01/09</td>\n",
       "      <td>Where can I possibly afford to live on disabil...</td>\n",
       "      <td>0</td>\n",
       "    </tr>\n",
       "    <tr>\n",
       "      <th>1</th>\n",
       "      <td>schizophrenia</td>\n",
       "      <td>winterWhiteout</td>\n",
       "      <td>2019/01/09</td>\n",
       "      <td>Taking psychedelics after being diagnosed with...</td>\n",
       "      <td>1</td>\n",
       "    </tr>\n",
       "    <tr>\n",
       "      <th>2</th>\n",
       "      <td>schizophrenia</td>\n",
       "      <td>marsmann5091</td>\n",
       "      <td>2019/01/09</td>\n",
       "      <td>Progress So I've barely had reddit. But it's r...</td>\n",
       "      <td>1</td>\n",
       "    </tr>\n",
       "  </tbody>\n",
       "</table>\n",
       "</div>"
      ],
      "text/plain": [
       "       subreddit          author        date  \\\n",
       "0  schizophrenia    KuntStain666  2019/01/09   \n",
       "1  schizophrenia  winterWhiteout  2019/01/09   \n",
       "2  schizophrenia    marsmann5091  2019/01/09   \n",
       "\n",
       "                                                post  substance_use_total  \n",
       "0  Where can I possibly afford to live on disabil...                    0  \n",
       "1  Taking psychedelics after being diagnosed with...                    1  \n",
       "2  Progress So I've barely had reddit. But it's r...                    1  "
      ]
     },
     "execution_count": 5,
     "metadata": {},
     "output_type": "execute_result"
    }
   ],
   "source": [
    "schiz_pre.head(3)"
   ]
  },
  {
   "cell_type": "code",
   "execution_count": 6,
   "id": "3fa5d3c2-1f79-49a5-9027-73dd4823bffe",
   "metadata": {},
   "outputs": [
    {
     "data": {
      "text/html": [
       "<div>\n",
       "<style scoped>\n",
       "    .dataframe tbody tr th:only-of-type {\n",
       "        vertical-align: middle;\n",
       "    }\n",
       "\n",
       "    .dataframe tbody tr th {\n",
       "        vertical-align: top;\n",
       "    }\n",
       "\n",
       "    .dataframe thead th {\n",
       "        text-align: right;\n",
       "    }\n",
       "</style>\n",
       "<table border=\"1\" class=\"dataframe\">\n",
       "  <thead>\n",
       "    <tr style=\"text-align: right;\">\n",
       "      <th></th>\n",
       "      <th>subreddit</th>\n",
       "      <th>author</th>\n",
       "      <th>date</th>\n",
       "      <th>post</th>\n",
       "      <th>substance_use_total</th>\n",
       "    </tr>\n",
       "  </thead>\n",
       "  <tbody>\n",
       "    <tr>\n",
       "      <th>4278</th>\n",
       "      <td>schizophrenia</td>\n",
       "      <td>Sdcghfxz</td>\n",
       "      <td>2019/04/26</td>\n",
       "      <td>Is hypnagogia and closed eye visuals at night ...</td>\n",
       "      <td>0</td>\n",
       "    </tr>\n",
       "    <tr>\n",
       "      <th>4279</th>\n",
       "      <td>schizophrenia</td>\n",
       "      <td>choppinnfloppin</td>\n",
       "      <td>2019/04/26</td>\n",
       "      <td>I think I might be mildly schizophrenic/have s...</td>\n",
       "      <td>4</td>\n",
       "    </tr>\n",
       "    <tr>\n",
       "      <th>4280</th>\n",
       "      <td>schizophrenia</td>\n",
       "      <td>thefoxinthesnow87</td>\n",
       "      <td>2019/04/26</td>\n",
       "      <td>Was my Dad schizophrenic? My Dad died when I w...</td>\n",
       "      <td>4</td>\n",
       "    </tr>\n",
       "  </tbody>\n",
       "</table>\n",
       "</div>"
      ],
      "text/plain": [
       "          subreddit             author        date  \\\n",
       "4278  schizophrenia           Sdcghfxz  2019/04/26   \n",
       "4279  schizophrenia    choppinnfloppin  2019/04/26   \n",
       "4280  schizophrenia  thefoxinthesnow87  2019/04/26   \n",
       "\n",
       "                                                   post  substance_use_total  \n",
       "4278  Is hypnagogia and closed eye visuals at night ...                    0  \n",
       "4279  I think I might be mildly schizophrenic/have s...                    4  \n",
       "4280  Was my Dad schizophrenic? My Dad died when I w...                    4  "
      ]
     },
     "execution_count": 6,
     "metadata": {},
     "output_type": "execute_result"
    }
   ],
   "source": [
    "schiz_pre.tail(3)"
   ]
  },
  {
   "cell_type": "code",
   "execution_count": 7,
   "id": "8816585b-ef87-4a8c-8d5b-69c7a09a6265",
   "metadata": {},
   "outputs": [
    {
     "name": "stdout",
     "output_type": "stream",
     "text": [
      "Total number of records in this dataset: 4281\n"
     ]
    },
    {
     "data": {
      "text/html": [
       "<div>\n",
       "<style scoped>\n",
       "    .dataframe tbody tr th:only-of-type {\n",
       "        vertical-align: middle;\n",
       "    }\n",
       "\n",
       "    .dataframe tbody tr th {\n",
       "        vertical-align: top;\n",
       "    }\n",
       "\n",
       "    .dataframe thead th {\n",
       "        text-align: right;\n",
       "    }\n",
       "</style>\n",
       "<table border=\"1\" class=\"dataframe\">\n",
       "  <thead>\n",
       "    <tr style=\"text-align: right;\">\n",
       "      <th></th>\n",
       "      <th>substance_use_total</th>\n",
       "    </tr>\n",
       "  </thead>\n",
       "  <tbody>\n",
       "    <tr>\n",
       "      <th>count</th>\n",
       "      <td>4281.000000</td>\n",
       "    </tr>\n",
       "    <tr>\n",
       "      <th>mean</th>\n",
       "      <td>0.561084</td>\n",
       "    </tr>\n",
       "    <tr>\n",
       "      <th>std</th>\n",
       "      <td>1.196791</td>\n",
       "    </tr>\n",
       "    <tr>\n",
       "      <th>min</th>\n",
       "      <td>0.000000</td>\n",
       "    </tr>\n",
       "    <tr>\n",
       "      <th>25%</th>\n",
       "      <td>0.000000</td>\n",
       "    </tr>\n",
       "    <tr>\n",
       "      <th>50%</th>\n",
       "      <td>0.000000</td>\n",
       "    </tr>\n",
       "    <tr>\n",
       "      <th>75%</th>\n",
       "      <td>1.000000</td>\n",
       "    </tr>\n",
       "    <tr>\n",
       "      <th>max</th>\n",
       "      <td>13.000000</td>\n",
       "    </tr>\n",
       "  </tbody>\n",
       "</table>\n",
       "</div>"
      ],
      "text/plain": [
       "       substance_use_total\n",
       "count          4281.000000\n",
       "mean              0.561084\n",
       "std               1.196791\n",
       "min               0.000000\n",
       "25%               0.000000\n",
       "50%               0.000000\n",
       "75%               1.000000\n",
       "max              13.000000"
      ]
     },
     "execution_count": 7,
     "metadata": {},
     "output_type": "execute_result"
    }
   ],
   "source": [
    "print(f'Total number of records in this dataset: {len(schiz_pre)}')\n",
    "schiz_pre.describe()"
   ]
  },
  {
   "cell_type": "markdown",
   "id": "a6f404b6-c93f-4e28-966a-886c7f7f5409",
   "metadata": {},
   "source": [
    "So it doesn't look like we're missing any values in the `schizophrenia_pre_features_tfidf_256.csv` dataset.\n",
    "Let's take a quick look at the distribution of number of mentions of substance use per post."
   ]
  },
  {
   "cell_type": "code",
   "execution_count": 8,
   "id": "4ebf7ea9-d9bf-4462-9df0-42aa5f5a0d07",
   "metadata": {},
   "outputs": [
    {
     "data": {
      "text/plain": [
       "<AxesSubplot:ylabel='Frequency'>"
      ]
     },
     "execution_count": 8,
     "metadata": {},
     "output_type": "execute_result"
    },
    {
     "data": {
      "image/png": "[encoded data removed]",
      "text/plain": [
       "<Figure size 432x288 with 1 Axes>"
      ]
     },
     "metadata": {
      "needs_background": "light"
     },
     "output_type": "display_data"
    }
   ],
   "source": [
    "schiz_pre.plot.hist(bins=25)"
   ]
  },
  {
   "cell_type": "markdown",
   "id": "8b50cdf3-b36c-4be1-a42e-04b7418c6682",
   "metadata": {},
   "source": [
    "## 'Post' Dataset"
   ]
  },
  {
   "cell_type": "code",
   "execution_count": 9,
   "id": "d3925efb-6f94-4601-9caa-252f77c4a48c",
   "metadata": {},
   "outputs": [
    {
     "data": {
      "text/html": [
       "<div>\n",
       "<style scoped>\n",
       "    .dataframe tbody tr th:only-of-type {\n",
       "        vertical-align: middle;\n",
       "    }\n",
       "\n",
       "    .dataframe tbody tr th {\n",
       "        vertical-align: top;\n",
       "    }\n",
       "\n",
       "    .dataframe thead th {\n",
       "        text-align: right;\n",
       "    }\n",
       "</style>\n",
       "<table border=\"1\" class=\"dataframe\">\n",
       "  <thead>\n",
       "    <tr style=\"text-align: right;\">\n",
       "      <th></th>\n",
       "      <th>subreddit</th>\n",
       "      <th>author</th>\n",
       "      <th>date</th>\n",
       "      <th>post</th>\n",
       "      <th>substance_use_total</th>\n",
       "    </tr>\n",
       "  </thead>\n",
       "  <tbody>\n",
       "    <tr>\n",
       "      <th>0</th>\n",
       "      <td>schizophrenia</td>\n",
       "      <td>TheMusiKid</td>\n",
       "      <td>2020/01/01</td>\n",
       "      <td>Does/did anyone else believe that they are/wer...</td>\n",
       "      <td>0</td>\n",
       "    </tr>\n",
       "    <tr>\n",
       "      <th>1</th>\n",
       "      <td>schizophrenia</td>\n",
       "      <td>Mhanderson13</td>\n",
       "      <td>2020/01/01</td>\n",
       "      <td>My illness has taken everything from me but my...</td>\n",
       "      <td>0</td>\n",
       "    </tr>\n",
       "    <tr>\n",
       "      <th>2</th>\n",
       "      <td>schizophrenia</td>\n",
       "      <td>gaylord678</td>\n",
       "      <td>2020/01/01</td>\n",
       "      <td>How to get a better therapist in a shit hole s...</td>\n",
       "      <td>0</td>\n",
       "    </tr>\n",
       "  </tbody>\n",
       "</table>\n",
       "</div>"
      ],
      "text/plain": [
       "       subreddit        author        date  \\\n",
       "0  schizophrenia    TheMusiKid  2020/01/01   \n",
       "1  schizophrenia  Mhanderson13  2020/01/01   \n",
       "2  schizophrenia    gaylord678  2020/01/01   \n",
       "\n",
       "                                                post  substance_use_total  \n",
       "0  Does/did anyone else believe that they are/wer...                    0  \n",
       "1  My illness has taken everything from me but my...                    0  \n",
       "2  How to get a better therapist in a shit hole s...                    0  "
      ]
     },
     "execution_count": 9,
     "metadata": {},
     "output_type": "execute_result"
    }
   ],
   "source": [
    "schiz_post.head(3)"
   ]
  },
  {
   "cell_type": "code",
   "execution_count": 12,
   "id": "70979032-290a-4f8a-8a91-2711056b98f1",
   "metadata": {},
   "outputs": [
    {
     "data": {
      "text/html": [
       "<div>\n",
       "<style scoped>\n",
       "    .dataframe tbody tr th:only-of-type {\n",
       "        vertical-align: middle;\n",
       "    }\n",
       "\n",
       "    .dataframe tbody tr th {\n",
       "        vertical-align: top;\n",
       "    }\n",
       "\n",
       "    .dataframe thead th {\n",
       "        text-align: right;\n",
       "    }\n",
       "</style>\n",
       "<table border=\"1\" class=\"dataframe\">\n",
       "  <thead>\n",
       "    <tr style=\"text-align: right;\">\n",
       "      <th></th>\n",
       "      <th>subreddit</th>\n",
       "      <th>author</th>\n",
       "      <th>date</th>\n",
       "      <th>post</th>\n",
       "      <th>substance_use_total</th>\n",
       "    </tr>\n",
       "  </thead>\n",
       "  <tbody>\n",
       "    <tr>\n",
       "      <th>1860</th>\n",
       "      <td>schizophrenia</td>\n",
       "      <td>mute-box</td>\n",
       "      <td>2020/04/20</td>\n",
       "      <td>does anybody else sometimes avoid other people...</td>\n",
       "      <td>1</td>\n",
       "    </tr>\n",
       "    <tr>\n",
       "      <th>1861</th>\n",
       "      <td>schizophrenia</td>\n",
       "      <td>Randomguy02me</td>\n",
       "      <td>2020/04/20</td>\n",
       "      <td>I'm going back Today I made the call to go bac...</td>\n",
       "      <td>0</td>\n",
       "    </tr>\n",
       "    <tr>\n",
       "      <th>1862</th>\n",
       "      <td>schizophrenia</td>\n",
       "      <td>33night8</td>\n",
       "      <td>2020/04/20</td>\n",
       "      <td>Inappropriate emotions I am a 22 year old fema...</td>\n",
       "      <td>2</td>\n",
       "    </tr>\n",
       "  </tbody>\n",
       "</table>\n",
       "</div>"
      ],
      "text/plain": [
       "          subreddit         author        date  \\\n",
       "1860  schizophrenia       mute-box  2020/04/20   \n",
       "1861  schizophrenia  Randomguy02me  2020/04/20   \n",
       "1862  schizophrenia       33night8  2020/04/20   \n",
       "\n",
       "                                                   post  substance_use_total  \n",
       "1860  does anybody else sometimes avoid other people...                    1  \n",
       "1861  I'm going back Today I made the call to go bac...                    0  \n",
       "1862  Inappropriate emotions I am a 22 year old fema...                    2  "
      ]
     },
     "execution_count": 12,
     "metadata": {},
     "output_type": "execute_result"
    }
   ],
   "source": [
    "schiz_post.tail(3)"
   ]
  },
  {
   "cell_type": "code",
   "execution_count": 13,
   "id": "1bfa14d1-de35-4248-941a-431ebe8e00d0",
   "metadata": {},
   "outputs": [
    {
     "name": "stdout",
     "output_type": "stream",
     "text": [
      "Total number of records in this dataset: 1863\n"
     ]
    },
    {
     "data": {
      "text/html": [
       "<div>\n",
       "<style scoped>\n",
       "    .dataframe tbody tr th:only-of-type {\n",
       "        vertical-align: middle;\n",
       "    }\n",
       "\n",
       "    .dataframe tbody tr th {\n",
       "        vertical-align: top;\n",
       "    }\n",
       "\n",
       "    .dataframe thead th {\n",
       "        text-align: right;\n",
       "    }\n",
       "</style>\n",
       "<table border=\"1\" class=\"dataframe\">\n",
       "  <thead>\n",
       "    <tr style=\"text-align: right;\">\n",
       "      <th></th>\n",
       "      <th>substance_use_total</th>\n",
       "    </tr>\n",
       "  </thead>\n",
       "  <tbody>\n",
       "    <tr>\n",
       "      <th>count</th>\n",
       "      <td>1863.000000</td>\n",
       "    </tr>\n",
       "    <tr>\n",
       "      <th>mean</th>\n",
       "      <td>0.529791</td>\n",
       "    </tr>\n",
       "    <tr>\n",
       "      <th>std</th>\n",
       "      <td>1.071077</td>\n",
       "    </tr>\n",
       "    <tr>\n",
       "      <th>min</th>\n",
       "      <td>0.000000</td>\n",
       "    </tr>\n",
       "    <tr>\n",
       "      <th>25%</th>\n",
       "      <td>0.000000</td>\n",
       "    </tr>\n",
       "    <tr>\n",
       "      <th>50%</th>\n",
       "      <td>0.000000</td>\n",
       "    </tr>\n",
       "    <tr>\n",
       "      <th>75%</th>\n",
       "      <td>1.000000</td>\n",
       "    </tr>\n",
       "    <tr>\n",
       "      <th>max</th>\n",
       "      <td>11.000000</td>\n",
       "    </tr>\n",
       "  </tbody>\n",
       "</table>\n",
       "</div>"
      ],
      "text/plain": [
       "       substance_use_total\n",
       "count          1863.000000\n",
       "mean              0.529791\n",
       "std               1.071077\n",
       "min               0.000000\n",
       "25%               0.000000\n",
       "50%               0.000000\n",
       "75%               1.000000\n",
       "max              11.000000"
      ]
     },
     "execution_count": 13,
     "metadata": {},
     "output_type": "execute_result"
    }
   ],
   "source": [
    "print(f'Total number of records in this dataset: {len(schiz_post)}')\n",
    "schiz_post.describe()"
   ]
  },
  {
   "cell_type": "markdown",
   "id": "d3e57a0b-2e02-4b95-a907-0dc9b9d3940f",
   "metadata": {},
   "source": [
    "So it doesn't look like we're missing any values in the `schizophrenia_post_features_tfidf_256.csv` dataset.\n",
    "Let's take a quick look at the distribution of number of mentions of substance use per post."
   ]
  },
  {
   "cell_type": "code",
   "execution_count": 14,
   "id": "36ced534-5c90-4096-82cc-e909164a8c11",
   "metadata": {},
   "outputs": [
    {
     "data": {
      "text/plain": [
       "<AxesSubplot:ylabel='Frequency'>"
      ]
     },
     "execution_count": 14,
     "metadata": {},
     "output_type": "execute_result"
    },
    {
     "data": {
      "image/png": "[encoded data removed]",
      "text/plain": [
       "<Figure size 432x288 with 1 Axes>"
      ]
     },
     "metadata": {
      "needs_background": "light"
     },
     "output_type": "display_data"
    }
   ],
   "source": [
    "schiz_post.plot.hist(bins=25)"
   ]
  },
  {
   "cell_type": "markdown",
   "id": "54e2a4d4-9ef1-42a3-9613-1db09abaab3d",
   "metadata": {},
   "source": [
    "## High-Level Comparison of Pre-Post Datasets"
   ]
  },
  {
   "cell_type": "code",
   "execution_count": 15,
   "id": "b9b0eae4-0f5f-402a-a61c-d517ef4cca12",
   "metadata": {},
   "outputs": [
    {
     "data": {
      "text/html": [
       "<div>\n",
       "<style scoped>\n",
       "    .dataframe tbody tr th:only-of-type {\n",
       "        vertical-align: middle;\n",
       "    }\n",
       "\n",
       "    .dataframe tbody tr th {\n",
       "        vertical-align: top;\n",
       "    }\n",
       "\n",
       "    .dataframe thead th {\n",
       "        text-align: right;\n",
       "    }\n",
       "</style>\n",
       "<table border=\"1\" class=\"dataframe\">\n",
       "  <thead>\n",
       "    <tr style=\"text-align: right;\">\n",
       "      <th></th>\n",
       "      <th>substance_use_total</th>\n",
       "      <th>substance_use_total</th>\n",
       "    </tr>\n",
       "  </thead>\n",
       "  <tbody>\n",
       "    <tr>\n",
       "      <th>count</th>\n",
       "      <td>4281.000000</td>\n",
       "      <td>1863.000000</td>\n",
       "    </tr>\n",
       "    <tr>\n",
       "      <th>mean</th>\n",
       "      <td>0.561084</td>\n",
       "      <td>0.529791</td>\n",
       "    </tr>\n",
       "    <tr>\n",
       "      <th>std</th>\n",
       "      <td>1.196791</td>\n",
       "      <td>1.071077</td>\n",
       "    </tr>\n",
       "    <tr>\n",
       "      <th>min</th>\n",
       "      <td>0.000000</td>\n",
       "      <td>0.000000</td>\n",
       "    </tr>\n",
       "    <tr>\n",
       "      <th>25%</th>\n",
       "      <td>0.000000</td>\n",
       "      <td>0.000000</td>\n",
       "    </tr>\n",
       "    <tr>\n",
       "      <th>50%</th>\n",
       "      <td>0.000000</td>\n",
       "      <td>0.000000</td>\n",
       "    </tr>\n",
       "    <tr>\n",
       "      <th>75%</th>\n",
       "      <td>1.000000</td>\n",
       "      <td>1.000000</td>\n",
       "    </tr>\n",
       "    <tr>\n",
       "      <th>max</th>\n",
       "      <td>13.000000</td>\n",
       "      <td>11.000000</td>\n",
       "    </tr>\n",
       "  </tbody>\n",
       "</table>\n",
       "</div>"
      ],
      "text/plain": [
       "       substance_use_total  substance_use_total\n",
       "count          4281.000000          1863.000000\n",
       "mean              0.561084             0.529791\n",
       "std               1.196791             1.071077\n",
       "min               0.000000             0.000000\n",
       "25%               0.000000             0.000000\n",
       "50%               0.000000             0.000000\n",
       "75%               1.000000             1.000000\n",
       "max              13.000000            11.000000"
      ]
     },
     "execution_count": 15,
     "metadata": {},
     "output_type": "execute_result"
    }
   ],
   "source": [
    "pd.concat([schiz_pre.describe(), schiz_post.describe()], axis=1)"
   ]
  },
  {
   "cell_type": "markdown",
   "id": "2077c6a6-44d6-48f5-8785-32a48ad5801b",
   "metadata": {},
   "source": [
    "As you can see from the table above, there are far fewer records in the 'post' dataset. This is likely due to the fact that the 'post' dataset covers a far shorter period of time. As such, a simple comparison of the means of these two datasets should be taken with a grain of salt. A Z-test of comparison of means may be a good place to start with this dataset to understand if there is any significant difference between the means of these datasets"
   ]
  },
  {
   "cell_type": "code",
   "execution_count": 16,
   "id": "fdf6c4fb-59cf-4bd0-a8b7-6c97cb337aa5",
   "metadata": {},
   "outputs": [
    {
     "name": "stdout",
     "output_type": "stream",
     "text": [
      "Number of unique authors (posters) in 'pre' dataset: 4281\n",
      "Number of unique authors (posters) in 'post' dataset: 1863\n"
     ]
    }
   ],
   "source": [
    "print(f\"Number of unique authors (posters) in 'pre' dataset: {len(schiz_pre.author.unique())}\")\n",
    "print(f\"Number of unique authors (posters) in 'post' dataset: {len(schiz_post.author.unique())}\")"
   ]
  },
  {
   "cell_type": "markdown",
   "id": "fa0b6a4c-aa16-431e-88b7-c6d7546f7b86",
   "metadata": {},
   "source": [
    "So it looks as though **each** record/observation in each dataset is associated with a unique reddit user - which is great! That way we know we don't have - for example - an individual redditor who is contributing a disproportionate amount to our dataset. *Though* - it does then raise the question of how and why the assemblers of this dataset achieved this author-observation uniqueness."
   ]
  },
  {
   "cell_type": "code",
   "execution_count": null,
   "id": "4138b6dc-e827-4c7a-9971-20d4bb0004eb",
   "metadata": {},
   "outputs": [],
   "source": []
  }
 ],
 "metadata": {
  "kernelspec": {
   "display_name": "Python [conda env:531]",
   "language": "python",
   "name": "conda-env-531-py"
  },
  "language_info": {
   "codemirror_mode": {
    "name": "ipython",
    "version": 3
   },
   "file_extension": ".py",
   "mimetype": "text/x-python",
   "name": "python",
   "nbconvert_exporter": "python",
   "pygments_lexer": "ipython3",
   "version": "3.9.7"
  }
 },
 "nbformat": 4,
 "nbformat_minor": 5
}
