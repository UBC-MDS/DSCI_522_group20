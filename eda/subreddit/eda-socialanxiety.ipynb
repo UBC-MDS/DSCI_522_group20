{
 "cells": [
  {
   "cell_type": "code",
   "execution_count": 72,
   "id": "a76d8b0d-c823-4ff1-a631-ce8a4d5b3573",
   "metadata": {},
   "outputs": [],
   "source": [
    "import pandas as pd"
   ]
  },
  {
   "cell_type": "markdown",
   "id": "7d1b1bcd-932b-4436-89dc-e59576713d16",
   "metadata": {},
   "source": [
    "# Import Data"
   ]
  },
  {
   "cell_type": "code",
   "execution_count": 4,
   "id": "34ba5154-f339-4e6c-86d1-1c4d40d292d7",
   "metadata": {},
   "outputs": [],
   "source": [
    "social_anxiety_pre = pd.read_csv('data/socialanxiety_pre_features_tfidf_256.csv')\n",
    "social_anxiety_post = pd.read_csv('data/socialanxiety_post_features_tfidf_256.csv')"
   ]
  },
  {
   "cell_type": "markdown",
   "id": "25e60674-06df-4af3-af4d-3e6df594b5eb",
   "metadata": {},
   "source": [
    "# High-Level Look at Datasets"
   ]
  },
  {
   "cell_type": "markdown",
   "id": "9a7d33de-53b3-454b-b504-3d710d992a95",
   "metadata": {},
   "source": [
    "## Preface"
   ]
  },
  {
   "cell_type": "markdown",
   "id": "e4acba20-0580-4069-99d9-cf998edaeca3",
   "metadata": {},
   "source": [
    "These datasets contain a very large number of features. For this project we have selected _one_ feature of interest: `substance_use_total`. In order to accomplish our EDA task for Sunday 21st November, we will have to filter our dataset - and associated EDA tasks - to focus exclusively on this feature."
   ]
  },
  {
   "cell_type": "code",
   "execution_count": 19,
   "id": "4c369689-8851-4568-8ffc-aff28101d313",
   "metadata": {},
   "outputs": [],
   "source": [
    "social_anxiety_pre = social_anxiety_pre.loc[:, ['subreddit', 'author', 'date', 'post', 'substance_use_total']]\n",
    "social_anxiety_post = social_anxiety_post.loc[:, ['subreddit', 'author', 'date', 'post', 'substance_use_total']]"
   ]
  },
  {
   "cell_type": "markdown",
   "id": "f6531477-3d25-4bb0-85e4-a3439fb54f34",
   "metadata": {},
   "source": [
    "## 'Pre' Dataset"
   ]
  },
  {
   "cell_type": "code",
   "execution_count": 20,
   "id": "42ef3a27-6595-4da2-a598-50c30931e6c3",
   "metadata": {},
   "outputs": [
    {
     "data": {
      "text/html": [
       "<div>\n",
       "<style scoped>\n",
       "    .dataframe tbody tr th:only-of-type {\n",
       "        vertical-align: middle;\n",
       "    }\n",
       "\n",
       "    .dataframe tbody tr th {\n",
       "        vertical-align: top;\n",
       "    }\n",
       "\n",
       "    .dataframe thead th {\n",
       "        text-align: right;\n",
       "    }\n",
       "</style>\n",
       "<table border=\"1\" class=\"dataframe\">\n",
       "  <thead>\n",
       "    <tr style=\"text-align: right;\">\n",
       "      <th></th>\n",
       "      <th>subreddit</th>\n",
       "      <th>author</th>\n",
       "      <th>date</th>\n",
       "      <th>post</th>\n",
       "      <th>substance_use_total</th>\n",
       "    </tr>\n",
       "  </thead>\n",
       "  <tbody>\n",
       "    <tr>\n",
       "      <th>0</th>\n",
       "      <td>socialanxiety</td>\n",
       "      <td>blessyotrap</td>\n",
       "      <td>2019/05/14</td>\n",
       "      <td>Looking at this job application makes my heart...</td>\n",
       "      <td>0</td>\n",
       "    </tr>\n",
       "    <tr>\n",
       "      <th>1</th>\n",
       "      <td>socialanxiety</td>\n",
       "      <td>hamacule55</td>\n",
       "      <td>2019/05/14</td>\n",
       "      <td>What are the rules for life? What are the most...</td>\n",
       "      <td>1</td>\n",
       "    </tr>\n",
       "    <tr>\n",
       "      <th>2</th>\n",
       "      <td>socialanxiety</td>\n",
       "      <td>Greamo</td>\n",
       "      <td>2019/05/14</td>\n",
       "      <td>Should I go to the concert alone or get a refu...</td>\n",
       "      <td>0</td>\n",
       "    </tr>\n",
       "  </tbody>\n",
       "</table>\n",
       "</div>"
      ],
      "text/plain": [
       "       subreddit       author        date  \\\n",
       "0  socialanxiety  blessyotrap  2019/05/14   \n",
       "1  socialanxiety   hamacule55  2019/05/14   \n",
       "2  socialanxiety       Greamo  2019/05/14   \n",
       "\n",
       "                                                post  substance_use_total  \n",
       "0  Looking at this job application makes my heart...                    0  \n",
       "1  What are the rules for life? What are the most...                    1  \n",
       "2  Should I go to the concert alone or get a refu...                    0  "
      ]
     },
     "execution_count": 20,
     "metadata": {},
     "output_type": "execute_result"
    }
   ],
   "source": [
    "social_anxiety_pre.head(3)"
   ]
  },
  {
   "cell_type": "code",
   "execution_count": 21,
   "id": "3fa5d3c2-1f79-49a5-9027-73dd4823bffe",
   "metadata": {},
   "outputs": [
    {
     "data": {
      "text/html": [
       "<div>\n",
       "<style scoped>\n",
       "    .dataframe tbody tr th:only-of-type {\n",
       "        vertical-align: middle;\n",
       "    }\n",
       "\n",
       "    .dataframe tbody tr th {\n",
       "        vertical-align: top;\n",
       "    }\n",
       "\n",
       "    .dataframe thead th {\n",
       "        text-align: right;\n",
       "    }\n",
       "</style>\n",
       "<table border=\"1\" class=\"dataframe\">\n",
       "  <thead>\n",
       "    <tr style=\"text-align: right;\">\n",
       "      <th></th>\n",
       "      <th>subreddit</th>\n",
       "      <th>author</th>\n",
       "      <th>date</th>\n",
       "      <th>post</th>\n",
       "      <th>substance_use_total</th>\n",
       "    </tr>\n",
       "  </thead>\n",
       "  <tbody>\n",
       "    <tr>\n",
       "      <th>12274</th>\n",
       "      <td>socialanxiety</td>\n",
       "      <td>Isaacwiddo</td>\n",
       "      <td>2019/02/04</td>\n",
       "      <td>Anxiety blocking my passion, anyone experience...</td>\n",
       "      <td>0</td>\n",
       "    </tr>\n",
       "    <tr>\n",
       "      <th>12275</th>\n",
       "      <td>socialanxiety</td>\n",
       "      <td>teozzz</td>\n",
       "      <td>2019/02/04</td>\n",
       "      <td>I hate feeling like I can't be my own honest s...</td>\n",
       "      <td>0</td>\n",
       "    </tr>\n",
       "    <tr>\n",
       "      <th>12276</th>\n",
       "      <td>socialanxiety</td>\n",
       "      <td>sushi_ghost</td>\n",
       "      <td>2019/02/04</td>\n",
       "      <td>So i just got a job as a cashier at walmart......</td>\n",
       "      <td>0</td>\n",
       "    </tr>\n",
       "  </tbody>\n",
       "</table>\n",
       "</div>"
      ],
      "text/plain": [
       "           subreddit       author        date  \\\n",
       "12274  socialanxiety   Isaacwiddo  2019/02/04   \n",
       "12275  socialanxiety       teozzz  2019/02/04   \n",
       "12276  socialanxiety  sushi_ghost  2019/02/04   \n",
       "\n",
       "                                                    post  substance_use_total  \n",
       "12274  Anxiety blocking my passion, anyone experience...                    0  \n",
       "12275  I hate feeling like I can't be my own honest s...                    0  \n",
       "12276  So i just got a job as a cashier at walmart......                    0  "
      ]
     },
     "execution_count": 21,
     "metadata": {},
     "output_type": "execute_result"
    }
   ],
   "source": [
    "social_anxiety_pre.tail(3)"
   ]
  },
  {
   "cell_type": "code",
   "execution_count": 24,
   "id": "8816585b-ef87-4a8c-8d5b-69c7a09a6265",
   "metadata": {},
   "outputs": [
    {
     "name": "stdout",
     "output_type": "stream",
     "text": [
      "Total number of records in this dataset: 12277\n"
     ]
    },
    {
     "data": {
      "text/html": [
       "<div>\n",
       "<style scoped>\n",
       "    .dataframe tbody tr th:only-of-type {\n",
       "        vertical-align: middle;\n",
       "    }\n",
       "\n",
       "    .dataframe tbody tr th {\n",
       "        vertical-align: top;\n",
       "    }\n",
       "\n",
       "    .dataframe thead th {\n",
       "        text-align: right;\n",
       "    }\n",
       "</style>\n",
       "<table border=\"1\" class=\"dataframe\">\n",
       "  <thead>\n",
       "    <tr style=\"text-align: right;\">\n",
       "      <th></th>\n",
       "      <th>substance_use_total</th>\n",
       "    </tr>\n",
       "  </thead>\n",
       "  <tbody>\n",
       "    <tr>\n",
       "      <th>count</th>\n",
       "      <td>12277.000000</td>\n",
       "    </tr>\n",
       "    <tr>\n",
       "      <th>mean</th>\n",
       "      <td>0.435611</td>\n",
       "    </tr>\n",
       "    <tr>\n",
       "      <th>std</th>\n",
       "      <td>0.962152</td>\n",
       "    </tr>\n",
       "    <tr>\n",
       "      <th>min</th>\n",
       "      <td>0.000000</td>\n",
       "    </tr>\n",
       "    <tr>\n",
       "      <th>25%</th>\n",
       "      <td>0.000000</td>\n",
       "    </tr>\n",
       "    <tr>\n",
       "      <th>50%</th>\n",
       "      <td>0.000000</td>\n",
       "    </tr>\n",
       "    <tr>\n",
       "      <th>75%</th>\n",
       "      <td>1.000000</td>\n",
       "    </tr>\n",
       "    <tr>\n",
       "      <th>max</th>\n",
       "      <td>24.000000</td>\n",
       "    </tr>\n",
       "  </tbody>\n",
       "</table>\n",
       "</div>"
      ],
      "text/plain": [
       "       substance_use_total\n",
       "count         12277.000000\n",
       "mean              0.435611\n",
       "std               0.962152\n",
       "min               0.000000\n",
       "25%               0.000000\n",
       "50%               0.000000\n",
       "75%               1.000000\n",
       "max              24.000000"
      ]
     },
     "execution_count": 24,
     "metadata": {},
     "output_type": "execute_result"
    }
   ],
   "source": [
    "print(f'Total number of records in this dataset: {len(social_anxiety_pre)}')\n",
    "social_anxiety_pre.describe()"
   ]
  },
  {
   "cell_type": "markdown",
   "id": "a6f404b6-c93f-4e28-966a-886c7f7f5409",
   "metadata": {},
   "source": [
    "So it doesn't look like we're missing any values in the `socialanxiety_pre_features_tfidf_256.csv` dataset.\n",
    "Let's take a quick look at the distribution of number of mentions of substance use per post."
   ]
  },
  {
   "cell_type": "code",
   "execution_count": 35,
   "id": "4ebf7ea9-d9bf-4462-9df0-42aa5f5a0d07",
   "metadata": {},
   "outputs": [
    {
     "data": {
      "text/plain": [
       "<AxesSubplot:ylabel='Frequency'>"
      ]
     },
     "execution_count": 35,
     "metadata": {},
     "output_type": "execute_result"
    },
    {
     "data": {
      "image/png": "[encoded data removed]",
      "text/plain": [
       "<Figure size 432x288 with 1 Axes>"
      ]
     },
     "metadata": {
      "needs_background": "light"
     },
     "output_type": "display_data"
    }
   ],
   "source": [
    "social_anxiety_pre.plot.hist(bins=25)"
   ]
  },
  {
   "cell_type": "markdown",
   "id": "8b50cdf3-b36c-4be1-a42e-04b7418c6682",
   "metadata": {},
   "source": [
    "## 'Post' Dataset"
   ]
  },
  {
   "cell_type": "code",
   "execution_count": 36,
   "id": "d3925efb-6f94-4601-9caa-252f77c4a48c",
   "metadata": {},
   "outputs": [
    {
     "data": {
      "text/html": [
       "<div>\n",
       "<style scoped>\n",
       "    .dataframe tbody tr th:only-of-type {\n",
       "        vertical-align: middle;\n",
       "    }\n",
       "\n",
       "    .dataframe tbody tr th {\n",
       "        vertical-align: top;\n",
       "    }\n",
       "\n",
       "    .dataframe thead th {\n",
       "        text-align: right;\n",
       "    }\n",
       "</style>\n",
       "<table border=\"1\" class=\"dataframe\">\n",
       "  <thead>\n",
       "    <tr style=\"text-align: right;\">\n",
       "      <th></th>\n",
       "      <th>subreddit</th>\n",
       "      <th>author</th>\n",
       "      <th>date</th>\n",
       "      <th>post</th>\n",
       "      <th>substance_use_total</th>\n",
       "    </tr>\n",
       "  </thead>\n",
       "  <tbody>\n",
       "    <tr>\n",
       "      <th>0</th>\n",
       "      <td>socialanxiety</td>\n",
       "      <td>SyrahIsFat</td>\n",
       "      <td>2020/01/01</td>\n",
       "      <td>sertraline For anxiety Hi basically I have rea...</td>\n",
       "      <td>0</td>\n",
       "    </tr>\n",
       "    <tr>\n",
       "      <th>1</th>\n",
       "      <td>socialanxiety</td>\n",
       "      <td>FuckAUsername420</td>\n",
       "      <td>2020/01/01</td>\n",
       "      <td>Do you guys ever feel like you're a different ...</td>\n",
       "      <td>0</td>\n",
       "    </tr>\n",
       "    <tr>\n",
       "      <th>2</th>\n",
       "      <td>socialanxiety</td>\n",
       "      <td>blakppuch</td>\n",
       "      <td>2020/01/01</td>\n",
       "      <td>We had visitors and it wasn’t that bad. Over t...</td>\n",
       "      <td>1</td>\n",
       "    </tr>\n",
       "  </tbody>\n",
       "</table>\n",
       "</div>"
      ],
      "text/plain": [
       "       subreddit            author        date  \\\n",
       "0  socialanxiety        SyrahIsFat  2020/01/01   \n",
       "1  socialanxiety  FuckAUsername420  2020/01/01   \n",
       "2  socialanxiety         blakppuch  2020/01/01   \n",
       "\n",
       "                                                post  substance_use_total  \n",
       "0  sertraline For anxiety Hi basically I have rea...                    0  \n",
       "1  Do you guys ever feel like you're a different ...                    0  \n",
       "2  We had visitors and it wasn’t that bad. Over t...                    1  "
      ]
     },
     "execution_count": 36,
     "metadata": {},
     "output_type": "execute_result"
    }
   ],
   "source": [
    "social_anxiety_post.head(3)"
   ]
  },
  {
   "cell_type": "code",
   "execution_count": 37,
   "id": "70979032-290a-4f8a-8a91-2711056b98f1",
   "metadata": {},
   "outputs": [
    {
     "data": {
      "text/html": [
       "<div>\n",
       "<style scoped>\n",
       "    .dataframe tbody tr th:only-of-type {\n",
       "        vertical-align: middle;\n",
       "    }\n",
       "\n",
       "    .dataframe tbody tr th {\n",
       "        vertical-align: top;\n",
       "    }\n",
       "\n",
       "    .dataframe thead th {\n",
       "        text-align: right;\n",
       "    }\n",
       "</style>\n",
       "<table border=\"1\" class=\"dataframe\">\n",
       "  <thead>\n",
       "    <tr style=\"text-align: right;\">\n",
       "      <th></th>\n",
       "      <th>subreddit</th>\n",
       "      <th>author</th>\n",
       "      <th>date</th>\n",
       "      <th>post</th>\n",
       "      <th>substance_use_total</th>\n",
       "    </tr>\n",
       "  </thead>\n",
       "  <tbody>\n",
       "    <tr>\n",
       "      <th>3735</th>\n",
       "      <td>socialanxiety</td>\n",
       "      <td>xboom131</td>\n",
       "      <td>2020/04/20</td>\n",
       "      <td>Anxious on Social media Does anyone else get a...</td>\n",
       "      <td>0</td>\n",
       "    </tr>\n",
       "    <tr>\n",
       "      <th>3736</th>\n",
       "      <td>socialanxiety</td>\n",
       "      <td>Banaaaan12</td>\n",
       "      <td>2020/04/20</td>\n",
       "      <td>Helloo I have social anxiety and it really des...</td>\n",
       "      <td>0</td>\n",
       "    </tr>\n",
       "    <tr>\n",
       "      <th>3737</th>\n",
       "      <td>socialanxiety</td>\n",
       "      <td>dueterzi</td>\n",
       "      <td>2020/04/20</td>\n",
       "      <td>How do you deal with people telling you that y...</td>\n",
       "      <td>0</td>\n",
       "    </tr>\n",
       "  </tbody>\n",
       "</table>\n",
       "</div>"
      ],
      "text/plain": [
       "          subreddit      author        date  \\\n",
       "3735  socialanxiety    xboom131  2020/04/20   \n",
       "3736  socialanxiety  Banaaaan12  2020/04/20   \n",
       "3737  socialanxiety    dueterzi  2020/04/20   \n",
       "\n",
       "                                                   post  substance_use_total  \n",
       "3735  Anxious on Social media Does anyone else get a...                    0  \n",
       "3736  Helloo I have social anxiety and it really des...                    0  \n",
       "3737  How do you deal with people telling you that y...                    0  "
      ]
     },
     "execution_count": 37,
     "metadata": {},
     "output_type": "execute_result"
    }
   ],
   "source": [
    "social_anxiety_post.tail(3)"
   ]
  },
  {
   "cell_type": "code",
   "execution_count": 38,
   "id": "1bfa14d1-de35-4248-941a-431ebe8e00d0",
   "metadata": {},
   "outputs": [
    {
     "name": "stdout",
     "output_type": "stream",
     "text": [
      "Total number of records in this dataset: 3738\n"
     ]
    },
    {
     "data": {
      "text/html": [
       "<div>\n",
       "<style scoped>\n",
       "    .dataframe tbody tr th:only-of-type {\n",
       "        vertical-align: middle;\n",
       "    }\n",
       "\n",
       "    .dataframe tbody tr th {\n",
       "        vertical-align: top;\n",
       "    }\n",
       "\n",
       "    .dataframe thead th {\n",
       "        text-align: right;\n",
       "    }\n",
       "</style>\n",
       "<table border=\"1\" class=\"dataframe\">\n",
       "  <thead>\n",
       "    <tr style=\"text-align: right;\">\n",
       "      <th></th>\n",
       "      <th>substance_use_total</th>\n",
       "    </tr>\n",
       "  </thead>\n",
       "  <tbody>\n",
       "    <tr>\n",
       "      <th>count</th>\n",
       "      <td>3738.000000</td>\n",
       "    </tr>\n",
       "    <tr>\n",
       "      <th>mean</th>\n",
       "      <td>0.418406</td>\n",
       "    </tr>\n",
       "    <tr>\n",
       "      <th>std</th>\n",
       "      <td>0.921252</td>\n",
       "    </tr>\n",
       "    <tr>\n",
       "      <th>min</th>\n",
       "      <td>0.000000</td>\n",
       "    </tr>\n",
       "    <tr>\n",
       "      <th>25%</th>\n",
       "      <td>0.000000</td>\n",
       "    </tr>\n",
       "    <tr>\n",
       "      <th>50%</th>\n",
       "      <td>0.000000</td>\n",
       "    </tr>\n",
       "    <tr>\n",
       "      <th>75%</th>\n",
       "      <td>1.000000</td>\n",
       "    </tr>\n",
       "    <tr>\n",
       "      <th>max</th>\n",
       "      <td>10.000000</td>\n",
       "    </tr>\n",
       "  </tbody>\n",
       "</table>\n",
       "</div>"
      ],
      "text/plain": [
       "       substance_use_total\n",
       "count          3738.000000\n",
       "mean              0.418406\n",
       "std               0.921252\n",
       "min               0.000000\n",
       "25%               0.000000\n",
       "50%               0.000000\n",
       "75%               1.000000\n",
       "max              10.000000"
      ]
     },
     "execution_count": 38,
     "metadata": {},
     "output_type": "execute_result"
    }
   ],
   "source": [
    "print(f'Total number of records in this dataset: {len(social_anxiety_post)}')\n",
    "social_anxiety_post.describe()"
   ]
  },
  {
   "cell_type": "markdown",
   "id": "d3e57a0b-2e02-4b95-a907-0dc9b9d3940f",
   "metadata": {},
   "source": [
    "So it doesn't look like we're missing any values in the `socialanxiety_post_features_tfidf_256.csv` dataset.\n",
    "Let's take a quick look at the distribution of number of mentions of substance use per post."
   ]
  },
  {
   "cell_type": "code",
   "execution_count": 39,
   "id": "36ced534-5c90-4096-82cc-e909164a8c11",
   "metadata": {},
   "outputs": [
    {
     "data": {
      "text/plain": [
       "<AxesSubplot:ylabel='Frequency'>"
      ]
     },
     "execution_count": 39,
     "metadata": {},
     "output_type": "execute_result"
    },
    {
     "data": {
      "image/png": "[encoded data removed]",
      "text/plain": [
       "<Figure size 432x288 with 1 Axes>"
      ]
     },
     "metadata": {
      "needs_background": "light"
     },
     "output_type": "display_data"
    }
   ],
   "source": [
    "social_anxiety_post.plot.hist(bins=25)"
   ]
  },
  {
   "cell_type": "markdown",
   "id": "54e2a4d4-9ef1-42a3-9613-1db09abaab3d",
   "metadata": {},
   "source": [
    "## High-Level Comparison of Pre-Post Datasets"
   ]
  },
  {
   "cell_type": "code",
   "execution_count": 43,
   "id": "b9b0eae4-0f5f-402a-a61c-d517ef4cca12",
   "metadata": {},
   "outputs": [
    {
     "data": {
      "text/html": [
       "<div>\n",
       "<style scoped>\n",
       "    .dataframe tbody tr th:only-of-type {\n",
       "        vertical-align: middle;\n",
       "    }\n",
       "\n",
       "    .dataframe tbody tr th {\n",
       "        vertical-align: top;\n",
       "    }\n",
       "\n",
       "    .dataframe thead th {\n",
       "        text-align: right;\n",
       "    }\n",
       "</style>\n",
       "<table border=\"1\" class=\"dataframe\">\n",
       "  <thead>\n",
       "    <tr style=\"text-align: right;\">\n",
       "      <th></th>\n",
       "      <th>substance_use_total</th>\n",
       "      <th>substance_use_total</th>\n",
       "    </tr>\n",
       "  </thead>\n",
       "  <tbody>\n",
       "    <tr>\n",
       "      <th>count</th>\n",
       "      <td>12277.000000</td>\n",
       "      <td>3738.000000</td>\n",
       "    </tr>\n",
       "    <tr>\n",
       "      <th>mean</th>\n",
       "      <td>0.435611</td>\n",
       "      <td>0.418406</td>\n",
       "    </tr>\n",
       "    <tr>\n",
       "      <th>std</th>\n",
       "      <td>0.962152</td>\n",
       "      <td>0.921252</td>\n",
       "    </tr>\n",
       "    <tr>\n",
       "      <th>min</th>\n",
       "      <td>0.000000</td>\n",
       "      <td>0.000000</td>\n",
       "    </tr>\n",
       "    <tr>\n",
       "      <th>25%</th>\n",
       "      <td>0.000000</td>\n",
       "      <td>0.000000</td>\n",
       "    </tr>\n",
       "    <tr>\n",
       "      <th>50%</th>\n",
       "      <td>0.000000</td>\n",
       "      <td>0.000000</td>\n",
       "    </tr>\n",
       "    <tr>\n",
       "      <th>75%</th>\n",
       "      <td>1.000000</td>\n",
       "      <td>1.000000</td>\n",
       "    </tr>\n",
       "    <tr>\n",
       "      <th>max</th>\n",
       "      <td>24.000000</td>\n",
       "      <td>10.000000</td>\n",
       "    </tr>\n",
       "  </tbody>\n",
       "</table>\n",
       "</div>"
      ],
      "text/plain": [
       "       substance_use_total  substance_use_total\n",
       "count         12277.000000          3738.000000\n",
       "mean              0.435611             0.418406\n",
       "std               0.962152             0.921252\n",
       "min               0.000000             0.000000\n",
       "25%               0.000000             0.000000\n",
       "50%               0.000000             0.000000\n",
       "75%               1.000000             1.000000\n",
       "max              24.000000            10.000000"
      ]
     },
     "execution_count": 43,
     "metadata": {},
     "output_type": "execute_result"
    }
   ],
   "source": [
    "pd.concat([social_anxiety_pre.describe(), social_anxiety_post.describe()], axis=1)"
   ]
  },
  {
   "cell_type": "markdown",
   "id": "2077c6a6-44d6-48f5-8785-32a48ad5801b",
   "metadata": {},
   "source": [
    "As you can see from the table above, there are far fewer records in the 'post' dataset. This is likely due to the fact that the 'post' dataset covers a far shorter period of time. As such, a simple comparison of the means of these two datasets should be taken with a grain of salt. A Z-test of comparison of means may be a good place to start with this dataset to understand if there is any significant difference between the means of these datasets"
   ]
  },
  {
   "cell_type": "code",
   "execution_count": 70,
   "id": "fdf6c4fb-59cf-4bd0-a8b7-6c97cb337aa5",
   "metadata": {},
   "outputs": [
    {
     "name": "stdout",
     "output_type": "stream",
     "text": [
      "Number of unique authors (posters) in 'pre' dataset: 12277\n",
      "Number of unique authors (posters) in 'post' dataset: 3738\n"
     ]
    }
   ],
   "source": [
    "print(f\"Number of unique authors (posters) in 'pre' dataset: {len(social_anxiety_pre.author.unique())}\")\n",
    "print(f\"Number of unique authors (posters) in 'post' dataset: {len(social_anxiety_post.author.unique())}\")"
   ]
  },
  {
   "cell_type": "markdown",
   "id": "fa0b6a4c-aa16-431e-88b7-c6d7546f7b86",
   "metadata": {},
   "source": [
    "So it looks as though **each** record/observation in each dataset is associated with a unique reddit user - which is great! That way we know we don't have - for example - an individual redditor who is contributing a disproportionate amount to our dataset. *Though* - it does then raise the question of how and why the assemblers of this dataset achieved this author-observation uniqueness."
   ]
  },
  {
   "cell_type": "code",
   "execution_count": null,
   "id": "4138b6dc-e827-4c7a-9971-20d4bb0004eb",
   "metadata": {},
   "outputs": [],
   "source": []
  }
 ],
 "metadata": {
  "kernelspec": {
   "display_name": "Python [conda env:531]",
   "language": "python",
   "name": "conda-env-531-py"
  },
  "language_info": {
   "codemirror_mode": {
    "name": "ipython",
    "version": 3
   },
   "file_extension": ".py",
   "mimetype": "text/x-python",
   "name": "python",
   "nbconvert_exporter": "python",
   "pygments_lexer": "ipython3",
   "version": "3.9.7"
  }
 },
 "nbformat": 4,
 "nbformat_minor": 5
}
