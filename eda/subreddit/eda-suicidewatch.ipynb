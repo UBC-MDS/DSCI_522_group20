{
 "cells": [
  {
   "cell_type": "code",
   "execution_count": 1,
   "id": "a76d8b0d-c823-4ff1-a631-ce8a4d5b3573",
   "metadata": {},
   "outputs": [],
   "source": [
    "import pandas as pd"
   ]
  },
  {
   "cell_type": "markdown",
   "id": "7d1b1bcd-932b-4436-89dc-e59576713d16",
   "metadata": {},
   "source": [
    "# Import Data"
   ]
  },
  {
   "cell_type": "code",
   "execution_count": 2,
   "id": "34ba5154-f339-4e6c-86d1-1c4d40d292d7",
   "metadata": {},
   "outputs": [],
   "source": [
    "suicide_pre = pd.read_csv('data/suicidewatch_pre_features_tfidf_256.csv')\n",
    "suicide_post = pd.read_csv('data/suicidewatch_post_features_tfidf_256.csv')"
   ]
  },
  {
   "cell_type": "markdown",
   "id": "25e60674-06df-4af3-af4d-3e6df594b5eb",
   "metadata": {},
   "source": [
    "# High-Level Look at Datasets"
   ]
  },
  {
   "cell_type": "markdown",
   "id": "9a7d33de-53b3-454b-b504-3d710d992a95",
   "metadata": {},
   "source": [
    "## Preface"
   ]
  },
  {
   "cell_type": "markdown",
   "id": "e4acba20-0580-4069-99d9-cf998edaeca3",
   "metadata": {},
   "source": [
    "These datasets contain a very large number of features. For this project we have selected _one_ feature of interest: `substance_use_total`. In order to accomplish our EDA task for Sunday 21st November, we will have to filter our dataset - and associated EDA tasks - to focus exclusively on this feature."
   ]
  },
  {
   "cell_type": "code",
   "execution_count": 3,
   "id": "4c369689-8851-4568-8ffc-aff28101d313",
   "metadata": {},
   "outputs": [],
   "source": [
    "suicide_pre = suicide_pre.loc[:, ['subreddit', 'author', 'date', 'post', 'substance_use_total']]\n",
    "suicide_post = suicide_post.loc[:, ['subreddit', 'author', 'date', 'post', 'substance_use_total']]"
   ]
  },
  {
   "cell_type": "markdown",
   "id": "f6531477-3d25-4bb0-85e4-a3439fb54f34",
   "metadata": {},
   "source": [
    "## 'Pre' Dataset"
   ]
  },
  {
   "cell_type": "code",
   "execution_count": 4,
   "id": "42ef3a27-6595-4da2-a598-50c30931e6c3",
   "metadata": {},
   "outputs": [
    {
     "data": {
      "text/html": [
       "<div>\n",
       "<style scoped>\n",
       "    .dataframe tbody tr th:only-of-type {\n",
       "        vertical-align: middle;\n",
       "    }\n",
       "\n",
       "    .dataframe tbody tr th {\n",
       "        vertical-align: top;\n",
       "    }\n",
       "\n",
       "    .dataframe thead th {\n",
       "        text-align: right;\n",
       "    }\n",
       "</style>\n",
       "<table border=\"1\" class=\"dataframe\">\n",
       "  <thead>\n",
       "    <tr style=\"text-align: right;\">\n",
       "      <th></th>\n",
       "      <th>subreddit</th>\n",
       "      <th>author</th>\n",
       "      <th>date</th>\n",
       "      <th>post</th>\n",
       "      <th>substance_use_total</th>\n",
       "    </tr>\n",
       "  </thead>\n",
       "  <tbody>\n",
       "    <tr>\n",
       "      <th>0</th>\n",
       "      <td>suicidewatch</td>\n",
       "      <td>pleasethinkIogically</td>\n",
       "      <td>2018/11/28</td>\n",
       "      <td>I want to kill myself, but my ex (who I would ...</td>\n",
       "      <td>0</td>\n",
       "    </tr>\n",
       "    <tr>\n",
       "      <th>1</th>\n",
       "      <td>suicidewatch</td>\n",
       "      <td>sirgregoryelliott</td>\n",
       "      <td>2018/11/28</td>\n",
       "      <td>I’ve been slowly turning to the dark side. Jok...</td>\n",
       "      <td>1</td>\n",
       "    </tr>\n",
       "    <tr>\n",
       "      <th>2</th>\n",
       "      <td>suicidewatch</td>\n",
       "      <td>ninja1635</td>\n",
       "      <td>2018/11/28</td>\n",
       "      <td>I'm about I'm a very talkative person and real...</td>\n",
       "      <td>2</td>\n",
       "    </tr>\n",
       "  </tbody>\n",
       "</table>\n",
       "</div>"
      ],
      "text/plain": [
       "      subreddit                author        date  \\\n",
       "0  suicidewatch  pleasethinkIogically  2018/11/28   \n",
       "1  suicidewatch     sirgregoryelliott  2018/11/28   \n",
       "2  suicidewatch             ninja1635  2018/11/28   \n",
       "\n",
       "                                                post  substance_use_total  \n",
       "0  I want to kill myself, but my ex (who I would ...                    0  \n",
       "1  I’ve been slowly turning to the dark side. Jok...                    1  \n",
       "2  I'm about I'm a very talkative person and real...                    2  "
      ]
     },
     "execution_count": 4,
     "metadata": {},
     "output_type": "execute_result"
    }
   ],
   "source": [
    "suicide_pre.head(3)"
   ]
  },
  {
   "cell_type": "code",
   "execution_count": 5,
   "id": "3fa5d3c2-1f79-49a5-9027-73dd4823bffe",
   "metadata": {},
   "outputs": [
    {
     "data": {
      "text/html": [
       "<div>\n",
       "<style scoped>\n",
       "    .dataframe tbody tr th:only-of-type {\n",
       "        vertical-align: middle;\n",
       "    }\n",
       "\n",
       "    .dataframe tbody tr th {\n",
       "        vertical-align: top;\n",
       "    }\n",
       "\n",
       "    .dataframe thead th {\n",
       "        text-align: right;\n",
       "    }\n",
       "</style>\n",
       "<table border=\"1\" class=\"dataframe\">\n",
       "  <thead>\n",
       "    <tr style=\"text-align: right;\">\n",
       "      <th></th>\n",
       "      <th>subreddit</th>\n",
       "      <th>author</th>\n",
       "      <th>date</th>\n",
       "      <th>post</th>\n",
       "      <th>substance_use_total</th>\n",
       "    </tr>\n",
       "  </thead>\n",
       "  <tbody>\n",
       "    <tr>\n",
       "      <th>19941</th>\n",
       "      <td>suicidewatch</td>\n",
       "      <td>frickmeup666</td>\n",
       "      <td>2018/12/01</td>\n",
       "      <td>The harder I swim the faster I sink Just feel ...</td>\n",
       "      <td>0</td>\n",
       "    </tr>\n",
       "    <tr>\n",
       "      <th>19942</th>\n",
       "      <td>suicidewatch</td>\n",
       "      <td>Sadgirltimes</td>\n",
       "      <td>2018/12/01</td>\n",
       "      <td>Reasons to live I'm not in a good place right ...</td>\n",
       "      <td>0</td>\n",
       "    </tr>\n",
       "    <tr>\n",
       "      <th>19943</th>\n",
       "      <td>suicidewatch</td>\n",
       "      <td>anon131318</td>\n",
       "      <td>2018/12/01</td>\n",
       "      <td>just wanna die already life is boring and depr...</td>\n",
       "      <td>0</td>\n",
       "    </tr>\n",
       "  </tbody>\n",
       "</table>\n",
       "</div>"
      ],
      "text/plain": [
       "          subreddit        author        date  \\\n",
       "19941  suicidewatch  frickmeup666  2018/12/01   \n",
       "19942  suicidewatch  Sadgirltimes  2018/12/01   \n",
       "19943  suicidewatch    anon131318  2018/12/01   \n",
       "\n",
       "                                                    post  substance_use_total  \n",
       "19941  The harder I swim the faster I sink Just feel ...                    0  \n",
       "19942  Reasons to live I'm not in a good place right ...                    0  \n",
       "19943  just wanna die already life is boring and depr...                    0  "
      ]
     },
     "execution_count": 5,
     "metadata": {},
     "output_type": "execute_result"
    }
   ],
   "source": [
    "suicide_pre.tail(3)"
   ]
  },
  {
   "cell_type": "code",
   "execution_count": 6,
   "id": "8816585b-ef87-4a8c-8d5b-69c7a09a6265",
   "metadata": {},
   "outputs": [
    {
     "name": "stdout",
     "output_type": "stream",
     "text": [
      "Total number of records in this dataset: 19944\n"
     ]
    },
    {
     "data": {
      "text/html": [
       "<div>\n",
       "<style scoped>\n",
       "    .dataframe tbody tr th:only-of-type {\n",
       "        vertical-align: middle;\n",
       "    }\n",
       "\n",
       "    .dataframe tbody tr th {\n",
       "        vertical-align: top;\n",
       "    }\n",
       "\n",
       "    .dataframe thead th {\n",
       "        text-align: right;\n",
       "    }\n",
       "</style>\n",
       "<table border=\"1\" class=\"dataframe\">\n",
       "  <thead>\n",
       "    <tr style=\"text-align: right;\">\n",
       "      <th></th>\n",
       "      <th>substance_use_total</th>\n",
       "    </tr>\n",
       "  </thead>\n",
       "  <tbody>\n",
       "    <tr>\n",
       "      <th>count</th>\n",
       "      <td>19944.000000</td>\n",
       "    </tr>\n",
       "    <tr>\n",
       "      <th>mean</th>\n",
       "      <td>0.384928</td>\n",
       "    </tr>\n",
       "    <tr>\n",
       "      <th>std</th>\n",
       "      <td>0.895982</td>\n",
       "    </tr>\n",
       "    <tr>\n",
       "      <th>min</th>\n",
       "      <td>0.000000</td>\n",
       "    </tr>\n",
       "    <tr>\n",
       "      <th>25%</th>\n",
       "      <td>0.000000</td>\n",
       "    </tr>\n",
       "    <tr>\n",
       "      <th>50%</th>\n",
       "      <td>0.000000</td>\n",
       "    </tr>\n",
       "    <tr>\n",
       "      <th>75%</th>\n",
       "      <td>0.000000</td>\n",
       "    </tr>\n",
       "    <tr>\n",
       "      <th>max</th>\n",
       "      <td>21.000000</td>\n",
       "    </tr>\n",
       "  </tbody>\n",
       "</table>\n",
       "</div>"
      ],
      "text/plain": [
       "       substance_use_total\n",
       "count         19944.000000\n",
       "mean              0.384928\n",
       "std               0.895982\n",
       "min               0.000000\n",
       "25%               0.000000\n",
       "50%               0.000000\n",
       "75%               0.000000\n",
       "max              21.000000"
      ]
     },
     "execution_count": 6,
     "metadata": {},
     "output_type": "execute_result"
    }
   ],
   "source": [
    "print(f'Total number of records in this dataset: {len(suicide_pre)}')\n",
    "suicide_pre.describe()"
   ]
  },
  {
   "cell_type": "markdown",
   "id": "a6f404b6-c93f-4e28-966a-886c7f7f5409",
   "metadata": {},
   "source": [
    "So it doesn't look like we're missing any values in the `suicidewatch_pre_features_tfidf_256.csv` dataset.\n",
    "Let's take a quick look at the distribution of number of mentions of substance use per post."
   ]
  },
  {
   "cell_type": "code",
   "execution_count": 7,
   "id": "4ebf7ea9-d9bf-4462-9df0-42aa5f5a0d07",
   "metadata": {},
   "outputs": [
    {
     "data": {
      "text/plain": [
       "<AxesSubplot:ylabel='Frequency'>"
      ]
     },
     "execution_count": 7,
     "metadata": {},
     "output_type": "execute_result"
    },
    {
     "data": {
      "image/png": "[encoded data removed]",
      "text/plain": [
       "<Figure size 432x288 with 1 Axes>"
      ]
     },
     "metadata": {
      "needs_background": "light"
     },
     "output_type": "display_data"
    }
   ],
   "source": [
    "suicide_pre.plot.hist(bins=25)"
   ]
  },
  {
   "cell_type": "markdown",
   "id": "8b50cdf3-b36c-4be1-a42e-04b7418c6682",
   "metadata": {},
   "source": [
    "## 'Post' Dataset"
   ]
  },
  {
   "cell_type": "code",
   "execution_count": 8,
   "id": "d3925efb-6f94-4601-9caa-252f77c4a48c",
   "metadata": {},
   "outputs": [
    {
     "data": {
      "text/html": [
       "<div>\n",
       "<style scoped>\n",
       "    .dataframe tbody tr th:only-of-type {\n",
       "        vertical-align: middle;\n",
       "    }\n",
       "\n",
       "    .dataframe tbody tr th {\n",
       "        vertical-align: top;\n",
       "    }\n",
       "\n",
       "    .dataframe thead th {\n",
       "        text-align: right;\n",
       "    }\n",
       "</style>\n",
       "<table border=\"1\" class=\"dataframe\">\n",
       "  <thead>\n",
       "    <tr style=\"text-align: right;\">\n",
       "      <th></th>\n",
       "      <th>subreddit</th>\n",
       "      <th>author</th>\n",
       "      <th>date</th>\n",
       "      <th>post</th>\n",
       "      <th>substance_use_total</th>\n",
       "    </tr>\n",
       "  </thead>\n",
       "  <tbody>\n",
       "    <tr>\n",
       "      <th>0</th>\n",
       "      <td>suicidewatch</td>\n",
       "      <td>Dancing_Angel</td>\n",
       "      <td>2020/01/01</td>\n",
       "      <td>How do you guys feel less dead inside? I've go...</td>\n",
       "      <td>0</td>\n",
       "    </tr>\n",
       "    <tr>\n",
       "      <th>1</th>\n",
       "      <td>suicidewatch</td>\n",
       "      <td>wjufh</td>\n",
       "      <td>2020/01/01</td>\n",
       "      <td>i want to get help but i don’t know how my par...</td>\n",
       "      <td>0</td>\n",
       "    </tr>\n",
       "    <tr>\n",
       "      <th>2</th>\n",
       "      <td>suicidewatch</td>\n",
       "      <td>Effective-Letterhead</td>\n",
       "      <td>2020/01/01</td>\n",
       "      <td>I can’t stop myself from loving this fictional...</td>\n",
       "      <td>0</td>\n",
       "    </tr>\n",
       "  </tbody>\n",
       "</table>\n",
       "</div>"
      ],
      "text/plain": [
       "      subreddit                author        date  \\\n",
       "0  suicidewatch         Dancing_Angel  2020/01/01   \n",
       "1  suicidewatch                 wjufh  2020/01/01   \n",
       "2  suicidewatch  Effective-Letterhead  2020/01/01   \n",
       "\n",
       "                                                post  substance_use_total  \n",
       "0  How do you guys feel less dead inside? I've go...                    0  \n",
       "1  i want to get help but i don’t know how my par...                    0  \n",
       "2  I can’t stop myself from loving this fictional...                    0  "
      ]
     },
     "execution_count": 8,
     "metadata": {},
     "output_type": "execute_result"
    }
   ],
   "source": [
    "suicide_post.head(3)"
   ]
  },
  {
   "cell_type": "code",
   "execution_count": 9,
   "id": "70979032-290a-4f8a-8a91-2711056b98f1",
   "metadata": {},
   "outputs": [
    {
     "data": {
      "text/html": [
       "<div>\n",
       "<style scoped>\n",
       "    .dataframe tbody tr th:only-of-type {\n",
       "        vertical-align: middle;\n",
       "    }\n",
       "\n",
       "    .dataframe tbody tr th {\n",
       "        vertical-align: top;\n",
       "    }\n",
       "\n",
       "    .dataframe thead th {\n",
       "        text-align: right;\n",
       "    }\n",
       "</style>\n",
       "<table border=\"1\" class=\"dataframe\">\n",
       "  <thead>\n",
       "    <tr style=\"text-align: right;\">\n",
       "      <th></th>\n",
       "      <th>subreddit</th>\n",
       "      <th>author</th>\n",
       "      <th>date</th>\n",
       "      <th>post</th>\n",
       "      <th>substance_use_total</th>\n",
       "    </tr>\n",
       "  </thead>\n",
       "  <tbody>\n",
       "    <tr>\n",
       "      <th>21407</th>\n",
       "      <td>suicidewatch</td>\n",
       "      <td>acshit</td>\n",
       "      <td>2020/04/20</td>\n",
       "      <td>I’m going to fucking kill myself 18 years too ...</td>\n",
       "      <td>0</td>\n",
       "    </tr>\n",
       "    <tr>\n",
       "      <th>21408</th>\n",
       "      <td>suicidewatch</td>\n",
       "      <td>Haunting-Maybe</td>\n",
       "      <td>2020/04/20</td>\n",
       "      <td>I’m going to pieces All I’ve done for about a ...</td>\n",
       "      <td>2</td>\n",
       "    </tr>\n",
       "    <tr>\n",
       "      <th>21409</th>\n",
       "      <td>suicidewatch</td>\n",
       "      <td>seafoamangeltears</td>\n",
       "      <td>2020/04/20</td>\n",
       "      <td>sigh it's been a wild couple of weeks...i'm ve...</td>\n",
       "      <td>0</td>\n",
       "    </tr>\n",
       "  </tbody>\n",
       "</table>\n",
       "</div>"
      ],
      "text/plain": [
       "          subreddit             author        date  \\\n",
       "21407  suicidewatch             acshit  2020/04/20   \n",
       "21408  suicidewatch     Haunting-Maybe  2020/04/20   \n",
       "21409  suicidewatch  seafoamangeltears  2020/04/20   \n",
       "\n",
       "                                                    post  substance_use_total  \n",
       "21407  I’m going to fucking kill myself 18 years too ...                    0  \n",
       "21408  I’m going to pieces All I’ve done for about a ...                    2  \n",
       "21409  sigh it's been a wild couple of weeks...i'm ve...                    0  "
      ]
     },
     "execution_count": 9,
     "metadata": {},
     "output_type": "execute_result"
    }
   ],
   "source": [
    "suicide_post.tail(3)"
   ]
  },
  {
   "cell_type": "code",
   "execution_count": 10,
   "id": "1bfa14d1-de35-4248-941a-431ebe8e00d0",
   "metadata": {},
   "outputs": [
    {
     "name": "stdout",
     "output_type": "stream",
     "text": [
      "Total number of records in this dataset: 21410\n"
     ]
    },
    {
     "data": {
      "text/html": [
       "<div>\n",
       "<style scoped>\n",
       "    .dataframe tbody tr th:only-of-type {\n",
       "        vertical-align: middle;\n",
       "    }\n",
       "\n",
       "    .dataframe tbody tr th {\n",
       "        vertical-align: top;\n",
       "    }\n",
       "\n",
       "    .dataframe thead th {\n",
       "        text-align: right;\n",
       "    }\n",
       "</style>\n",
       "<table border=\"1\" class=\"dataframe\">\n",
       "  <thead>\n",
       "    <tr style=\"text-align: right;\">\n",
       "      <th></th>\n",
       "      <th>substance_use_total</th>\n",
       "    </tr>\n",
       "  </thead>\n",
       "  <tbody>\n",
       "    <tr>\n",
       "      <th>count</th>\n",
       "      <td>21410.000000</td>\n",
       "    </tr>\n",
       "    <tr>\n",
       "      <th>mean</th>\n",
       "      <td>0.402382</td>\n",
       "    </tr>\n",
       "    <tr>\n",
       "      <th>std</th>\n",
       "      <td>0.901949</td>\n",
       "    </tr>\n",
       "    <tr>\n",
       "      <th>min</th>\n",
       "      <td>0.000000</td>\n",
       "    </tr>\n",
       "    <tr>\n",
       "      <th>25%</th>\n",
       "      <td>0.000000</td>\n",
       "    </tr>\n",
       "    <tr>\n",
       "      <th>50%</th>\n",
       "      <td>0.000000</td>\n",
       "    </tr>\n",
       "    <tr>\n",
       "      <th>75%</th>\n",
       "      <td>1.000000</td>\n",
       "    </tr>\n",
       "    <tr>\n",
       "      <th>max</th>\n",
       "      <td>16.000000</td>\n",
       "    </tr>\n",
       "  </tbody>\n",
       "</table>\n",
       "</div>"
      ],
      "text/plain": [
       "       substance_use_total\n",
       "count         21410.000000\n",
       "mean              0.402382\n",
       "std               0.901949\n",
       "min               0.000000\n",
       "25%               0.000000\n",
       "50%               0.000000\n",
       "75%               1.000000\n",
       "max              16.000000"
      ]
     },
     "execution_count": 10,
     "metadata": {},
     "output_type": "execute_result"
    }
   ],
   "source": [
    "print(f'Total number of records in this dataset: {len(suicide_post)}')\n",
    "suicide_post.describe()"
   ]
  },
  {
   "cell_type": "markdown",
   "id": "d3e57a0b-2e02-4b95-a907-0dc9b9d3940f",
   "metadata": {},
   "source": [
    "So it doesn't look like we're missing any values in the `suicidewatch_post_features_tfidf_256.csv` dataset.\n",
    "Let's take a quick look at the distribution of number of mentions of substance use per post."
   ]
  },
  {
   "cell_type": "code",
   "execution_count": 11,
   "id": "36ced534-5c90-4096-82cc-e909164a8c11",
   "metadata": {},
   "outputs": [
    {
     "data": {
      "text/plain": [
       "<AxesSubplot:ylabel='Frequency'>"
      ]
     },
     "execution_count": 11,
     "metadata": {},
     "output_type": "execute_result"
    },
    {
     "data": {
      "image/png": "[encoded data removed]",
      "text/plain": [
       "<Figure size 432x288 with 1 Axes>"
      ]
     },
     "metadata": {
      "needs_background": "light"
     },
     "output_type": "display_data"
    }
   ],
   "source": [
    "suicide_post.plot.hist(bins=25)"
   ]
  },
  {
   "cell_type": "markdown",
   "id": "54e2a4d4-9ef1-42a3-9613-1db09abaab3d",
   "metadata": {},
   "source": [
    "## High-Level Comparison of Pre-Post Datasets"
   ]
  },
  {
   "cell_type": "code",
   "execution_count": 12,
   "id": "b9b0eae4-0f5f-402a-a61c-d517ef4cca12",
   "metadata": {},
   "outputs": [
    {
     "data": {
      "text/html": [
       "<div>\n",
       "<style scoped>\n",
       "    .dataframe tbody tr th:only-of-type {\n",
       "        vertical-align: middle;\n",
       "    }\n",
       "\n",
       "    .dataframe tbody tr th {\n",
       "        vertical-align: top;\n",
       "    }\n",
       "\n",
       "    .dataframe thead th {\n",
       "        text-align: right;\n",
       "    }\n",
       "</style>\n",
       "<table border=\"1\" class=\"dataframe\">\n",
       "  <thead>\n",
       "    <tr style=\"text-align: right;\">\n",
       "      <th></th>\n",
       "      <th>substance_use_total</th>\n",
       "      <th>substance_use_total</th>\n",
       "    </tr>\n",
       "  </thead>\n",
       "  <tbody>\n",
       "    <tr>\n",
       "      <th>count</th>\n",
       "      <td>19944.000000</td>\n",
       "      <td>21410.000000</td>\n",
       "    </tr>\n",
       "    <tr>\n",
       "      <th>mean</th>\n",
       "      <td>0.384928</td>\n",
       "      <td>0.402382</td>\n",
       "    </tr>\n",
       "    <tr>\n",
       "      <th>std</th>\n",
       "      <td>0.895982</td>\n",
       "      <td>0.901949</td>\n",
       "    </tr>\n",
       "    <tr>\n",
       "      <th>min</th>\n",
       "      <td>0.000000</td>\n",
       "      <td>0.000000</td>\n",
       "    </tr>\n",
       "    <tr>\n",
       "      <th>25%</th>\n",
       "      <td>0.000000</td>\n",
       "      <td>0.000000</td>\n",
       "    </tr>\n",
       "    <tr>\n",
       "      <th>50%</th>\n",
       "      <td>0.000000</td>\n",
       "      <td>0.000000</td>\n",
       "    </tr>\n",
       "    <tr>\n",
       "      <th>75%</th>\n",
       "      <td>0.000000</td>\n",
       "      <td>1.000000</td>\n",
       "    </tr>\n",
       "    <tr>\n",
       "      <th>max</th>\n",
       "      <td>21.000000</td>\n",
       "      <td>16.000000</td>\n",
       "    </tr>\n",
       "  </tbody>\n",
       "</table>\n",
       "</div>"
      ],
      "text/plain": [
       "       substance_use_total  substance_use_total\n",
       "count         19944.000000         21410.000000\n",
       "mean              0.384928             0.402382\n",
       "std               0.895982             0.901949\n",
       "min               0.000000             0.000000\n",
       "25%               0.000000             0.000000\n",
       "50%               0.000000             0.000000\n",
       "75%               0.000000             1.000000\n",
       "max              21.000000            16.000000"
      ]
     },
     "execution_count": 12,
     "metadata": {},
     "output_type": "execute_result"
    }
   ],
   "source": [
    "pd.concat([suicide_pre.describe(), suicide_post.describe()], axis=1)"
   ]
  },
  {
   "cell_type": "markdown",
   "id": "2077c6a6-44d6-48f5-8785-32a48ad5801b",
   "metadata": {},
   "source": [
    "As you can see from the table above, there are roughly an equal number records in the 'post' dataset as there are in the 'pre' dataset. This is surprising given that the 'post' dataset covers a far shorter period of time that the 'pre' dataset. In any case, a simple comparison of the means of these two datasets should be taken with a grain of salt. A Z-test of comparison of means may be a good place to start with this dataset to understand if there is any significant difference between the means of these datasets"
   ]
  },
  {
   "cell_type": "code",
   "execution_count": 14,
   "id": "fdf6c4fb-59cf-4bd0-a8b7-6c97cb337aa5",
   "metadata": {},
   "outputs": [
    {
     "name": "stdout",
     "output_type": "stream",
     "text": [
      "Number of unique authors (posters) in 'pre' dataset: 19944\n",
      "Number of unique authors (posters) in 'post' dataset: 21410\n"
     ]
    }
   ],
   "source": [
    "print(f\"Number of unique authors (posters) in 'pre' dataset: {len(suicide_pre.author.unique())}\")\n",
    "print(f\"Number of unique authors (posters) in 'post' dataset: {len(suicide_post.author.unique())}\")"
   ]
  },
  {
   "cell_type": "markdown",
   "id": "fa0b6a4c-aa16-431e-88b7-c6d7546f7b86",
   "metadata": {},
   "source": [
    "So it looks as though **each** record/observation in each dataset is associated with a unique reddit user - which is great! That way we know we don't have - for example - an individual redditor who is contributing a disproportionate amount to our dataset. *Though* - it does then raise the question of how and why the assemblers of this dataset achieved this author-observation uniqueness."
   ]
  },
  {
   "cell_type": "code",
   "execution_count": null,
   "id": "4138b6dc-e827-4c7a-9971-20d4bb0004eb",
   "metadata": {},
   "outputs": [],
   "source": []
  }
 ],
 "metadata": {
  "kernelspec": {
   "display_name": "Python [conda env:531]",
   "language": "python",
   "name": "conda-env-531-py"
  },
  "language_info": {
   "codemirror_mode": {
    "name": "ipython",
    "version": 3
   },
   "file_extension": ".py",
   "mimetype": "text/x-python",
   "name": "python",
   "nbconvert_exporter": "python",
   "pygments_lexer": "ipython3",
   "version": "3.9.7"
  }
 },
 "nbformat": 4,
 "nbformat_minor": 5
}
